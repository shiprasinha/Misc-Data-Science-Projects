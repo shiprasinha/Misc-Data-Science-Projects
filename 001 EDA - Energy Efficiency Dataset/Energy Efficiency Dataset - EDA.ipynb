{
 "cells": [
  {
   "cell_type": "code",
   "execution_count": 86,
   "id": "0027cc43",
   "metadata": {},
   "outputs": [],
   "source": [
    "import pandas as pd\n",
    "import matplotlib.pyplot as plt\n",
    "import numpy as np\n",
    "import seaborn as sns\n",
    "from matplotlib.patches import Patch"
   ]
  },
  {
   "cell_type": "code",
   "execution_count": 68,
   "id": "39017cac",
   "metadata": {},
   "outputs": [],
   "source": [
    "column_names=['rel_compact', 'surface_a', 'wall_a', 'roof_a', 'overall_height', 'orientation', \\\n",
    "             'glazing_area', 'glazing_area_dist', 'y1_heating_load', 'y2_cooling_load']\n",
    "build = pd.read_csv('ENB2012_data.csv', header=0, names = column_names)"
   ]
  },
  {
   "cell_type": "code",
   "execution_count": 69,
   "id": "2fa77d80",
   "metadata": {},
   "outputs": [
    {
     "data": {
      "text/html": [
       "<div>\n",
       "<style scoped>\n",
       "    .dataframe tbody tr th:only-of-type {\n",
       "        vertical-align: middle;\n",
       "    }\n",
       "\n",
       "    .dataframe tbody tr th {\n",
       "        vertical-align: top;\n",
       "    }\n",
       "\n",
       "    .dataframe thead th {\n",
       "        text-align: right;\n",
       "    }\n",
       "</style>\n",
       "<table border=\"1\" class=\"dataframe\">\n",
       "  <thead>\n",
       "    <tr style=\"text-align: right;\">\n",
       "      <th></th>\n",
       "      <th>rel_compact</th>\n",
       "      <th>surface_a</th>\n",
       "      <th>wall_a</th>\n",
       "      <th>roof_a</th>\n",
       "      <th>overall_height</th>\n",
       "      <th>orientation</th>\n",
       "      <th>glazing_area</th>\n",
       "      <th>glazing_area_dist</th>\n",
       "      <th>y1_heating_load</th>\n",
       "      <th>y2_cooling_load</th>\n",
       "    </tr>\n",
       "  </thead>\n",
       "  <tbody>\n",
       "    <tr>\n",
       "      <th>0</th>\n",
       "      <td>0.98</td>\n",
       "      <td>514.5</td>\n",
       "      <td>294.0</td>\n",
       "      <td>110.25</td>\n",
       "      <td>7.0</td>\n",
       "      <td>2</td>\n",
       "      <td>0.0</td>\n",
       "      <td>0</td>\n",
       "      <td>15.55</td>\n",
       "      <td>21.33</td>\n",
       "    </tr>\n",
       "    <tr>\n",
       "      <th>1</th>\n",
       "      <td>0.98</td>\n",
       "      <td>514.5</td>\n",
       "      <td>294.0</td>\n",
       "      <td>110.25</td>\n",
       "      <td>7.0</td>\n",
       "      <td>3</td>\n",
       "      <td>0.0</td>\n",
       "      <td>0</td>\n",
       "      <td>15.55</td>\n",
       "      <td>21.33</td>\n",
       "    </tr>\n",
       "    <tr>\n",
       "      <th>2</th>\n",
       "      <td>0.98</td>\n",
       "      <td>514.5</td>\n",
       "      <td>294.0</td>\n",
       "      <td>110.25</td>\n",
       "      <td>7.0</td>\n",
       "      <td>4</td>\n",
       "      <td>0.0</td>\n",
       "      <td>0</td>\n",
       "      <td>15.55</td>\n",
       "      <td>21.33</td>\n",
       "    </tr>\n",
       "    <tr>\n",
       "      <th>3</th>\n",
       "      <td>0.98</td>\n",
       "      <td>514.5</td>\n",
       "      <td>294.0</td>\n",
       "      <td>110.25</td>\n",
       "      <td>7.0</td>\n",
       "      <td>5</td>\n",
       "      <td>0.0</td>\n",
       "      <td>0</td>\n",
       "      <td>15.55</td>\n",
       "      <td>21.33</td>\n",
       "    </tr>\n",
       "    <tr>\n",
       "      <th>4</th>\n",
       "      <td>0.90</td>\n",
       "      <td>563.5</td>\n",
       "      <td>318.5</td>\n",
       "      <td>122.50</td>\n",
       "      <td>7.0</td>\n",
       "      <td>2</td>\n",
       "      <td>0.0</td>\n",
       "      <td>0</td>\n",
       "      <td>20.84</td>\n",
       "      <td>28.28</td>\n",
       "    </tr>\n",
       "  </tbody>\n",
       "</table>\n",
       "</div>"
      ],
      "text/plain": [
       "   rel_compact  surface_a  wall_a  roof_a  overall_height  orientation  \\\n",
       "0         0.98      514.5   294.0  110.25             7.0            2   \n",
       "1         0.98      514.5   294.0  110.25             7.0            3   \n",
       "2         0.98      514.5   294.0  110.25             7.0            4   \n",
       "3         0.98      514.5   294.0  110.25             7.0            5   \n",
       "4         0.90      563.5   318.5  122.50             7.0            2   \n",
       "\n",
       "   glazing_area  glazing_area_dist  y1_heating_load  y2_cooling_load  \n",
       "0           0.0                  0            15.55            21.33  \n",
       "1           0.0                  0            15.55            21.33  \n",
       "2           0.0                  0            15.55            21.33  \n",
       "3           0.0                  0            15.55            21.33  \n",
       "4           0.0                  0            20.84            28.28  "
      ]
     },
     "execution_count": 69,
     "metadata": {},
     "output_type": "execute_result"
    }
   ],
   "source": [
    "build.head()"
   ]
  },
  {
   "cell_type": "code",
   "execution_count": 70,
   "id": "20c39b48",
   "metadata": {},
   "outputs": [
    {
     "data": {
      "text/plain": [
       "array([2, 3, 4, 5])"
      ]
     },
     "execution_count": 70,
     "metadata": {},
     "output_type": "execute_result"
    }
   ],
   "source": [
    "build.orientation.unique()"
   ]
  },
  {
   "cell_type": "code",
   "execution_count": 71,
   "id": "a7d0830c",
   "metadata": {},
   "outputs": [
    {
     "data": {
      "text/plain": [
       "array([7. , 3.5])"
      ]
     },
     "execution_count": 71,
     "metadata": {},
     "output_type": "execute_result"
    }
   ],
   "source": [
    "build.overall_height.unique()"
   ]
  },
  {
   "cell_type": "markdown",
   "id": "25463c6f",
   "metadata": {},
   "source": [
    "From looking into the data and researching on the dependent variables, the following variables were found to be categorical and would need to be converted to categories. The variables in question are:\n",
    "1. Orientation \n",
    "2. Glazing Area\n",
    "3. Glazing Area Distribution "
   ]
  },
  {
   "cell_type": "code",
   "execution_count": 72,
   "id": "52232757",
   "metadata": {},
   "outputs": [],
   "source": [
    "# Converting orientation to str\n",
    "build['orientation'] = build['orientation'].apply(str)\n",
    "build['glazing_area'] = build['glazing_area'].apply(str)\n",
    "build['glazing_area_dist'] = build['glazing_area_dist'].apply(str)"
   ]
  },
  {
   "cell_type": "code",
   "execution_count": 73,
   "id": "b77c481d",
   "metadata": {
    "scrolled": true
   },
   "outputs": [
    {
     "name": "stdout",
     "output_type": "stream",
     "text": [
      "<class 'pandas.core.frame.DataFrame'>\n",
      "RangeIndex: 768 entries, 0 to 767\n",
      "Data columns (total 10 columns):\n",
      " #   Column             Non-Null Count  Dtype  \n",
      "---  ------             --------------  -----  \n",
      " 0   rel_compact        768 non-null    float64\n",
      " 1   surface_a          768 non-null    float64\n",
      " 2   wall_a             768 non-null    float64\n",
      " 3   roof_a             768 non-null    float64\n",
      " 4   overall_height     768 non-null    float64\n",
      " 5   orientation        768 non-null    object \n",
      " 6   glazing_area       768 non-null    object \n",
      " 7   glazing_area_dist  768 non-null    object \n",
      " 8   y1_heating_load    768 non-null    float64\n",
      " 9   y2_cooling_load    768 non-null    float64\n",
      "dtypes: float64(7), object(3)\n",
      "memory usage: 60.1+ KB\n"
     ]
    }
   ],
   "source": [
    "build.info()"
   ]
  },
  {
   "cell_type": "markdown",
   "id": "59136dd2",
   "metadata": {},
   "source": [
    "### Understanding the distribution of all variables\n",
    "\n",
    "#### 1. Numeric variables"
   ]
  },
  {
   "cell_type": "code",
   "execution_count": 74,
   "id": "99270ee4",
   "metadata": {},
   "outputs": [
    {
     "data": {
      "text/html": [
       "<div>\n",
       "<style scoped>\n",
       "    .dataframe tbody tr th:only-of-type {\n",
       "        vertical-align: middle;\n",
       "    }\n",
       "\n",
       "    .dataframe tbody tr th {\n",
       "        vertical-align: top;\n",
       "    }\n",
       "\n",
       "    .dataframe thead th {\n",
       "        text-align: right;\n",
       "    }\n",
       "</style>\n",
       "<table border=\"1\" class=\"dataframe\">\n",
       "  <thead>\n",
       "    <tr style=\"text-align: right;\">\n",
       "      <th></th>\n",
       "      <th>rel_compact</th>\n",
       "      <th>surface_a</th>\n",
       "      <th>wall_a</th>\n",
       "      <th>roof_a</th>\n",
       "      <th>overall_height</th>\n",
       "      <th>y1_heating_load</th>\n",
       "      <th>y2_cooling_load</th>\n",
       "    </tr>\n",
       "  </thead>\n",
       "  <tbody>\n",
       "    <tr>\n",
       "      <th>count</th>\n",
       "      <td>768.000000</td>\n",
       "      <td>768.000000</td>\n",
       "      <td>768.000000</td>\n",
       "      <td>768.000000</td>\n",
       "      <td>768.00000</td>\n",
       "      <td>768.000000</td>\n",
       "      <td>768.000000</td>\n",
       "    </tr>\n",
       "    <tr>\n",
       "      <th>mean</th>\n",
       "      <td>0.764167</td>\n",
       "      <td>671.708333</td>\n",
       "      <td>318.500000</td>\n",
       "      <td>176.604167</td>\n",
       "      <td>5.25000</td>\n",
       "      <td>22.307201</td>\n",
       "      <td>24.587760</td>\n",
       "    </tr>\n",
       "    <tr>\n",
       "      <th>std</th>\n",
       "      <td>0.105777</td>\n",
       "      <td>88.086116</td>\n",
       "      <td>43.626481</td>\n",
       "      <td>45.165950</td>\n",
       "      <td>1.75114</td>\n",
       "      <td>10.090196</td>\n",
       "      <td>9.513306</td>\n",
       "    </tr>\n",
       "    <tr>\n",
       "      <th>min</th>\n",
       "      <td>0.620000</td>\n",
       "      <td>514.500000</td>\n",
       "      <td>245.000000</td>\n",
       "      <td>110.250000</td>\n",
       "      <td>3.50000</td>\n",
       "      <td>6.010000</td>\n",
       "      <td>10.900000</td>\n",
       "    </tr>\n",
       "    <tr>\n",
       "      <th>25%</th>\n",
       "      <td>0.682500</td>\n",
       "      <td>606.375000</td>\n",
       "      <td>294.000000</td>\n",
       "      <td>140.875000</td>\n",
       "      <td>3.50000</td>\n",
       "      <td>12.992500</td>\n",
       "      <td>15.620000</td>\n",
       "    </tr>\n",
       "    <tr>\n",
       "      <th>50%</th>\n",
       "      <td>0.750000</td>\n",
       "      <td>673.750000</td>\n",
       "      <td>318.500000</td>\n",
       "      <td>183.750000</td>\n",
       "      <td>5.25000</td>\n",
       "      <td>18.950000</td>\n",
       "      <td>22.080000</td>\n",
       "    </tr>\n",
       "    <tr>\n",
       "      <th>75%</th>\n",
       "      <td>0.830000</td>\n",
       "      <td>741.125000</td>\n",
       "      <td>343.000000</td>\n",
       "      <td>220.500000</td>\n",
       "      <td>7.00000</td>\n",
       "      <td>31.667500</td>\n",
       "      <td>33.132500</td>\n",
       "    </tr>\n",
       "    <tr>\n",
       "      <th>max</th>\n",
       "      <td>0.980000</td>\n",
       "      <td>808.500000</td>\n",
       "      <td>416.500000</td>\n",
       "      <td>220.500000</td>\n",
       "      <td>7.00000</td>\n",
       "      <td>43.100000</td>\n",
       "      <td>48.030000</td>\n",
       "    </tr>\n",
       "  </tbody>\n",
       "</table>\n",
       "</div>"
      ],
      "text/plain": [
       "       rel_compact   surface_a      wall_a      roof_a  overall_height  \\\n",
       "count   768.000000  768.000000  768.000000  768.000000       768.00000   \n",
       "mean      0.764167  671.708333  318.500000  176.604167         5.25000   \n",
       "std       0.105777   88.086116   43.626481   45.165950         1.75114   \n",
       "min       0.620000  514.500000  245.000000  110.250000         3.50000   \n",
       "25%       0.682500  606.375000  294.000000  140.875000         3.50000   \n",
       "50%       0.750000  673.750000  318.500000  183.750000         5.25000   \n",
       "75%       0.830000  741.125000  343.000000  220.500000         7.00000   \n",
       "max       0.980000  808.500000  416.500000  220.500000         7.00000   \n",
       "\n",
       "       y1_heating_load  y2_cooling_load  \n",
       "count       768.000000       768.000000  \n",
       "mean         22.307201        24.587760  \n",
       "std          10.090196         9.513306  \n",
       "min           6.010000        10.900000  \n",
       "25%          12.992500        15.620000  \n",
       "50%          18.950000        22.080000  \n",
       "75%          31.667500        33.132500  \n",
       "max          43.100000        48.030000  "
      ]
     },
     "execution_count": 74,
     "metadata": {},
     "output_type": "execute_result"
    }
   ],
   "source": [
    "build.describe()"
   ]
  },
  {
   "cell_type": "code",
   "execution_count": 75,
   "id": "674b9008",
   "metadata": {},
   "outputs": [
    {
     "data": {
      "image/png": "[encoded data removed]",
      "text/plain": [
       "<Figure size 432x288 with 1 Axes>"
      ]
     },
     "metadata": {
      "needs_background": "light"
     },
     "output_type": "display_data"
    },
    {
     "data": {
      "image/png": "[encoded data removed]",
      "text/plain": [
       "<Figure size 432x288 with 1 Axes>"
      ]
     },
     "metadata": {
      "needs_background": "light"
     },
     "output_type": "display_data"
    },
    {
     "data": {
      "image/png": "[encoded data removed]",
      "text/plain": [
       "<Figure size 432x288 with 1 Axes>"
      ]
     },
     "metadata": {
      "needs_background": "light"
     },
     "output_type": "display_data"
    },
    {
     "data": {
      "image/png": "[encoded data removed]",
      "text/plain": [
       "<Figure size 432x288 with 1 Axes>"
      ]
     },
     "metadata": {
      "needs_background": "light"
     },
     "output_type": "display_data"
    },
    {
     "data": {
      "image/png": "[encoded data removed]",
      "text/plain": [
       "<Figure size 432x288 with 1 Axes>"
      ]
     },
     "metadata": {
      "needs_background": "light"
     },
     "output_type": "display_data"
    },
    {
     "data": {
      "image/png": "[encoded data removed]",
      "text/plain": [
       "<Figure size 432x288 with 1 Axes>"
      ]
     },
     "metadata": {
      "needs_background": "light"
     },
     "output_type": "display_data"
    },
    {
     "data": {
      "image/png": "[encoded data removed]",
      "text/plain": [
       "<Figure size 432x288 with 1 Axes>"
      ]
     },
     "metadata": {
      "needs_background": "light"
     },
     "output_type": "display_data"
    }
   ],
   "source": [
    "box_columns = ['rel_compact', 'surface_a', 'wall_a', 'roof_a', 'overall_height', 'y1_heating_load', 'y2_cooling_load']\n",
    "\n",
    "for column in box_columns:\n",
    "    plt.figure()\n",
    "    build.boxplot([column])"
   ]
  },
  {
   "cell_type": "markdown",
   "id": "6a578b32",
   "metadata": {},
   "source": [
    "#### 2. Categorical variables\n",
    "\n",
    "##### Orientation"
   ]
  },
  {
   "cell_type": "code",
   "execution_count": 77,
   "id": "419a903e",
   "metadata": {},
   "outputs": [
    {
     "data": {
      "text/plain": [
       "array(['2', '3', '4', '5'], dtype=object)"
      ]
     },
     "execution_count": 77,
     "metadata": {},
     "output_type": "execute_result"
    }
   ],
   "source": [
    "build.orientation.unique()"
   ]
  },
  {
   "cell_type": "code",
   "execution_count": 94,
   "id": "62967986",
   "metadata": {},
   "outputs": [
    {
     "data": {
      "text/html": [
       "<div>\n",
       "<style scoped>\n",
       "    .dataframe tbody tr th:only-of-type {\n",
       "        vertical-align: middle;\n",
       "    }\n",
       "\n",
       "    .dataframe tbody tr th {\n",
       "        vertical-align: top;\n",
       "    }\n",
       "\n",
       "    .dataframe thead th {\n",
       "        text-align: right;\n",
       "    }\n",
       "</style>\n",
       "<table border=\"1\" class=\"dataframe\">\n",
       "  <thead>\n",
       "    <tr style=\"text-align: right;\">\n",
       "      <th></th>\n",
       "      <th>orientation</th>\n",
       "      <th>count</th>\n",
       "    </tr>\n",
       "  </thead>\n",
       "  <tbody>\n",
       "    <tr>\n",
       "      <th>0</th>\n",
       "      <td>2</td>\n",
       "      <td>192</td>\n",
       "    </tr>\n",
       "    <tr>\n",
       "      <th>1</th>\n",
       "      <td>3</td>\n",
       "      <td>192</td>\n",
       "    </tr>\n",
       "    <tr>\n",
       "      <th>2</th>\n",
       "      <td>4</td>\n",
       "      <td>192</td>\n",
       "    </tr>\n",
       "    <tr>\n",
       "      <th>3</th>\n",
       "      <td>5</td>\n",
       "      <td>192</td>\n",
       "    </tr>\n",
       "  </tbody>\n",
       "</table>\n",
       "</div>"
      ],
      "text/plain": [
       "  orientation  count\n",
       "0           2    192\n",
       "1           3    192\n",
       "2           4    192\n",
       "3           5    192"
      ]
     },
     "execution_count": 94,
     "metadata": {},
     "output_type": "execute_result"
    }
   ],
   "source": [
    "build.groupby('orientation').size().reset_index(name='count')"
   ]
  },
  {
   "cell_type": "code",
   "execution_count": 87,
   "id": "5347380a",
   "metadata": {},
   "outputs": [
    {
     "data": {
      "image/png": "[encoded data removed]",
      "text/plain": [
       "<Figure size 432x288 with 1 Axes>"
      ]
     },
     "metadata": {
      "needs_background": "light"
     },
     "output_type": "display_data"
    }
   ],
   "source": [
    "fig, ax = plt.subplots()\n",
    "\n",
    "sns.boxplot(x=\"y1_heating_load\", y=\"orientation\", data=build, orient=\"h\", \\\n",
    "            palette={'2':\"blue\", '3':\"green\", '4':'red', '5':'yellow'}, ax=ax)\n",
    "\n",
    "ax.get_yaxis().set_visible(False)\n",
    "\n",
    "fig.suptitle(\"Heating Load vs. Orientation of building\");\n",
    "\n",
    "color_patches = [\n",
    "    Patch(facecolor=\"blue\", label=\"2\"),\n",
    "    Patch(facecolor=\"green\", label=\"3\"),\n",
    "    Patch(facecolor=\"red\", label=\"4\"),\n",
    "    Patch(facecolor=\"yellow\", label=\"5\")\n",
    "]\n",
    "ax.legend(handles=color_patches);\n"
   ]
  },
  {
   "cell_type": "markdown",
   "id": "82c73740",
   "metadata": {},
   "source": [
    "##### Glazing Area"
   ]
  },
  {
   "cell_type": "code",
   "execution_count": 88,
   "id": "0ad751fe",
   "metadata": {},
   "outputs": [
    {
     "data": {
      "text/plain": [
       "array(['0.0', '0.1', '0.25', '0.4'], dtype=object)"
      ]
     },
     "execution_count": 88,
     "metadata": {},
     "output_type": "execute_result"
    }
   ],
   "source": [
    "build.glazing_area.unique()"
   ]
  },
  {
   "cell_type": "code",
   "execution_count": 91,
   "id": "38ef4cbe",
   "metadata": {},
   "outputs": [
    {
     "data": {
      "text/html": [
       "<div>\n",
       "<style scoped>\n",
       "    .dataframe tbody tr th:only-of-type {\n",
       "        vertical-align: middle;\n",
       "    }\n",
       "\n",
       "    .dataframe tbody tr th {\n",
       "        vertical-align: top;\n",
       "    }\n",
       "\n",
       "    .dataframe thead th {\n",
       "        text-align: right;\n",
       "    }\n",
       "</style>\n",
       "<table border=\"1\" class=\"dataframe\">\n",
       "  <thead>\n",
       "    <tr style=\"text-align: right;\">\n",
       "      <th></th>\n",
       "      <th>glazing_area</th>\n",
       "      <th>count</th>\n",
       "    </tr>\n",
       "  </thead>\n",
       "  <tbody>\n",
       "    <tr>\n",
       "      <th>0</th>\n",
       "      <td>0.0</td>\n",
       "      <td>48</td>\n",
       "    </tr>\n",
       "    <tr>\n",
       "      <th>1</th>\n",
       "      <td>0.1</td>\n",
       "      <td>240</td>\n",
       "    </tr>\n",
       "    <tr>\n",
       "      <th>2</th>\n",
       "      <td>0.25</td>\n",
       "      <td>240</td>\n",
       "    </tr>\n",
       "    <tr>\n",
       "      <th>3</th>\n",
       "      <td>0.4</td>\n",
       "      <td>240</td>\n",
       "    </tr>\n",
       "  </tbody>\n",
       "</table>\n",
       "</div>"
      ],
      "text/plain": [
       "  glazing_area  count\n",
       "0          0.0     48\n",
       "1          0.1    240\n",
       "2         0.25    240\n",
       "3          0.4    240"
      ]
     },
     "execution_count": 91,
     "metadata": {},
     "output_type": "execute_result"
    }
   ],
   "source": [
    "build.groupby(['glazing_area']).size().reset_index(name='count')"
   ]
  },
  {
   "cell_type": "code",
   "execution_count": 95,
   "id": "84cbb4fa",
   "metadata": {},
   "outputs": [
    {
     "data": {
      "image/png": "[encoded data removed]",
      "text/plain": [
       "<Figure size 432x288 with 1 Axes>"
      ]
     },
     "metadata": {
      "needs_background": "light"
     },
     "output_type": "display_data"
    }
   ],
   "source": [
    "fig, ax = plt.subplots()\n",
    "\n",
    "sns.boxplot(x=\"y1_heating_load\", y=\"glazing_area\", data=build, orient=\"h\", \\\n",
    "            palette={'0.0':\"blue\", '0.1':\"green\", '0.25':'red', '0.4':'yellow'}, ax=ax)\n",
    "\n",
    "ax.get_yaxis().set_visible(False)\n",
    "\n",
    "fig.suptitle(\"Heating Load vs. Glazing area of building\");\n",
    "\n",
    "color_patches = [\n",
    "    Patch(facecolor=\"blue\", label=\"0.0\"),\n",
    "    Patch(facecolor=\"green\", label=\"0.1\"),\n",
    "    Patch(facecolor=\"red\", label=\"0.25\"),\n",
    "    Patch(facecolor=\"yellow\", label=\"0.4\")\n",
    "]\n",
    "ax.legend(handles=color_patches);"
   ]
  },
  {
   "cell_type": "markdown",
   "id": "404fc6eb",
   "metadata": {},
   "source": [
    "##### Glazing Area distribution"
   ]
  },
  {
   "cell_type": "code",
   "execution_count": 96,
   "id": "bff8cf22",
   "metadata": {},
   "outputs": [
    {
     "data": {
      "text/plain": [
       "array(['0', '1', '2', '3', '4', '5'], dtype=object)"
      ]
     },
     "execution_count": 96,
     "metadata": {},
     "output_type": "execute_result"
    }
   ],
   "source": [
    "build.glazing_area_dist.unique()"
   ]
  },
  {
   "cell_type": "code",
   "execution_count": 98,
   "id": "da961338",
   "metadata": {},
   "outputs": [
    {
     "data": {
      "text/html": [
       "<div>\n",
       "<style scoped>\n",
       "    .dataframe tbody tr th:only-of-type {\n",
       "        vertical-align: middle;\n",
       "    }\n",
       "\n",
       "    .dataframe tbody tr th {\n",
       "        vertical-align: top;\n",
       "    }\n",
       "\n",
       "    .dataframe thead th {\n",
       "        text-align: right;\n",
       "    }\n",
       "</style>\n",
       "<table border=\"1\" class=\"dataframe\">\n",
       "  <thead>\n",
       "    <tr style=\"text-align: right;\">\n",
       "      <th></th>\n",
       "      <th>glazing_area_dist</th>\n",
       "      <th>count</th>\n",
       "    </tr>\n",
       "  </thead>\n",
       "  <tbody>\n",
       "    <tr>\n",
       "      <th>0</th>\n",
       "      <td>0</td>\n",
       "      <td>48</td>\n",
       "    </tr>\n",
       "    <tr>\n",
       "      <th>1</th>\n",
       "      <td>1</td>\n",
       "      <td>144</td>\n",
       "    </tr>\n",
       "    <tr>\n",
       "      <th>2</th>\n",
       "      <td>2</td>\n",
       "      <td>144</td>\n",
       "    </tr>\n",
       "    <tr>\n",
       "      <th>3</th>\n",
       "      <td>3</td>\n",
       "      <td>144</td>\n",
       "    </tr>\n",
       "    <tr>\n",
       "      <th>4</th>\n",
       "      <td>4</td>\n",
       "      <td>144</td>\n",
       "    </tr>\n",
       "    <tr>\n",
       "      <th>5</th>\n",
       "      <td>5</td>\n",
       "      <td>144</td>\n",
       "    </tr>\n",
       "  </tbody>\n",
       "</table>\n",
       "</div>"
      ],
      "text/plain": [
       "  glazing_area_dist  count\n",
       "0                 0     48\n",
       "1                 1    144\n",
       "2                 2    144\n",
       "3                 3    144\n",
       "4                 4    144\n",
       "5                 5    144"
      ]
     },
     "execution_count": 98,
     "metadata": {},
     "output_type": "execute_result"
    }
   ],
   "source": [
    "build.groupby('glazing_area_dist').size().reset_index(name='count')"
   ]
  },
  {
   "cell_type": "code",
   "execution_count": 99,
   "id": "25cc95b3",
   "metadata": {
    "scrolled": true
   },
   "outputs": [
    {
     "data": {
      "image/png": "[encoded data removed]",
      "text/plain": [
       "<Figure size 432x288 with 1 Axes>"
      ]
     },
     "metadata": {
      "needs_background": "light"
     },
     "output_type": "display_data"
    }
   ],
   "source": [
    "fig, ax = plt.subplots()\n",
    "\n",
    "sns.boxplot(x=\"y1_heating_load\", y=\"glazing_area_dist\", data=build, orient=\"h\", \\\n",
    "            palette={'0':\"blue\", '1':\"green\", '2':'red', '3':'yellow', '4':'violet', '5':'aqua'}, ax=ax)\n",
    "\n",
    "ax.get_yaxis().set_visible(False)\n",
    "\n",
    "fig.suptitle(\"Heating Load vs.Glazing Area Distribution of building\");\n",
    "\n",
    "color_patches = [\n",
    "    Patch(facecolor=\"blue\", label=\"0\"),\n",
    "    Patch(facecolor=\"green\", label=\"1\"),\n",
    "    Patch(facecolor=\"red\", label=\"2\"),\n",
    "    Patch(facecolor=\"yellow\", label=\"3\"),\n",
    "    Patch(facecolor=\"violet\", label=\"4\"),\n",
    "    Patch(facecolor=\"aqua\", label=\"5\")\n",
    "]\n",
    "ax.legend(handles=color_patches);"
   ]
  },
  {
   "cell_type": "markdown",
   "id": "c74ad456",
   "metadata": {},
   "source": [
    "### Correlation between numeric variables"
   ]
  },
  {
   "cell_type": "code",
   "execution_count": 26,
   "id": "9c3c1200",
   "metadata": {},
   "outputs": [
    {
     "data": {
      "text/html": [
       "<div>\n",
       "<style scoped>\n",
       "    .dataframe tbody tr th:only-of-type {\n",
       "        vertical-align: middle;\n",
       "    }\n",
       "\n",
       "    .dataframe tbody tr th {\n",
       "        vertical-align: top;\n",
       "    }\n",
       "\n",
       "    .dataframe thead th {\n",
       "        text-align: right;\n",
       "    }\n",
       "</style>\n",
       "<table border=\"1\" class=\"dataframe\">\n",
       "  <thead>\n",
       "    <tr style=\"text-align: right;\">\n",
       "      <th></th>\n",
       "      <th>rel_compact</th>\n",
       "      <th>surface_a</th>\n",
       "      <th>wall_a</th>\n",
       "      <th>roof_a</th>\n",
       "      <th>overall_height</th>\n",
       "      <th>y1_heating_load</th>\n",
       "      <th>y2_cooling_load</th>\n",
       "    </tr>\n",
       "  </thead>\n",
       "  <tbody>\n",
       "    <tr>\n",
       "      <th>rel_compact</th>\n",
       "      <td>1.000000</td>\n",
       "      <td>-0.991901</td>\n",
       "      <td>-0.203782</td>\n",
       "      <td>-0.868823</td>\n",
       "      <td>0.827747</td>\n",
       "      <td>0.622272</td>\n",
       "      <td>0.634339</td>\n",
       "    </tr>\n",
       "    <tr>\n",
       "      <th>surface_a</th>\n",
       "      <td>-0.991901</td>\n",
       "      <td>1.000000</td>\n",
       "      <td>0.195502</td>\n",
       "      <td>0.880720</td>\n",
       "      <td>-0.858148</td>\n",
       "      <td>-0.658120</td>\n",
       "      <td>-0.672999</td>\n",
       "    </tr>\n",
       "    <tr>\n",
       "      <th>wall_a</th>\n",
       "      <td>-0.203782</td>\n",
       "      <td>0.195502</td>\n",
       "      <td>1.000000</td>\n",
       "      <td>-0.292316</td>\n",
       "      <td>0.280976</td>\n",
       "      <td>0.455671</td>\n",
       "      <td>0.427117</td>\n",
       "    </tr>\n",
       "    <tr>\n",
       "      <th>roof_a</th>\n",
       "      <td>-0.868823</td>\n",
       "      <td>0.880720</td>\n",
       "      <td>-0.292316</td>\n",
       "      <td>1.000000</td>\n",
       "      <td>-0.972512</td>\n",
       "      <td>-0.861828</td>\n",
       "      <td>-0.862547</td>\n",
       "    </tr>\n",
       "    <tr>\n",
       "      <th>overall_height</th>\n",
       "      <td>0.827747</td>\n",
       "      <td>-0.858148</td>\n",
       "      <td>0.280976</td>\n",
       "      <td>-0.972512</td>\n",
       "      <td>1.000000</td>\n",
       "      <td>0.889431</td>\n",
       "      <td>0.895785</td>\n",
       "    </tr>\n",
       "    <tr>\n",
       "      <th>y1_heating_load</th>\n",
       "      <td>0.622272</td>\n",
       "      <td>-0.658120</td>\n",
       "      <td>0.455671</td>\n",
       "      <td>-0.861828</td>\n",
       "      <td>0.889431</td>\n",
       "      <td>1.000000</td>\n",
       "      <td>0.975862</td>\n",
       "    </tr>\n",
       "    <tr>\n",
       "      <th>y2_cooling_load</th>\n",
       "      <td>0.634339</td>\n",
       "      <td>-0.672999</td>\n",
       "      <td>0.427117</td>\n",
       "      <td>-0.862547</td>\n",
       "      <td>0.895785</td>\n",
       "      <td>0.975862</td>\n",
       "      <td>1.000000</td>\n",
       "    </tr>\n",
       "  </tbody>\n",
       "</table>\n",
       "</div>"
      ],
      "text/plain": [
       "                 rel_compact  surface_a    wall_a    roof_a  overall_height  \\\n",
       "rel_compact         1.000000  -0.991901 -0.203782 -0.868823        0.827747   \n",
       "surface_a          -0.991901   1.000000  0.195502  0.880720       -0.858148   \n",
       "wall_a             -0.203782   0.195502  1.000000 -0.292316        0.280976   \n",
       "roof_a             -0.868823   0.880720 -0.292316  1.000000       -0.972512   \n",
       "overall_height      0.827747  -0.858148  0.280976 -0.972512        1.000000   \n",
       "y1_heating_load     0.622272  -0.658120  0.455671 -0.861828        0.889431   \n",
       "y2_cooling_load     0.634339  -0.672999  0.427117 -0.862547        0.895785   \n",
       "\n",
       "                 y1_heating_load  y2_cooling_load  \n",
       "rel_compact             0.622272         0.634339  \n",
       "surface_a              -0.658120        -0.672999  \n",
       "wall_a                  0.455671         0.427117  \n",
       "roof_a                 -0.861828        -0.862547  \n",
       "overall_height          0.889431         0.895785  \n",
       "y1_heating_load         1.000000         0.975862  \n",
       "y2_cooling_load         0.975862         1.000000  "
      ]
     },
     "execution_count": 26,
     "metadata": {},
     "output_type": "execute_result"
    }
   ],
   "source": [
    "build.corr()"
   ]
  },
  {
   "cell_type": "markdown",
   "id": "16a9c1d2",
   "metadata": {},
   "source": [
    "### Observations from above correlation exercise\n",
    "\n",
    "#### Independent variables\n",
    "1. Relative compactness is highly positively correlated to height and highly negatively correlated to surface area, roof area.\n",
    "2. Surface area and roof area are highly correlated.\n",
    "3. Surface area is highly negatively correlated to overall height\n",
    "\n",
    "#### Dependent variables\n",
    "1. Heating load and cooling load are very correlated to each other. \n",
    "2. They show similar correlations to all the independent variables. \n",
    "3. They are both highly positively correlated to overall height and highly negatively correlated to roof area.\n",
    "There is a possibility that increasing efficiency for one should provide efficiency for the other dependent variable."
   ]
  },
  {
   "cell_type": "code",
   "execution_count": null,
   "id": "1aca7584",
   "metadata": {},
   "outputs": [],
   "source": [
    "Recommendation:\n",
    "    1. Different types of visualization. Correlation is just one way of looking at it.\n",
    "    2. Three dimensional visuals"
   ]
  },
  {
   "cell_type": "code",
   "execution_count": null,
   "id": "0b24de5c",
   "metadata": {},
   "outputs": [],
   "source": [
    "# Appendix\n",
    "\n",
    "\n",
    "\n",
    "# Variable(s) units:\n",
    "# Relative Compactness\n",
    "# Surface Area - m²\n",
    "# Wall Area - m²\n",
    "# Roof Area - m²\n",
    "# Overall Height - m\n",
    "# Orientation - 2:North, 3:East, 4:South, 5:West\n",
    "# Glazing Area - 0%, 10%, 25%, 40% (of floor area)\n",
    "# Glazing Area Distribution (Variance) - 1:Uniform, 2:North, 3:East, 4:South, 5:West\n",
    "# Heating Load - kWh/m²\n",
    "# Cooling Load - kWh/m²\n",
    "\n",
    "# https://rstudio-pubs-static.s3.amazonaws.com/244473_5d13955ea0fd4e5e9d376161b956e9dc.html"
   ]
  }
 ],
 "metadata": {
  "kernelspec": {
   "display_name": "Python 3",
   "language": "python",
   "name": "python3"
  },
  "language_info": {
   "codemirror_mode": {
    "name": "ipython",
    "version": 3
   },
   "file_extension": ".py",
   "mimetype": "text/x-python",
   "name": "python",
   "nbconvert_exporter": "python",
   "pygments_lexer": "ipython3",
   "version": "3.9.12"
  }
 },
 "nbformat": 4,
 "nbformat_minor": 5
}
