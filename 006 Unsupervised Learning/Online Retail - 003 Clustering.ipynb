{
 "cells": [
  {
   "cell_type": "code",
   "execution_count": 1,
   "id": "ef7eeb93",
   "metadata": {},
   "outputs": [],
   "source": [
    "import pandas as pd\n",
    "import numpy as np\n",
    "\n",
    "# Graphs\n",
    "import matplotlib.pyplot as plt\n",
    "\n",
    "# Feature Engineering\n",
    "from sklearn.preprocessing import StandardScaler, LabelEncoder\n",
    "\n",
    "\n",
    "# For clustering\n",
    "from sklearn.cluster import KMeans"
   ]
  },
  {
   "cell_type": "markdown",
   "id": "37a2b705",
   "metadata": {},
   "source": [
    "## Importing Data"
   ]
  },
  {
   "cell_type": "code",
   "execution_count": 2,
   "id": "e29ae6a2",
   "metadata": {},
   "outputs": [],
   "source": [
    "retail_raw = pd.read_excel('Online Retail.xlsx')"
   ]
  },
  {
   "cell_type": "code",
   "execution_count": 3,
   "id": "d451fc1b",
   "metadata": {},
   "outputs": [
    {
     "data": {
      "text/html": [
       "<div>\n",
       "<style scoped>\n",
       "    .dataframe tbody tr th:only-of-type {\n",
       "        vertical-align: middle;\n",
       "    }\n",
       "\n",
       "    .dataframe tbody tr th {\n",
       "        vertical-align: top;\n",
       "    }\n",
       "\n",
       "    .dataframe thead th {\n",
       "        text-align: right;\n",
       "    }\n",
       "</style>\n",
       "<table border=\"1\" class=\"dataframe\">\n",
       "  <thead>\n",
       "    <tr style=\"text-align: right;\">\n",
       "      <th></th>\n",
       "      <th>InvoiceNo</th>\n",
       "      <th>StockCode</th>\n",
       "      <th>Description</th>\n",
       "      <th>Quantity</th>\n",
       "      <th>InvoiceDate</th>\n",
       "      <th>UnitPrice</th>\n",
       "      <th>CustomerID</th>\n",
       "      <th>Country</th>\n",
       "    </tr>\n",
       "  </thead>\n",
       "  <tbody>\n",
       "    <tr>\n",
       "      <th>0</th>\n",
       "      <td>536365</td>\n",
       "      <td>85123A</td>\n",
       "      <td>WHITE HANGING HEART T-LIGHT HOLDER</td>\n",
       "      <td>6</td>\n",
       "      <td>2010-12-01 08:26:00</td>\n",
       "      <td>2.55</td>\n",
       "      <td>17850.0</td>\n",
       "      <td>United Kingdom</td>\n",
       "    </tr>\n",
       "    <tr>\n",
       "      <th>1</th>\n",
       "      <td>536365</td>\n",
       "      <td>71053</td>\n",
       "      <td>WHITE METAL LANTERN</td>\n",
       "      <td>6</td>\n",
       "      <td>2010-12-01 08:26:00</td>\n",
       "      <td>3.39</td>\n",
       "      <td>17850.0</td>\n",
       "      <td>United Kingdom</td>\n",
       "    </tr>\n",
       "    <tr>\n",
       "      <th>2</th>\n",
       "      <td>536365</td>\n",
       "      <td>84406B</td>\n",
       "      <td>CREAM CUPID HEARTS COAT HANGER</td>\n",
       "      <td>8</td>\n",
       "      <td>2010-12-01 08:26:00</td>\n",
       "      <td>2.75</td>\n",
       "      <td>17850.0</td>\n",
       "      <td>United Kingdom</td>\n",
       "    </tr>\n",
       "    <tr>\n",
       "      <th>3</th>\n",
       "      <td>536365</td>\n",
       "      <td>84029G</td>\n",
       "      <td>KNITTED UNION FLAG HOT WATER BOTTLE</td>\n",
       "      <td>6</td>\n",
       "      <td>2010-12-01 08:26:00</td>\n",
       "      <td>3.39</td>\n",
       "      <td>17850.0</td>\n",
       "      <td>United Kingdom</td>\n",
       "    </tr>\n",
       "    <tr>\n",
       "      <th>4</th>\n",
       "      <td>536365</td>\n",
       "      <td>84029E</td>\n",
       "      <td>RED WOOLLY HOTTIE WHITE HEART.</td>\n",
       "      <td>6</td>\n",
       "      <td>2010-12-01 08:26:00</td>\n",
       "      <td>3.39</td>\n",
       "      <td>17850.0</td>\n",
       "      <td>United Kingdom</td>\n",
       "    </tr>\n",
       "  </tbody>\n",
       "</table>\n",
       "</div>"
      ],
      "text/plain": [
       "  InvoiceNo StockCode                          Description  Quantity  \\\n",
       "0    536365    85123A   WHITE HANGING HEART T-LIGHT HOLDER         6   \n",
       "1    536365     71053                  WHITE METAL LANTERN         6   \n",
       "2    536365    84406B       CREAM CUPID HEARTS COAT HANGER         8   \n",
       "3    536365    84029G  KNITTED UNION FLAG HOT WATER BOTTLE         6   \n",
       "4    536365    84029E       RED WOOLLY HOTTIE WHITE HEART.         6   \n",
       "\n",
       "          InvoiceDate  UnitPrice  CustomerID         Country  \n",
       "0 2010-12-01 08:26:00       2.55     17850.0  United Kingdom  \n",
       "1 2010-12-01 08:26:00       3.39     17850.0  United Kingdom  \n",
       "2 2010-12-01 08:26:00       2.75     17850.0  United Kingdom  \n",
       "3 2010-12-01 08:26:00       3.39     17850.0  United Kingdom  \n",
       "4 2010-12-01 08:26:00       3.39     17850.0  United Kingdom  "
      ]
     },
     "execution_count": 3,
     "metadata": {},
     "output_type": "execute_result"
    }
   ],
   "source": [
    "retail_raw.head()"
   ]
  },
  {
   "cell_type": "markdown",
   "id": "3629eb98",
   "metadata": {},
   "source": [
    "## Data Preprocessing"
   ]
  },
  {
   "cell_type": "code",
   "execution_count": 4,
   "id": "c3607152",
   "metadata": {},
   "outputs": [],
   "source": [
    "clean_retail_data = retail_raw.loc[~((retail_raw.Description.isnull()) | \\\n",
    "                                     retail_raw['Description'].str.contains('wrong', case=False, na=False))].copy()\n",
    "\n",
    "# Total price per item bought = quantity bought * unit price\n",
    "clean_retail_data['TotalPrice'] = clean_retail_data['Quantity'] * clean_retail_data['UnitPrice']"
   ]
  },
  {
   "cell_type": "code",
   "execution_count": 5,
   "id": "68ddadee",
   "metadata": {},
   "outputs": [],
   "source": [
    "# Temporary - Remove records with NaN customer ID\n",
    "# clean_retail_data = clean_retail_data.loc[clean_retail_data.Cus]\n",
    "\n",
    "clean_retail_data = clean_retail_data.loc[((clean_retail_data.Quantity > 0) & (clean_retail_data.UnitPrice > 0))]\n",
    "\n",
    "# Removing outliers from Total Price column\n",
    "clean_retail_data = \\\n",
    "clean_retail_data.loc[(clean_retail_data['TotalPrice'] >= np.percentile(clean_retail_data['TotalPrice'], 2.5)) \\\n",
    "                    & (clean_retail_data['TotalPrice'] <= np.percentile(clean_retail_data['TotalPrice'], 97.5))\n",
    "                    & (clean_retail_data['Quantity'] >= np.percentile(clean_retail_data['Quantity'], 2.5))\n",
    "                    & (clean_retail_data['Quantity'] <= np.percentile(clean_retail_data['Quantity'], 97.5))]\\\n",
    ".reset_index()"
   ]
  },
  {
   "cell_type": "code",
   "execution_count": 6,
   "id": "1dc7ce7f",
   "metadata": {},
   "outputs": [
    {
     "data": {
      "text/html": [
       "<div>\n",
       "<style scoped>\n",
       "    .dataframe tbody tr th:only-of-type {\n",
       "        vertical-align: middle;\n",
       "    }\n",
       "\n",
       "    .dataframe tbody tr th {\n",
       "        vertical-align: top;\n",
       "    }\n",
       "\n",
       "    .dataframe thead th {\n",
       "        text-align: right;\n",
       "    }\n",
       "</style>\n",
       "<table border=\"1\" class=\"dataframe\">\n",
       "  <thead>\n",
       "    <tr style=\"text-align: right;\">\n",
       "      <th></th>\n",
       "      <th>index</th>\n",
       "      <th>Description</th>\n",
       "      <th>Quantity</th>\n",
       "      <th>UnitPrice</th>\n",
       "      <th>Country</th>\n",
       "      <th>TotalPrice</th>\n",
       "    </tr>\n",
       "  </thead>\n",
       "  <tbody>\n",
       "    <tr>\n",
       "      <th>0</th>\n",
       "      <td>0</td>\n",
       "      <td>WHITE HANGING HEART T-LIGHT HOLDER</td>\n",
       "      <td>6</td>\n",
       "      <td>2.55</td>\n",
       "      <td>United Kingdom</td>\n",
       "      <td>15.30</td>\n",
       "    </tr>\n",
       "    <tr>\n",
       "      <th>1</th>\n",
       "      <td>1</td>\n",
       "      <td>WHITE METAL LANTERN</td>\n",
       "      <td>6</td>\n",
       "      <td>3.39</td>\n",
       "      <td>United Kingdom</td>\n",
       "      <td>20.34</td>\n",
       "    </tr>\n",
       "  </tbody>\n",
       "</table>\n",
       "</div>"
      ],
      "text/plain": [
       "   index                         Description  Quantity  UnitPrice  \\\n",
       "0      0  WHITE HANGING HEART T-LIGHT HOLDER         6       2.55   \n",
       "1      1                 WHITE METAL LANTERN         6       3.39   \n",
       "\n",
       "          Country  TotalPrice  \n",
       "0  United Kingdom       15.30  \n",
       "1  United Kingdom       20.34  "
      ]
     },
     "execution_count": 6,
     "metadata": {},
     "output_type": "execute_result"
    }
   ],
   "source": [
    "# Keeping only the required dataset\n",
    "X = clean_retail_data.drop(['InvoiceNo','StockCode','InvoiceDate','CustomerID'],axis=1)\n",
    "\n",
    "X.head(2)"
   ]
  },
  {
   "cell_type": "code",
   "execution_count": 7,
   "id": "110ce0a3",
   "metadata": {},
   "outputs": [],
   "source": [
    "encoder = LabelEncoder()\n",
    "X.Description = encoder.fit_transform(X.Description.astype(str))\n",
    "X.Description = X.Description.astype(np.int64)"
   ]
  },
  {
   "cell_type": "code",
   "execution_count": 8,
   "id": "d71788e7",
   "metadata": {},
   "outputs": [
    {
     "data": {
      "text/html": [
       "<div>\n",
       "<style scoped>\n",
       "    .dataframe tbody tr th:only-of-type {\n",
       "        vertical-align: middle;\n",
       "    }\n",
       "\n",
       "    .dataframe tbody tr th {\n",
       "        vertical-align: top;\n",
       "    }\n",
       "\n",
       "    .dataframe thead th {\n",
       "        text-align: right;\n",
       "    }\n",
       "</style>\n",
       "<table border=\"1\" class=\"dataframe\">\n",
       "  <thead>\n",
       "    <tr style=\"text-align: right;\">\n",
       "      <th></th>\n",
       "      <th>index</th>\n",
       "      <th>Description</th>\n",
       "      <th>Quantity</th>\n",
       "      <th>UnitPrice</th>\n",
       "      <th>Country</th>\n",
       "      <th>TotalPrice</th>\n",
       "    </tr>\n",
       "  </thead>\n",
       "  <tbody>\n",
       "    <tr>\n",
       "      <th>0</th>\n",
       "      <td>0</td>\n",
       "      <td>3821</td>\n",
       "      <td>6</td>\n",
       "      <td>2.55</td>\n",
       "      <td>United Kingdom</td>\n",
       "      <td>15.30</td>\n",
       "    </tr>\n",
       "    <tr>\n",
       "      <th>1</th>\n",
       "      <td>1</td>\n",
       "      <td>3829</td>\n",
       "      <td>6</td>\n",
       "      <td>3.39</td>\n",
       "      <td>United Kingdom</td>\n",
       "      <td>20.34</td>\n",
       "    </tr>\n",
       "    <tr>\n",
       "      <th>2</th>\n",
       "      <td>2</td>\n",
       "      <td>882</td>\n",
       "      <td>8</td>\n",
       "      <td>2.75</td>\n",
       "      <td>United Kingdom</td>\n",
       "      <td>22.00</td>\n",
       "    </tr>\n",
       "    <tr>\n",
       "      <th>3</th>\n",
       "      <td>3</td>\n",
       "      <td>1851</td>\n",
       "      <td>6</td>\n",
       "      <td>3.39</td>\n",
       "      <td>United Kingdom</td>\n",
       "      <td>20.34</td>\n",
       "    </tr>\n",
       "    <tr>\n",
       "      <th>4</th>\n",
       "      <td>4</td>\n",
       "      <td>2832</td>\n",
       "      <td>6</td>\n",
       "      <td>3.39</td>\n",
       "      <td>United Kingdom</td>\n",
       "      <td>20.34</td>\n",
       "    </tr>\n",
       "  </tbody>\n",
       "</table>\n",
       "</div>"
      ],
      "text/plain": [
       "   index  Description  Quantity  UnitPrice         Country  TotalPrice\n",
       "0      0         3821         6       2.55  United Kingdom       15.30\n",
       "1      1         3829         6       3.39  United Kingdom       20.34\n",
       "2      2          882         8       2.75  United Kingdom       22.00\n",
       "3      3         1851         6       3.39  United Kingdom       20.34\n",
       "4      4         2832         6       3.39  United Kingdom       20.34"
      ]
     },
     "execution_count": 8,
     "metadata": {},
     "output_type": "execute_result"
    }
   ],
   "source": [
    "X.head()"
   ]
  },
  {
   "cell_type": "code",
   "execution_count": 9,
   "id": "d403eef5",
   "metadata": {},
   "outputs": [
    {
     "data": {
      "text/html": [
       "<div>\n",
       "<style scoped>\n",
       "    .dataframe tbody tr th:only-of-type {\n",
       "        vertical-align: middle;\n",
       "    }\n",
       "\n",
       "    .dataframe tbody tr th {\n",
       "        vertical-align: top;\n",
       "    }\n",
       "\n",
       "    .dataframe thead th {\n",
       "        text-align: right;\n",
       "    }\n",
       "</style>\n",
       "<table border=\"1\" class=\"dataframe\">\n",
       "  <thead>\n",
       "    <tr style=\"text-align: right;\">\n",
       "      <th></th>\n",
       "      <th>Country</th>\n",
       "      <th>Description</th>\n",
       "      <th>Quantity</th>\n",
       "      <th>UnitPrice</th>\n",
       "      <th>TotalPrice</th>\n",
       "    </tr>\n",
       "  </thead>\n",
       "  <tbody>\n",
       "    <tr>\n",
       "      <th>0</th>\n",
       "      <td>United Kingdom</td>\n",
       "      <td>3821</td>\n",
       "      <td>-0.085208</td>\n",
       "      <td>-0.210825</td>\n",
       "      <td>0.161922</td>\n",
       "    </tr>\n",
       "    <tr>\n",
       "      <th>1</th>\n",
       "      <td>United Kingdom</td>\n",
       "      <td>3829</td>\n",
       "      <td>-0.085208</td>\n",
       "      <td>0.011637</td>\n",
       "      <td>0.527848</td>\n",
       "    </tr>\n",
       "    <tr>\n",
       "      <th>2</th>\n",
       "      <td>United Kingdom</td>\n",
       "      <td>882</td>\n",
       "      <td>0.159644</td>\n",
       "      <td>-0.157858</td>\n",
       "      <td>0.648371</td>\n",
       "    </tr>\n",
       "    <tr>\n",
       "      <th>3</th>\n",
       "      <td>United Kingdom</td>\n",
       "      <td>1851</td>\n",
       "      <td>-0.085208</td>\n",
       "      <td>0.011637</td>\n",
       "      <td>0.527848</td>\n",
       "    </tr>\n",
       "    <tr>\n",
       "      <th>4</th>\n",
       "      <td>United Kingdom</td>\n",
       "      <td>2832</td>\n",
       "      <td>-0.085208</td>\n",
       "      <td>0.011637</td>\n",
       "      <td>0.527848</td>\n",
       "    </tr>\n",
       "  </tbody>\n",
       "</table>\n",
       "</div>"
      ],
      "text/plain": [
       "          Country  Description  Quantity  UnitPrice  TotalPrice\n",
       "0  United Kingdom         3821 -0.085208  -0.210825    0.161922\n",
       "1  United Kingdom         3829 -0.085208   0.011637    0.527848\n",
       "2  United Kingdom          882  0.159644  -0.157858    0.648371\n",
       "3  United Kingdom         1851 -0.085208   0.011637    0.527848\n",
       "4  United Kingdom         2832 -0.085208   0.011637    0.527848"
      ]
     },
     "execution_count": 9,
     "metadata": {},
     "output_type": "execute_result"
    }
   ],
   "source": [
    "# Create a copy of the DataFrame for scaling\n",
    "scaled_X = X[['Country', 'Description', 'Quantity', 'UnitPrice', 'TotalPrice']].copy()\n",
    "\n",
    "# Select the columns for scaling\n",
    "columns_to_scale = ['Quantity', 'UnitPrice', 'TotalPrice']\n",
    "\n",
    "# Initialize the StandardScaler\n",
    "scaler = StandardScaler()\n",
    "\n",
    "# Fit and transform the selected columns\n",
    "scaled_X[columns_to_scale] = scaler.fit_transform(scaled_X[columns_to_scale])\n",
    "\n",
    "scaled_X.head()"
   ]
  },
  {
   "cell_type": "code",
   "execution_count": 10,
   "id": "0a426ce5",
   "metadata": {
    "scrolled": true
   },
   "outputs": [
    {
     "data": {
      "text/html": [
       "<div>\n",
       "<style scoped>\n",
       "    .dataframe tbody tr th:only-of-type {\n",
       "        vertical-align: middle;\n",
       "    }\n",
       "\n",
       "    .dataframe tbody tr th {\n",
       "        vertical-align: top;\n",
       "    }\n",
       "\n",
       "    .dataframe thead th {\n",
       "        text-align: right;\n",
       "    }\n",
       "</style>\n",
       "<table border=\"1\" class=\"dataframe\">\n",
       "  <thead>\n",
       "    <tr style=\"text-align: right;\">\n",
       "      <th></th>\n",
       "      <th>Description</th>\n",
       "      <th>Quantity</th>\n",
       "      <th>UnitPrice</th>\n",
       "      <th>TotalPrice</th>\n",
       "      <th>Country_Australia</th>\n",
       "      <th>Country_Austria</th>\n",
       "      <th>Country_Bahrain</th>\n",
       "      <th>Country_Belgium</th>\n",
       "      <th>Country_Brazil</th>\n",
       "      <th>Country_Canada</th>\n",
       "      <th>...</th>\n",
       "      <th>Country_RSA</th>\n",
       "      <th>Country_Saudi Arabia</th>\n",
       "      <th>Country_Singapore</th>\n",
       "      <th>Country_Spain</th>\n",
       "      <th>Country_Sweden</th>\n",
       "      <th>Country_Switzerland</th>\n",
       "      <th>Country_USA</th>\n",
       "      <th>Country_United Arab Emirates</th>\n",
       "      <th>Country_United Kingdom</th>\n",
       "      <th>Country_Unspecified</th>\n",
       "    </tr>\n",
       "  </thead>\n",
       "  <tbody>\n",
       "    <tr>\n",
       "      <th>0</th>\n",
       "      <td>3821</td>\n",
       "      <td>-0.085208</td>\n",
       "      <td>-0.210825</td>\n",
       "      <td>0.161922</td>\n",
       "      <td>0</td>\n",
       "      <td>0</td>\n",
       "      <td>0</td>\n",
       "      <td>0</td>\n",
       "      <td>0</td>\n",
       "      <td>0</td>\n",
       "      <td>...</td>\n",
       "      <td>0</td>\n",
       "      <td>0</td>\n",
       "      <td>0</td>\n",
       "      <td>0</td>\n",
       "      <td>0</td>\n",
       "      <td>0</td>\n",
       "      <td>0</td>\n",
       "      <td>0</td>\n",
       "      <td>1</td>\n",
       "      <td>0</td>\n",
       "    </tr>\n",
       "    <tr>\n",
       "      <th>1</th>\n",
       "      <td>3829</td>\n",
       "      <td>-0.085208</td>\n",
       "      <td>0.011637</td>\n",
       "      <td>0.527848</td>\n",
       "      <td>0</td>\n",
       "      <td>0</td>\n",
       "      <td>0</td>\n",
       "      <td>0</td>\n",
       "      <td>0</td>\n",
       "      <td>0</td>\n",
       "      <td>...</td>\n",
       "      <td>0</td>\n",
       "      <td>0</td>\n",
       "      <td>0</td>\n",
       "      <td>0</td>\n",
       "      <td>0</td>\n",
       "      <td>0</td>\n",
       "      <td>0</td>\n",
       "      <td>0</td>\n",
       "      <td>1</td>\n",
       "      <td>0</td>\n",
       "    </tr>\n",
       "  </tbody>\n",
       "</table>\n",
       "<p>2 rows × 42 columns</p>\n",
       "</div>"
      ],
      "text/plain": [
       "   Description  Quantity  UnitPrice  TotalPrice  Country_Australia  \\\n",
       "0         3821 -0.085208  -0.210825    0.161922                  0   \n",
       "1         3829 -0.085208   0.011637    0.527848                  0   \n",
       "\n",
       "   Country_Austria  Country_Bahrain  Country_Belgium  Country_Brazil  \\\n",
       "0                0                0                0               0   \n",
       "1                0                0                0               0   \n",
       "\n",
       "   Country_Canada  ...  Country_RSA  Country_Saudi Arabia  Country_Singapore  \\\n",
       "0               0  ...            0                     0                  0   \n",
       "1               0  ...            0                     0                  0   \n",
       "\n",
       "   Country_Spain  Country_Sweden  Country_Switzerland  Country_USA  \\\n",
       "0              0               0                    0            0   \n",
       "1              0               0                    0            0   \n",
       "\n",
       "   Country_United Arab Emirates  Country_United Kingdom  Country_Unspecified  \n",
       "0                             0                       1                    0  \n",
       "1                             0                       1                    0  \n",
       "\n",
       "[2 rows x 42 columns]"
      ]
     },
     "execution_count": 10,
     "metadata": {},
     "output_type": "execute_result"
    }
   ],
   "source": [
    "scaled_X = pd.get_dummies(scaled_X)\n",
    "scaled_X.head(2)"
   ]
  },
  {
   "cell_type": "markdown",
   "id": "acb298ce",
   "metadata": {},
   "source": [
    "## K-Means Clustering"
   ]
  },
  {
   "cell_type": "markdown",
   "id": "9c764922",
   "metadata": {},
   "source": [
    "### Elbow plot method for appropriate cluster count"
   ]
  },
  {
   "cell_type": "code",
   "execution_count": 11,
   "id": "abd4caa7",
   "metadata": {},
   "outputs": [
    {
     "data": {
      "image/png": "[encoded data removed]",
      "text/plain": [
       "<Figure size 432x288 with 1 Axes>"
      ]
     },
     "metadata": {
      "needs_background": "light"
     },
     "output_type": "display_data"
    }
   ],
   "source": [
    "wcss = [] # WCSS = Within Cluster Sum of Squares\n",
    "for i in range(2,15):\n",
    "    kmeans = KMeans(n_clusters=i, init = 'k-means++',  random_state = 2)\n",
    "    kmeans.fit(scaled_X)\n",
    "    wcss.append(kmeans.inertia_)\n",
    "    \n",
    "plt.plot(range(2, 15), wcss)\n",
    "plt.title('The Elbow Method')\n",
    "plt.xlabel('Number of clusters')\n",
    "plt.ylabel('WCSS')\n",
    "plt.show()"
   ]
  },
  {
   "cell_type": "markdown",
   "id": "59561f4d",
   "metadata": {},
   "source": [
    "From the above chart, we can see that the elbow kink is at clusters = 4"
   ]
  },
  {
   "cell_type": "markdown",
   "id": "e724fb7a",
   "metadata": {},
   "source": [
    "### Training the model"
   ]
  },
  {
   "cell_type": "code",
   "execution_count": 83,
   "id": "eb5fa00c",
   "metadata": {},
   "outputs": [],
   "source": [
    "kmeans = KMeans(n_clusters = 4, init = 'k-means++', random_state = 2)\n",
    "y_kmeans = kmeans.fit_predict(scaled_X)\n",
    "\n",
    "clean_retail_data['Cluster'] = y_kmeans"
   ]
  },
  {
   "cell_type": "code",
   "execution_count": 84,
   "id": "a56cd899",
   "metadata": {},
   "outputs": [
    {
     "name": "stdout",
     "output_type": "stream",
     "text": [
      "[0 0 2 ... 2 2 2]\n"
     ]
    }
   ],
   "source": [
    "print(y_kmeans)"
   ]
  },
  {
   "cell_type": "code",
   "execution_count": 85,
   "id": "bb8c91c0",
   "metadata": {},
   "outputs": [
    {
     "data": {
      "text/plain": [
       "502432"
      ]
     },
     "execution_count": 85,
     "metadata": {},
     "output_type": "execute_result"
    }
   ],
   "source": [
    "len(y_kmeans)"
   ]
  },
  {
   "cell_type": "code",
   "execution_count": 86,
   "id": "17e32cb4",
   "metadata": {},
   "outputs": [
    {
     "data": {
      "text/plain": [
       "(502432, 11)"
      ]
     },
     "execution_count": 86,
     "metadata": {},
     "output_type": "execute_result"
    }
   ],
   "source": [
    "clean_retail_data.shape"
   ]
  },
  {
   "cell_type": "code",
   "execution_count": 87,
   "id": "5f9d056d",
   "metadata": {},
   "outputs": [
    {
     "data": {
      "image/png": "[encoded data removed]",
      "text/plain": [
       "<Figure size 432x288 with 1 Axes>"
      ]
     },
     "metadata": {
      "needs_background": "light"
     },
     "output_type": "display_data"
    }
   ],
   "source": [
    "# Group the data by experience level\n",
    "grouped_data = clean_retail_data.groupby('Cluster')\n",
    "\n",
    "# Calculate statistics\n",
    "cluster_stats = grouped_data['Quantity'].agg(['mean', 'std'])\n",
    "\n",
    "# Plot the distributions\n",
    "for cluster, stats in cluster_stats.iterrows():\n",
    "    mean = stats['mean']\n",
    "    std = stats['std']\n",
    "    salary_values = clean_retail_data[clean_retail_data['Cluster'] == cluster]['Quantity']\n",
    "    \n",
    "    # Assigning a colour to each category; same colour for distribution and mean\n",
    "    color = plt.cm.tab10(cluster_stats.index.get_loc(cluster))  # Assign a color to each category\n",
    "    plt.hist(salary_values, bins=30, density=True, alpha=0.4, label=cluster, color=color)\n",
    "    plt.axvline(mean, color=color, linestyle='dashed', linewidth=1, alpha=0.5)  # Use the same color for the mean line\n",
    "    \n",
    "# Formatting the y-axis tick labels\n",
    "plt.ticklabel_format(style='plain', axis='y')  # Display decimal numbers\n",
    "    \n",
    "plt.legend()\n",
    "plt.xlabel('Quantity')\n",
    "plt.ylabel('Density')\n",
    "plt.title('Salary Distribution for each Experience Level')\n",
    "plt.show()\n"
   ]
  },
  {
   "cell_type": "code",
   "execution_count": 88,
   "id": "39f47fbe",
   "metadata": {},
   "outputs": [
    {
     "data": {
      "image/png": "[encoded data removed]",
      "text/plain": [
       "<Figure size 432x288 with 1 Axes>"
      ]
     },
     "metadata": {
      "needs_background": "light"
     },
     "output_type": "display_data"
    }
   ],
   "source": [
    "# Group the data by experience level\n",
    "grouped_data = clean_retail_data.groupby('Cluster')\n",
    "\n",
    "# Calculate statistics\n",
    "cluster_stats = grouped_data['TotalPrice'].agg(['mean', 'std'])\n",
    "\n",
    "# Plot the distributions\n",
    "for cluster, stats in cluster_stats.iterrows():\n",
    "    mean = stats['mean']\n",
    "    std = stats['std']\n",
    "    salary_values = clean_retail_data[clean_retail_data['Cluster'] == cluster]['TotalPrice']\n",
    "    \n",
    "    # Assigning a colour to each category; same colour for distribution and mean\n",
    "    color = plt.cm.tab10(cluster_stats.index.get_loc(cluster))  # Assign a color to each category\n",
    "    plt.hist(salary_values, bins=30, density=True, alpha=0.4, label=cluster, color=color)\n",
    "    plt.axvline(mean, color=color, linestyle='dashed', linewidth=1, alpha=0.5)  # Use the same color for the mean line\n",
    "    \n",
    "# Formatting the y-axis tick labels\n",
    "plt.ticklabel_format(style='plain', axis='y')  # Display decimal numbers\n",
    "    \n",
    "plt.legend()\n",
    "plt.xlabel('Total Price')\n",
    "plt.ylabel('Density')\n",
    "plt.title('Salary Distribution for each Experience Level')\n",
    "plt.show()\n"
   ]
  },
  {
   "cell_type": "code",
   "execution_count": 89,
   "id": "3d4d43de",
   "metadata": {},
   "outputs": [
    {
     "data": {
      "image/png": "[encoded data removed]",
      "text/plain": [
       "<Figure size 432x288 with 1 Axes>"
      ]
     },
     "metadata": {
      "needs_background": "light"
     },
     "output_type": "display_data"
    }
   ],
   "source": [
    "# Group the data by experience level\n",
    "grouped_data = clean_retail_data.groupby('Cluster')\n",
    "\n",
    "# Calculate statistics\n",
    "cluster_stats = grouped_data['UnitPrice'].agg(['mean', 'std'])\n",
    "\n",
    "# Plot the distributions\n",
    "for cluster, stats in cluster_stats.iterrows():\n",
    "    mean = stats['mean']\n",
    "    std = stats['std']\n",
    "    salary_values = clean_retail_data[clean_retail_data['Cluster'] == cluster]['UnitPrice']\n",
    "    \n",
    "    # Assigning a colour to each category; same colour for distribution and mean\n",
    "    color = plt.cm.tab10(cluster_stats.index.get_loc(cluster))  # Assign a color to each category\n",
    "    plt.hist(salary_values, bins=30, density=True, alpha=0.4, label=cluster, color=color)\n",
    "    plt.axvline(mean, color=color, linestyle='dashed', linewidth=1, alpha=0.5)  # Use the same color for the mean line\n",
    "    \n",
    "# Formatting the y-axis tick labels\n",
    "plt.ticklabel_format(style='plain', axis='y')  # Display decimal numbers\n",
    "    \n",
    "plt.legend()\n",
    "plt.xlabel('Unit Price')\n",
    "plt.ylabel('Density')\n",
    "plt.title('Salary Distribution for each Experience Level')\n",
    "plt.show()\n"
   ]
  },
  {
   "cell_type": "code",
   "execution_count": 90,
   "id": "69a4d323",
   "metadata": {
    "scrolled": false
   },
   "outputs": [
    {
     "data": {
      "image/png": "[encoded data removed]",
      "text/plain": [
       "<Figure size 432x288 with 1 Axes>"
      ]
     },
     "metadata": {
      "needs_background": "light"
     },
     "output_type": "display_data"
    }
   ],
   "source": [
    "plt.scatter(clean_retail_data.loc[clean_retail_data.Cluster==0, ['Quantity']]\\\n",
    "            , clean_retail_data.loc[clean_retail_data.Cluster==0, ['TotalPrice']]\n",
    "            , s = 100, c='red', label = 'Cluster 1')\n",
    "\n",
    "plt.scatter(clean_retail_data.loc[clean_retail_data.Cluster==1, ['Quantity']]\\\n",
    "            , clean_retail_data.loc[clean_retail_data.Cluster==1, ['TotalPrice']]\n",
    "            , s = 100, c='blue', label = 'Cluster 2')\n",
    "\n",
    "plt.scatter(clean_retail_data.loc[clean_retail_data.Cluster==2, ['Quantity']]\\\n",
    "            , clean_retail_data.loc[clean_retail_data.Cluster==2, ['TotalPrice']]\n",
    "            , s = 100, c='green', label = 'Cluster 3')\n",
    "\n",
    "plt.scatter(clean_retail_data.loc[clean_retail_data.Cluster==3, ['Quantity']]\\\n",
    "            , clean_retail_data.loc[clean_retail_data.Cluster==3, ['TotalPrice']]\n",
    "            , s = 100, c='cyan', label = 'Cluster 4')\n",
    "\n",
    "plt.scatter(kmeans.cluster_centers_[:,0], kmeans.cluster_centers_[:,1], s=300, c='yellow', label=\"Centroids\")\n",
    "\n",
    "plt.title('Clusters of products')\n",
    "plt.xlabel('Quantity')\n",
    "plt.ylabel('Total Price (USD)')\n",
    "plt.legend()\n",
    "plt.show()"
   ]
  },
  {
   "cell_type": "code",
   "execution_count": 91,
   "id": "5beee4d4",
   "metadata": {},
   "outputs": [
    {
     "data": {
      "image/png": "[encoded data removed]",
      "text/plain": [
       "<Figure size 432x288 with 1 Axes>"
      ]
     },
     "metadata": {
      "needs_background": "light"
     },
     "output_type": "display_data"
    }
   ],
   "source": [
    "plt.scatter(clean_retail_data.loc[clean_retail_data.Cluster==0, ['Quantity']]\\\n",
    "            , clean_retail_data.loc[clean_retail_data.Cluster==0, ['UnitPrice']]\n",
    "            , s = 100, c='red', label = 'Cluster 1')\n",
    "\n",
    "plt.scatter(clean_retail_data.loc[clean_retail_data.Cluster==1, ['Quantity']]\\\n",
    "            , clean_retail_data.loc[clean_retail_data.Cluster==1, ['UnitPrice']]\n",
    "            , s = 100, c='blue', label = 'Cluster 2')\n",
    "\n",
    "plt.scatter(clean_retail_data.loc[clean_retail_data.Cluster==2, ['Quantity']]\\\n",
    "            , clean_retail_data.loc[clean_retail_data.Cluster==2, ['UnitPrice']]\n",
    "            , s = 100, c='green', label = 'Cluster 3')\n",
    "\n",
    "plt.scatter(clean_retail_data.loc[clean_retail_data.Cluster==3, ['Quantity']]\\\n",
    "            , clean_retail_data.loc[clean_retail_data.Cluster==3, ['UnitPrice']]\n",
    "            , s = 100, c='cyan', label = 'Cluster 4')\n",
    "\n",
    "plt.scatter(kmeans.cluster_centers_[:,0], kmeans.cluster_centers_[:,1], s=300, c='yellow', label=\"Centroids\")\n",
    "\n",
    "plt.title('Clusters of products')\n",
    "plt.xlabel('Quantity')\n",
    "plt.ylabel('Unit Price (USD)')\n",
    "plt.legend()\n",
    "plt.show()"
   ]
  },
  {
   "cell_type": "code",
   "execution_count": 92,
   "id": "ac7439d8",
   "metadata": {},
   "outputs": [
    {
     "data": {
      "image/png": "[encoded data removed]",
      "text/plain": [
       "<Figure size 432x288 with 1 Axes>"
      ]
     },
     "metadata": {
      "needs_background": "light"
     },
     "output_type": "display_data"
    }
   ],
   "source": [
    "plt.scatter(clean_retail_data.loc[clean_retail_data.Cluster==0, ['TotalPrice']]\\\n",
    "            , clean_retail_data.loc[clean_retail_data.Cluster==0, ['UnitPrice']]\n",
    "            , s = 100, c='red', label = 'Cluster 1')\n",
    "\n",
    "plt.scatter(clean_retail_data.loc[clean_retail_data.Cluster==1, ['TotalPrice']]\\\n",
    "            , clean_retail_data.loc[clean_retail_data.Cluster==1, ['UnitPrice']]\n",
    "            , s = 100, c='blue', label = 'Cluster 2')\n",
    "\n",
    "plt.scatter(clean_retail_data.loc[clean_retail_data.Cluster==2, ['TotalPrice']]\\\n",
    "            , clean_retail_data.loc[clean_retail_data.Cluster==2, ['UnitPrice']]\n",
    "            , s = 100, c='green', label = 'Cluster 3')\n",
    "\n",
    "plt.scatter(clean_retail_data.loc[clean_retail_data.Cluster==3, ['TotalPrice']]\\\n",
    "            , clean_retail_data.loc[clean_retail_data.Cluster==3, ['UnitPrice']]\n",
    "            , s = 100, c='cyan', label = 'Cluster 4')\n",
    "\n",
    "plt.scatter(kmeans.cluster_centers_[:,0], kmeans.cluster_centers_[:,1], s=300, c='yellow', label=\"Centroids\")\n",
    "\n",
    "plt.title('Clusters of products')\n",
    "plt.xlabel('Total Price (USD)')\n",
    "plt.ylabel('Unit Price (USD)')\n",
    "plt.legend()\n",
    "plt.show()"
   ]
  },
  {
   "cell_type": "markdown",
   "id": "3b86454c",
   "metadata": {},
   "source": [
    "Now I am trying to understand the pattern in each cluster"
   ]
  },
  {
   "cell_type": "markdown",
   "id": "96d15059",
   "metadata": {},
   "source": [
    "#### Cluster 1"
   ]
  },
  {
   "cell_type": "code",
   "execution_count": 50,
   "id": "8c6f62eb",
   "metadata": {},
   "outputs": [
    {
     "data": {
      "image/png": "[encoded data removed]",
      "text/plain": [
       "<Figure size 432x288 with 1 Axes>"
      ]
     },
     "metadata": {
      "needs_background": "light"
     },
     "output_type": "display_data"
    }
   ],
   "source": [
    "plt.scatter(clean_retail_data.loc[clean_retail_data.Cluster==0, ['Quantity']]\\\n",
    "            , clean_retail_data.loc[clean_retail_data.Cluster==0, ['UnitPrice']]\n",
    "            , s = 100, c='red', label = 'Cluster 1')\n",
    "\n",
    "\n",
    "plt.title('Clusters of products')\n",
    "plt.xlabel('Quantity')\n",
    "plt.ylabel('Unit Price (USD)')\n",
    "plt.legend()\n",
    "plt.show()"
   ]
  },
  {
   "cell_type": "code",
   "execution_count": null,
   "id": "538dc9cc",
   "metadata": {},
   "outputs": [],
   "source": []
  },
  {
   "cell_type": "markdown",
   "id": "3c3dea92",
   "metadata": {},
   "source": [
    "#### Cluster 2"
   ]
  },
  {
   "cell_type": "code",
   "execution_count": 52,
   "id": "3a240002",
   "metadata": {},
   "outputs": [
    {
     "data": {
      "image/png": "[encoded data removed]",
      "text/plain": [
       "<Figure size 432x288 with 1 Axes>"
      ]
     },
     "metadata": {
      "needs_background": "light"
     },
     "output_type": "display_data"
    }
   ],
   "source": [
    "plt.scatter(clean_retail_data.loc[clean_retail_data.Cluster==1, ['Quantity']]\\\n",
    "            , clean_retail_data.loc[clean_retail_data.Cluster==1, ['UnitPrice']]\n",
    "            , s = 100, c='blue', label = 'Cluster 2')\n",
    "\n",
    "\n",
    "plt.title('Clusters of products')\n",
    "plt.xlabel('Quantity')\n",
    "plt.ylabel('Unit Price (USD)')\n",
    "plt.legend()\n",
    "plt.show()"
   ]
  },
  {
   "cell_type": "markdown",
   "id": "c553292d",
   "metadata": {},
   "source": [
    "#### Cluster 3"
   ]
  },
  {
   "cell_type": "code",
   "execution_count": 53,
   "id": "505c6b1e",
   "metadata": {},
   "outputs": [
    {
     "data": {
      "image/png": "[encoded data removed]",
      "text/plain": [
       "<Figure size 432x288 with 1 Axes>"
      ]
     },
     "metadata": {
      "needs_background": "light"
     },
     "output_type": "display_data"
    }
   ],
   "source": [
    "plt.scatter(clean_retail_data.loc[clean_retail_data.Cluster==2, ['Quantity']]\\\n",
    "            , clean_retail_data.loc[clean_retail_data.Cluster==2, ['UnitPrice']]\n",
    "            , s = 100, c='green', label = 'Cluster 3')\n",
    "\n",
    "plt.title('Clusters of products')\n",
    "plt.xlabel('Quantity')\n",
    "plt.ylabel('Unit Price (USD)')\n",
    "plt.legend()\n",
    "plt.show()"
   ]
  },
  {
   "cell_type": "markdown",
   "id": "73915fea",
   "metadata": {},
   "source": [
    "#### Cluster 4"
   ]
  },
  {
   "cell_type": "code",
   "execution_count": 54,
   "id": "bf0ed3d9",
   "metadata": {},
   "outputs": [
    {
     "data": {
      "image/png": "[encoded data removed]",
      "text/plain": [
       "<Figure size 432x288 with 1 Axes>"
      ]
     },
     "metadata": {
      "needs_background": "light"
     },
     "output_type": "display_data"
    }
   ],
   "source": [
    "plt.scatter(clean_retail_data.loc[clean_retail_data.Cluster==3, ['Quantity']]\\\n",
    "            , clean_retail_data.loc[clean_retail_data.Cluster==3, ['UnitPrice']]\n",
    "            , s = 100, c='cyan', label = 'Cluster 4')\n",
    "\n",
    "plt.title('Clusters of products')\n",
    "plt.xlabel('Quantity')\n",
    "plt.ylabel('Unit Price (USD)')\n",
    "plt.legend()\n",
    "plt.show()"
   ]
  }
 ],
 "metadata": {
  "kernelspec": {
   "display_name": "Python 3",
   "language": "python",
   "name": "python3"
  },
  "language_info": {
   "codemirror_mode": {
    "name": "ipython",
    "version": 3
   },
   "file_extension": ".py",
   "mimetype": "text/x-python",
   "name": "python",
   "nbconvert_exporter": "python",
   "pygments_lexer": "ipython3",
   "version": "3.9.12"
  }
 },
 "nbformat": 4,
 "nbformat_minor": 5
}
