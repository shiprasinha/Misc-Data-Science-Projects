{
 "cells": [
  {
   "cell_type": "markdown",
   "id": "35a5edb3",
   "metadata": {},
   "source": [
    "# Predicting the likelihood of heart attacks"
   ]
  },
  {
   "cell_type": "code",
   "execution_count": 1,
   "id": "8a3b85cc",
   "metadata": {},
   "outputs": [],
   "source": [
    "import pandas as pd\n",
    "import matplotlib.pyplot as plt\n",
    "import numpy as np\n",
    "import seaborn as sns"
   ]
  },
  {
   "cell_type": "markdown",
   "id": "c2e29982",
   "metadata": {},
   "source": [
    "### Dataset: Metadata and import\n",
    "\n",
    "*About this dataset*\n",
    "\n",
    "1. Age : Age of the patient\n",
    "\n",
    "2. Sex : Sex of the patient (1 = male, 0 = female)\n",
    "\n",
    "3. exang: exercise induced angina (1 = yes; 0 = no)\n",
    "\n",
    "4. cp : Chest Pain type chest pain type\n",
    "\n",
    "- Value 0: asymptomatic\n",
    "- Value 1: typical angina\n",
    "- Value 2: atypical angina\n",
    "- Value 3: non-anginal pain\n",
    "\n",
    "5. trtbps : resting blood pressure (in mm Hg)\n",
    "\n",
    "6. chol : cholestoral in mg/dl fetched via BMI sensor\n",
    "\n",
    "7. fbs : (fasting blood sugar > 120 mg/dl) (1 = true; 0 = false)\n",
    "\n",
    "8. rest_ecg : resting electrocardiographic results\n",
    "\n",
    "- Value 0: normal\n",
    "- Value 1: having ST-T wave abnormality (T wave inversions and/or ST elevation or depression of > 0.05 mV)\n",
    "- Value 2: showing probable or definite left ventricular hypertrophy by Estes' criteria\n",
    "\n",
    "9. thalach : maximum heart rate achieved\n",
    "\n",
    "10. oldpeak: ST depression induced by exercise relative to rest (‘ST’ relates to positions on the ECG plot)\n",
    "\n",
    "11. slope: the slope of the peak exercise ST segment — 0: downsloping; 1: flat; 2: upsloping\n",
    "\n",
    "12. ca: The number of major vessels (0–3)\n",
    "\n",
    "13. thal: A blood disorder called thalassemia \n",
    "- Value 0: NULL \n",
    "- Value 1: fixed defect (no blood flow in some part of the heart)\n",
    "- Value 2: normal blood flow\n",
    "- Value 3: reversible defect (a blood flow is observed but it is not normal)\n",
    "\n",
    "14. target : \n",
    "- 0= less chance of heart attack \n",
    "- 1= more chance of heart attack"
   ]
  },
  {
   "cell_type": "code",
   "execution_count": 2,
   "id": "d8957114",
   "metadata": {},
   "outputs": [],
   "source": [
    "df = pd.read_csv('heart.csv').drop_duplicates()"
   ]
  },
  {
   "cell_type": "markdown",
   "id": "0ca4fc53",
   "metadata": {},
   "source": [
    "### Distribution of the data in the dataset"
   ]
  },
  {
   "cell_type": "code",
   "execution_count": 3,
   "id": "b9fbcedc",
   "metadata": {},
   "outputs": [
    {
     "data": {
      "text/html": [
       "<div>\n",
       "<style scoped>\n",
       "    .dataframe tbody tr th:only-of-type {\n",
       "        vertical-align: middle;\n",
       "    }\n",
       "\n",
       "    .dataframe tbody tr th {\n",
       "        vertical-align: top;\n",
       "    }\n",
       "\n",
       "    .dataframe thead th {\n",
       "        text-align: right;\n",
       "    }\n",
       "</style>\n",
       "<table border=\"1\" class=\"dataframe\">\n",
       "  <thead>\n",
       "    <tr style=\"text-align: right;\">\n",
       "      <th></th>\n",
       "      <th>age</th>\n",
       "      <th>sex</th>\n",
       "      <th>cp</th>\n",
       "      <th>trtbps</th>\n",
       "      <th>chol</th>\n",
       "      <th>fbs</th>\n",
       "      <th>restecg</th>\n",
       "      <th>thalachh</th>\n",
       "      <th>exng</th>\n",
       "      <th>oldpeak</th>\n",
       "      <th>slp</th>\n",
       "      <th>caa</th>\n",
       "      <th>thall</th>\n",
       "      <th>output</th>\n",
       "    </tr>\n",
       "  </thead>\n",
       "  <tbody>\n",
       "    <tr>\n",
       "      <th>0</th>\n",
       "      <td>63</td>\n",
       "      <td>1</td>\n",
       "      <td>3</td>\n",
       "      <td>145</td>\n",
       "      <td>233</td>\n",
       "      <td>1</td>\n",
       "      <td>0</td>\n",
       "      <td>150</td>\n",
       "      <td>0</td>\n",
       "      <td>2.3</td>\n",
       "      <td>0</td>\n",
       "      <td>0</td>\n",
       "      <td>1</td>\n",
       "      <td>1</td>\n",
       "    </tr>\n",
       "    <tr>\n",
       "      <th>1</th>\n",
       "      <td>37</td>\n",
       "      <td>1</td>\n",
       "      <td>2</td>\n",
       "      <td>130</td>\n",
       "      <td>250</td>\n",
       "      <td>0</td>\n",
       "      <td>1</td>\n",
       "      <td>187</td>\n",
       "      <td>0</td>\n",
       "      <td>3.5</td>\n",
       "      <td>0</td>\n",
       "      <td>0</td>\n",
       "      <td>2</td>\n",
       "      <td>1</td>\n",
       "    </tr>\n",
       "    <tr>\n",
       "      <th>2</th>\n",
       "      <td>41</td>\n",
       "      <td>0</td>\n",
       "      <td>1</td>\n",
       "      <td>130</td>\n",
       "      <td>204</td>\n",
       "      <td>0</td>\n",
       "      <td>0</td>\n",
       "      <td>172</td>\n",
       "      <td>0</td>\n",
       "      <td>1.4</td>\n",
       "      <td>2</td>\n",
       "      <td>0</td>\n",
       "      <td>2</td>\n",
       "      <td>1</td>\n",
       "    </tr>\n",
       "    <tr>\n",
       "      <th>3</th>\n",
       "      <td>56</td>\n",
       "      <td>1</td>\n",
       "      <td>1</td>\n",
       "      <td>120</td>\n",
       "      <td>236</td>\n",
       "      <td>0</td>\n",
       "      <td>1</td>\n",
       "      <td>178</td>\n",
       "      <td>0</td>\n",
       "      <td>0.8</td>\n",
       "      <td>2</td>\n",
       "      <td>0</td>\n",
       "      <td>2</td>\n",
       "      <td>1</td>\n",
       "    </tr>\n",
       "    <tr>\n",
       "      <th>4</th>\n",
       "      <td>57</td>\n",
       "      <td>0</td>\n",
       "      <td>0</td>\n",
       "      <td>120</td>\n",
       "      <td>354</td>\n",
       "      <td>0</td>\n",
       "      <td>1</td>\n",
       "      <td>163</td>\n",
       "      <td>1</td>\n",
       "      <td>0.6</td>\n",
       "      <td>2</td>\n",
       "      <td>0</td>\n",
       "      <td>2</td>\n",
       "      <td>1</td>\n",
       "    </tr>\n",
       "  </tbody>\n",
       "</table>\n",
       "</div>"
      ],
      "text/plain": [
       "   age  sex  cp  trtbps  chol  fbs  restecg  thalachh  exng  oldpeak  slp  \\\n",
       "0   63    1   3     145   233    1        0       150     0      2.3    0   \n",
       "1   37    1   2     130   250    0        1       187     0      3.5    0   \n",
       "2   41    0   1     130   204    0        0       172     0      1.4    2   \n",
       "3   56    1   1     120   236    0        1       178     0      0.8    2   \n",
       "4   57    0   0     120   354    0        1       163     1      0.6    2   \n",
       "\n",
       "   caa  thall  output  \n",
       "0    0      1       1  \n",
       "1    0      2       1  \n",
       "2    0      2       1  \n",
       "3    0      2       1  \n",
       "4    0      2       1  "
      ]
     },
     "execution_count": 3,
     "metadata": {},
     "output_type": "execute_result"
    }
   ],
   "source": [
    "df.head()"
   ]
  },
  {
   "cell_type": "markdown",
   "id": "3f6c62f7",
   "metadata": {},
   "source": [
    "Based on the data description, unique values in each column along with the finding that none of the columns have any Null values we have identified the categorical and continuous independent variables in the dataset. So I will create lists containing the independent variables of both types for use throughout our project"
   ]
  },
  {
   "cell_type": "code",
   "execution_count": 4,
   "id": "9eb2c92d",
   "metadata": {},
   "outputs": [],
   "source": [
    "str_cols = ['sex', 'cp', 'fbs', 'restecg', 'exng', 'slp', 'caa', 'thall', 'output']\n",
    "num_cols = ['age', 'trtbps', 'chol', 'thalachh', 'oldpeak']"
   ]
  },
  {
   "cell_type": "code",
   "execution_count": 5,
   "id": "69b14200",
   "metadata": {
    "scrolled": false
   },
   "outputs": [
    {
     "data": {
      "text/html": [
       "<div>\n",
       "<style scoped>\n",
       "    .dataframe tbody tr th:only-of-type {\n",
       "        vertical-align: middle;\n",
       "    }\n",
       "\n",
       "    .dataframe tbody tr th {\n",
       "        vertical-align: top;\n",
       "    }\n",
       "\n",
       "    .dataframe thead th {\n",
       "        text-align: right;\n",
       "    }\n",
       "</style>\n",
       "<table border=\"1\" class=\"dataframe\">\n",
       "  <thead>\n",
       "    <tr style=\"text-align: right;\">\n",
       "      <th></th>\n",
       "      <th>age</th>\n",
       "      <th>sex</th>\n",
       "      <th>cp</th>\n",
       "      <th>trtbps</th>\n",
       "      <th>chol</th>\n",
       "      <th>fbs</th>\n",
       "      <th>restecg</th>\n",
       "      <th>thalachh</th>\n",
       "      <th>exng</th>\n",
       "      <th>oldpeak</th>\n",
       "      <th>slp</th>\n",
       "      <th>caa</th>\n",
       "      <th>thall</th>\n",
       "      <th>output</th>\n",
       "    </tr>\n",
       "  </thead>\n",
       "  <tbody>\n",
       "    <tr>\n",
       "      <th>count</th>\n",
       "      <td>302.00000</td>\n",
       "      <td>302.000000</td>\n",
       "      <td>302.000000</td>\n",
       "      <td>302.000000</td>\n",
       "      <td>302.000000</td>\n",
       "      <td>302.000000</td>\n",
       "      <td>302.000000</td>\n",
       "      <td>302.000000</td>\n",
       "      <td>302.000000</td>\n",
       "      <td>302.000000</td>\n",
       "      <td>302.000000</td>\n",
       "      <td>302.000000</td>\n",
       "      <td>302.000000</td>\n",
       "      <td>302.000000</td>\n",
       "    </tr>\n",
       "    <tr>\n",
       "      <th>mean</th>\n",
       "      <td>54.42053</td>\n",
       "      <td>0.682119</td>\n",
       "      <td>0.963576</td>\n",
       "      <td>131.602649</td>\n",
       "      <td>246.500000</td>\n",
       "      <td>0.149007</td>\n",
       "      <td>0.526490</td>\n",
       "      <td>149.569536</td>\n",
       "      <td>0.327815</td>\n",
       "      <td>1.043046</td>\n",
       "      <td>1.397351</td>\n",
       "      <td>0.718543</td>\n",
       "      <td>2.314570</td>\n",
       "      <td>0.543046</td>\n",
       "    </tr>\n",
       "    <tr>\n",
       "      <th>std</th>\n",
       "      <td>9.04797</td>\n",
       "      <td>0.466426</td>\n",
       "      <td>1.032044</td>\n",
       "      <td>17.563394</td>\n",
       "      <td>51.753489</td>\n",
       "      <td>0.356686</td>\n",
       "      <td>0.526027</td>\n",
       "      <td>22.903527</td>\n",
       "      <td>0.470196</td>\n",
       "      <td>1.161452</td>\n",
       "      <td>0.616274</td>\n",
       "      <td>1.006748</td>\n",
       "      <td>0.613026</td>\n",
       "      <td>0.498970</td>\n",
       "    </tr>\n",
       "    <tr>\n",
       "      <th>min</th>\n",
       "      <td>29.00000</td>\n",
       "      <td>0.000000</td>\n",
       "      <td>0.000000</td>\n",
       "      <td>94.000000</td>\n",
       "      <td>126.000000</td>\n",
       "      <td>0.000000</td>\n",
       "      <td>0.000000</td>\n",
       "      <td>71.000000</td>\n",
       "      <td>0.000000</td>\n",
       "      <td>0.000000</td>\n",
       "      <td>0.000000</td>\n",
       "      <td>0.000000</td>\n",
       "      <td>0.000000</td>\n",
       "      <td>0.000000</td>\n",
       "    </tr>\n",
       "    <tr>\n",
       "      <th>25%</th>\n",
       "      <td>48.00000</td>\n",
       "      <td>0.000000</td>\n",
       "      <td>0.000000</td>\n",
       "      <td>120.000000</td>\n",
       "      <td>211.000000</td>\n",
       "      <td>0.000000</td>\n",
       "      <td>0.000000</td>\n",
       "      <td>133.250000</td>\n",
       "      <td>0.000000</td>\n",
       "      <td>0.000000</td>\n",
       "      <td>1.000000</td>\n",
       "      <td>0.000000</td>\n",
       "      <td>2.000000</td>\n",
       "      <td>0.000000</td>\n",
       "    </tr>\n",
       "    <tr>\n",
       "      <th>50%</th>\n",
       "      <td>55.50000</td>\n",
       "      <td>1.000000</td>\n",
       "      <td>1.000000</td>\n",
       "      <td>130.000000</td>\n",
       "      <td>240.500000</td>\n",
       "      <td>0.000000</td>\n",
       "      <td>1.000000</td>\n",
       "      <td>152.500000</td>\n",
       "      <td>0.000000</td>\n",
       "      <td>0.800000</td>\n",
       "      <td>1.000000</td>\n",
       "      <td>0.000000</td>\n",
       "      <td>2.000000</td>\n",
       "      <td>1.000000</td>\n",
       "    </tr>\n",
       "    <tr>\n",
       "      <th>75%</th>\n",
       "      <td>61.00000</td>\n",
       "      <td>1.000000</td>\n",
       "      <td>2.000000</td>\n",
       "      <td>140.000000</td>\n",
       "      <td>274.750000</td>\n",
       "      <td>0.000000</td>\n",
       "      <td>1.000000</td>\n",
       "      <td>166.000000</td>\n",
       "      <td>1.000000</td>\n",
       "      <td>1.600000</td>\n",
       "      <td>2.000000</td>\n",
       "      <td>1.000000</td>\n",
       "      <td>3.000000</td>\n",
       "      <td>1.000000</td>\n",
       "    </tr>\n",
       "    <tr>\n",
       "      <th>max</th>\n",
       "      <td>77.00000</td>\n",
       "      <td>1.000000</td>\n",
       "      <td>3.000000</td>\n",
       "      <td>200.000000</td>\n",
       "      <td>564.000000</td>\n",
       "      <td>1.000000</td>\n",
       "      <td>2.000000</td>\n",
       "      <td>202.000000</td>\n",
       "      <td>1.000000</td>\n",
       "      <td>6.200000</td>\n",
       "      <td>2.000000</td>\n",
       "      <td>4.000000</td>\n",
       "      <td>3.000000</td>\n",
       "      <td>1.000000</td>\n",
       "    </tr>\n",
       "  </tbody>\n",
       "</table>\n",
       "</div>"
      ],
      "text/plain": [
       "             age         sex          cp      trtbps        chol         fbs  \\\n",
       "count  302.00000  302.000000  302.000000  302.000000  302.000000  302.000000   \n",
       "mean    54.42053    0.682119    0.963576  131.602649  246.500000    0.149007   \n",
       "std      9.04797    0.466426    1.032044   17.563394   51.753489    0.356686   \n",
       "min     29.00000    0.000000    0.000000   94.000000  126.000000    0.000000   \n",
       "25%     48.00000    0.000000    0.000000  120.000000  211.000000    0.000000   \n",
       "50%     55.50000    1.000000    1.000000  130.000000  240.500000    0.000000   \n",
       "75%     61.00000    1.000000    2.000000  140.000000  274.750000    0.000000   \n",
       "max     77.00000    1.000000    3.000000  200.000000  564.000000    1.000000   \n",
       "\n",
       "          restecg    thalachh        exng     oldpeak         slp         caa  \\\n",
       "count  302.000000  302.000000  302.000000  302.000000  302.000000  302.000000   \n",
       "mean     0.526490  149.569536    0.327815    1.043046    1.397351    0.718543   \n",
       "std      0.526027   22.903527    0.470196    1.161452    0.616274    1.006748   \n",
       "min      0.000000   71.000000    0.000000    0.000000    0.000000    0.000000   \n",
       "25%      0.000000  133.250000    0.000000    0.000000    1.000000    0.000000   \n",
       "50%      1.000000  152.500000    0.000000    0.800000    1.000000    0.000000   \n",
       "75%      1.000000  166.000000    1.000000    1.600000    2.000000    1.000000   \n",
       "max      2.000000  202.000000    1.000000    6.200000    2.000000    4.000000   \n",
       "\n",
       "            thall      output  \n",
       "count  302.000000  302.000000  \n",
       "mean     2.314570    0.543046  \n",
       "std      0.613026    0.498970  \n",
       "min      0.000000    0.000000  \n",
       "25%      2.000000    0.000000  \n",
       "50%      2.000000    1.000000  \n",
       "75%      3.000000    1.000000  \n",
       "max      3.000000    1.000000  "
      ]
     },
     "execution_count": 5,
     "metadata": {},
     "output_type": "execute_result"
    }
   ],
   "source": [
    "df.describe()"
   ]
  },
  {
   "cell_type": "markdown",
   "id": "29171d8f",
   "metadata": {},
   "source": [
    "Very low blood pressure or high cholestrol can be a cause of heart attack"
   ]
  },
  {
   "cell_type": "markdown",
   "id": "cb341bef",
   "metadata": {},
   "source": [
    "## Classification Modeling\n",
    "\n",
    "### 1. Preparing the data for modeling\n",
    "\n",
    "#### A.  Splitting data into training and testing\n",
    "\n",
    "First I want to make the dataframe more readable before transformations to track back categorical encoding "
   ]
  },
  {
   "cell_type": "code",
   "execution_count": 6,
   "id": "a6df4a42",
   "metadata": {},
   "outputs": [],
   "source": [
    "model_data = df.copy(deep=True)\n",
    "\n",
    "# For chest pain (cp) column\n",
    "conditions = [model_data.cp == 0, model_data.cp == 1, model_data.cp == 2, model_data.cp == 3]\n",
    "choices = ['Asymptomatic', 'Typical angina', 'Atypical angina', 'Non-anginal pain']\n",
    "model_data['cp'] = np.select(condlist= conditions, choicelist=choices)\n",
    "\n",
    "# For slope during ST exercise\n",
    "conditions = [model_data.slp == 0, model_data.slp == 1, model_data.slp == 2 ]\n",
    "choices = ['Downsloping', 'Flat', 'Upsloping']\n",
    "model_data['slp'] = np.select(condlist= conditions, choicelist=choices)\n",
    "\n",
    "# For thallasemia\n",
    "conditions = [model_data.thall == 0, model_data.thall == 1, model_data.thall == 2, model_data.thall == 3 ]\n",
    "choices = ['None', 'Fixed Defect', 'Normal Flow', 'Reversible Defect']\n",
    "model_data['thall'] = np.select(condlist= conditions, choicelist=choices)"
   ]
  },
  {
   "cell_type": "code",
   "execution_count": 7,
   "id": "ae004d27",
   "metadata": {},
   "outputs": [],
   "source": [
    "model_data = model_data[['sex', 'fbs', 'restecg', 'exng', 'caa', 'cp', 'slp', 'thall', \n",
    "                        'age', 'trtbps', 'chol', 'thalachh', 'oldpeak', 'output']]"
   ]
  },
  {
   "cell_type": "code",
   "execution_count": 8,
   "id": "4f2b9187",
   "metadata": {},
   "outputs": [
    {
     "data": {
      "text/plain": [
       "Index(['sex', 'fbs', 'restecg', 'exng', 'caa', 'cp', 'slp', 'thall', 'age',\n",
       "       'trtbps', 'chol', 'thalachh', 'oldpeak', 'output'],\n",
       "      dtype='object')"
      ]
     },
     "execution_count": 8,
     "metadata": {},
     "output_type": "execute_result"
    }
   ],
   "source": [
    "model_data.columns"
   ]
  },
  {
   "cell_type": "markdown",
   "id": "4315f777",
   "metadata": {},
   "source": [
    "I re-arranged the columns to make sure that all columns that need to be encoded will be at the end of the dependent variable dataset (X) once we divide model_data into X & y."
   ]
  },
  {
   "cell_type": "code",
   "execution_count": 9,
   "id": "166223be",
   "metadata": {},
   "outputs": [],
   "source": [
    "X = model_data.drop(columns=['output'])\n",
    "y = model_data['output']"
   ]
  },
  {
   "cell_type": "code",
   "execution_count": 10,
   "id": "0958a9a8",
   "metadata": {},
   "outputs": [
    {
     "data": {
      "text/html": [
       "<div>\n",
       "<style scoped>\n",
       "    .dataframe tbody tr th:only-of-type {\n",
       "        vertical-align: middle;\n",
       "    }\n",
       "\n",
       "    .dataframe tbody tr th {\n",
       "        vertical-align: top;\n",
       "    }\n",
       "\n",
       "    .dataframe thead th {\n",
       "        text-align: right;\n",
       "    }\n",
       "</style>\n",
       "<table border=\"1\" class=\"dataframe\">\n",
       "  <thead>\n",
       "    <tr style=\"text-align: right;\">\n",
       "      <th></th>\n",
       "      <th>sex</th>\n",
       "      <th>fbs</th>\n",
       "      <th>restecg</th>\n",
       "      <th>exng</th>\n",
       "      <th>caa</th>\n",
       "      <th>cp</th>\n",
       "      <th>slp</th>\n",
       "      <th>thall</th>\n",
       "      <th>age</th>\n",
       "      <th>trtbps</th>\n",
       "      <th>chol</th>\n",
       "      <th>thalachh</th>\n",
       "      <th>oldpeak</th>\n",
       "    </tr>\n",
       "  </thead>\n",
       "  <tbody>\n",
       "    <tr>\n",
       "      <th>0</th>\n",
       "      <td>1</td>\n",
       "      <td>1</td>\n",
       "      <td>0</td>\n",
       "      <td>0</td>\n",
       "      <td>0</td>\n",
       "      <td>Non-anginal pain</td>\n",
       "      <td>Downsloping</td>\n",
       "      <td>Fixed Defect</td>\n",
       "      <td>63</td>\n",
       "      <td>145</td>\n",
       "      <td>233</td>\n",
       "      <td>150</td>\n",
       "      <td>2.3</td>\n",
       "    </tr>\n",
       "    <tr>\n",
       "      <th>1</th>\n",
       "      <td>1</td>\n",
       "      <td>0</td>\n",
       "      <td>1</td>\n",
       "      <td>0</td>\n",
       "      <td>0</td>\n",
       "      <td>Atypical angina</td>\n",
       "      <td>Downsloping</td>\n",
       "      <td>Normal Flow</td>\n",
       "      <td>37</td>\n",
       "      <td>130</td>\n",
       "      <td>250</td>\n",
       "      <td>187</td>\n",
       "      <td>3.5</td>\n",
       "    </tr>\n",
       "    <tr>\n",
       "      <th>2</th>\n",
       "      <td>0</td>\n",
       "      <td>0</td>\n",
       "      <td>0</td>\n",
       "      <td>0</td>\n",
       "      <td>0</td>\n",
       "      <td>Typical angina</td>\n",
       "      <td>Upsloping</td>\n",
       "      <td>Normal Flow</td>\n",
       "      <td>41</td>\n",
       "      <td>130</td>\n",
       "      <td>204</td>\n",
       "      <td>172</td>\n",
       "      <td>1.4</td>\n",
       "    </tr>\n",
       "    <tr>\n",
       "      <th>3</th>\n",
       "      <td>1</td>\n",
       "      <td>0</td>\n",
       "      <td>1</td>\n",
       "      <td>0</td>\n",
       "      <td>0</td>\n",
       "      <td>Typical angina</td>\n",
       "      <td>Upsloping</td>\n",
       "      <td>Normal Flow</td>\n",
       "      <td>56</td>\n",
       "      <td>120</td>\n",
       "      <td>236</td>\n",
       "      <td>178</td>\n",
       "      <td>0.8</td>\n",
       "    </tr>\n",
       "    <tr>\n",
       "      <th>4</th>\n",
       "      <td>0</td>\n",
       "      <td>0</td>\n",
       "      <td>1</td>\n",
       "      <td>1</td>\n",
       "      <td>0</td>\n",
       "      <td>Asymptomatic</td>\n",
       "      <td>Upsloping</td>\n",
       "      <td>Normal Flow</td>\n",
       "      <td>57</td>\n",
       "      <td>120</td>\n",
       "      <td>354</td>\n",
       "      <td>163</td>\n",
       "      <td>0.6</td>\n",
       "    </tr>\n",
       "    <tr>\n",
       "      <th>5</th>\n",
       "      <td>1</td>\n",
       "      <td>0</td>\n",
       "      <td>1</td>\n",
       "      <td>0</td>\n",
       "      <td>0</td>\n",
       "      <td>Asymptomatic</td>\n",
       "      <td>Flat</td>\n",
       "      <td>Fixed Defect</td>\n",
       "      <td>57</td>\n",
       "      <td>140</td>\n",
       "      <td>192</td>\n",
       "      <td>148</td>\n",
       "      <td>0.4</td>\n",
       "    </tr>\n",
       "    <tr>\n",
       "      <th>6</th>\n",
       "      <td>0</td>\n",
       "      <td>0</td>\n",
       "      <td>0</td>\n",
       "      <td>0</td>\n",
       "      <td>0</td>\n",
       "      <td>Typical angina</td>\n",
       "      <td>Flat</td>\n",
       "      <td>Normal Flow</td>\n",
       "      <td>56</td>\n",
       "      <td>140</td>\n",
       "      <td>294</td>\n",
       "      <td>153</td>\n",
       "      <td>1.3</td>\n",
       "    </tr>\n",
       "    <tr>\n",
       "      <th>7</th>\n",
       "      <td>1</td>\n",
       "      <td>0</td>\n",
       "      <td>1</td>\n",
       "      <td>0</td>\n",
       "      <td>0</td>\n",
       "      <td>Typical angina</td>\n",
       "      <td>Upsloping</td>\n",
       "      <td>Reversible Defect</td>\n",
       "      <td>44</td>\n",
       "      <td>120</td>\n",
       "      <td>263</td>\n",
       "      <td>173</td>\n",
       "      <td>0.0</td>\n",
       "    </tr>\n",
       "    <tr>\n",
       "      <th>8</th>\n",
       "      <td>1</td>\n",
       "      <td>1</td>\n",
       "      <td>1</td>\n",
       "      <td>0</td>\n",
       "      <td>0</td>\n",
       "      <td>Atypical angina</td>\n",
       "      <td>Upsloping</td>\n",
       "      <td>Reversible Defect</td>\n",
       "      <td>52</td>\n",
       "      <td>172</td>\n",
       "      <td>199</td>\n",
       "      <td>162</td>\n",
       "      <td>0.5</td>\n",
       "    </tr>\n",
       "    <tr>\n",
       "      <th>9</th>\n",
       "      <td>1</td>\n",
       "      <td>0</td>\n",
       "      <td>1</td>\n",
       "      <td>0</td>\n",
       "      <td>0</td>\n",
       "      <td>Atypical angina</td>\n",
       "      <td>Upsloping</td>\n",
       "      <td>Normal Flow</td>\n",
       "      <td>57</td>\n",
       "      <td>150</td>\n",
       "      <td>168</td>\n",
       "      <td>174</td>\n",
       "      <td>1.6</td>\n",
       "    </tr>\n",
       "  </tbody>\n",
       "</table>\n",
       "</div>"
      ],
      "text/plain": [
       "   sex  fbs  restecg  exng  caa                cp          slp  \\\n",
       "0    1    1        0     0    0  Non-anginal pain  Downsloping   \n",
       "1    1    0        1     0    0   Atypical angina  Downsloping   \n",
       "2    0    0        0     0    0    Typical angina    Upsloping   \n",
       "3    1    0        1     0    0    Typical angina    Upsloping   \n",
       "4    0    0        1     1    0      Asymptomatic    Upsloping   \n",
       "5    1    0        1     0    0      Asymptomatic         Flat   \n",
       "6    0    0        0     0    0    Typical angina         Flat   \n",
       "7    1    0        1     0    0    Typical angina    Upsloping   \n",
       "8    1    1        1     0    0   Atypical angina    Upsloping   \n",
       "9    1    0        1     0    0   Atypical angina    Upsloping   \n",
       "\n",
       "               thall  age  trtbps  chol  thalachh  oldpeak  \n",
       "0       Fixed Defect   63     145   233       150      2.3  \n",
       "1        Normal Flow   37     130   250       187      3.5  \n",
       "2        Normal Flow   41     130   204       172      1.4  \n",
       "3        Normal Flow   56     120   236       178      0.8  \n",
       "4        Normal Flow   57     120   354       163      0.6  \n",
       "5       Fixed Defect   57     140   192       148      0.4  \n",
       "6        Normal Flow   56     140   294       153      1.3  \n",
       "7  Reversible Defect   44     120   263       173      0.0  \n",
       "8  Reversible Defect   52     172   199       162      0.5  \n",
       "9        Normal Flow   57     150   168       174      1.6  "
      ]
     },
     "execution_count": 10,
     "metadata": {},
     "output_type": "execute_result"
    }
   ],
   "source": [
    "X[0:10]"
   ]
  },
  {
   "cell_type": "markdown",
   "id": "3c59e53d",
   "metadata": {},
   "source": [
    "#### B. Encoding the categorical data\n",
    "\n",
    "The categorical columns need to be encoded in order for the models to preform their best. Below is a list of all the categorical columns and a plan for their encoding:\n",
    "1. Sex, Fast blood sugar (fbs), Exercise induced angina (exng) - These columns already contain just 0 & 1 so we don't need to encode it.\n",
    "2. Chest pain (cp), thall, slope (slp) - These variables need to be encoded and treated for dummy variable trap.\n",
    "3. restecg - This categorical variable is ordinal in nature and is already has those values in-built"
   ]
  },
  {
   "cell_type": "code",
   "execution_count": 11,
   "id": "1a30a117",
   "metadata": {},
   "outputs": [
    {
     "data": {
      "text/html": [
       "<div>\n",
       "<style scoped>\n",
       "    .dataframe tbody tr th:only-of-type {\n",
       "        vertical-align: middle;\n",
       "    }\n",
       "\n",
       "    .dataframe tbody tr th {\n",
       "        vertical-align: top;\n",
       "    }\n",
       "\n",
       "    .dataframe thead th {\n",
       "        text-align: right;\n",
       "    }\n",
       "</style>\n",
       "<table border=\"1\" class=\"dataframe\">\n",
       "  <thead>\n",
       "    <tr style=\"text-align: right;\">\n",
       "      <th></th>\n",
       "      <th>0</th>\n",
       "      <th>1</th>\n",
       "      <th>2</th>\n",
       "      <th>3</th>\n",
       "      <th>4</th>\n",
       "      <th>5</th>\n",
       "      <th>6</th>\n",
       "      <th>7</th>\n",
       "      <th>8</th>\n",
       "      <th>9</th>\n",
       "      <th>...</th>\n",
       "      <th>11</th>\n",
       "      <th>12</th>\n",
       "      <th>13</th>\n",
       "      <th>14</th>\n",
       "      <th>15</th>\n",
       "      <th>16</th>\n",
       "      <th>17</th>\n",
       "      <th>18</th>\n",
       "      <th>19</th>\n",
       "      <th>20</th>\n",
       "    </tr>\n",
       "  </thead>\n",
       "  <tbody>\n",
       "    <tr>\n",
       "      <th>0</th>\n",
       "      <td>0.0</td>\n",
       "      <td>0.0</td>\n",
       "      <td>1.0</td>\n",
       "      <td>0.0</td>\n",
       "      <td>1.0</td>\n",
       "      <td>0.0</td>\n",
       "      <td>0.0</td>\n",
       "      <td>1.0</td>\n",
       "      <td>0.0</td>\n",
       "      <td>0.0</td>\n",
       "      <td>...</td>\n",
       "      <td>1.0</td>\n",
       "      <td>1.0</td>\n",
       "      <td>0.0</td>\n",
       "      <td>0.0</td>\n",
       "      <td>0.0</td>\n",
       "      <td>63.0</td>\n",
       "      <td>145.0</td>\n",
       "      <td>233.0</td>\n",
       "      <td>150.0</td>\n",
       "      <td>2.3</td>\n",
       "    </tr>\n",
       "    <tr>\n",
       "      <th>1</th>\n",
       "      <td>0.0</td>\n",
       "      <td>1.0</td>\n",
       "      <td>0.0</td>\n",
       "      <td>0.0</td>\n",
       "      <td>1.0</td>\n",
       "      <td>0.0</td>\n",
       "      <td>0.0</td>\n",
       "      <td>0.0</td>\n",
       "      <td>0.0</td>\n",
       "      <td>1.0</td>\n",
       "      <td>...</td>\n",
       "      <td>1.0</td>\n",
       "      <td>0.0</td>\n",
       "      <td>1.0</td>\n",
       "      <td>0.0</td>\n",
       "      <td>0.0</td>\n",
       "      <td>37.0</td>\n",
       "      <td>130.0</td>\n",
       "      <td>250.0</td>\n",
       "      <td>187.0</td>\n",
       "      <td>3.5</td>\n",
       "    </tr>\n",
       "    <tr>\n",
       "      <th>2</th>\n",
       "      <td>0.0</td>\n",
       "      <td>0.0</td>\n",
       "      <td>0.0</td>\n",
       "      <td>1.0</td>\n",
       "      <td>0.0</td>\n",
       "      <td>0.0</td>\n",
       "      <td>1.0</td>\n",
       "      <td>0.0</td>\n",
       "      <td>0.0</td>\n",
       "      <td>1.0</td>\n",
       "      <td>...</td>\n",
       "      <td>0.0</td>\n",
       "      <td>0.0</td>\n",
       "      <td>0.0</td>\n",
       "      <td>0.0</td>\n",
       "      <td>0.0</td>\n",
       "      <td>41.0</td>\n",
       "      <td>130.0</td>\n",
       "      <td>204.0</td>\n",
       "      <td>172.0</td>\n",
       "      <td>1.4</td>\n",
       "    </tr>\n",
       "    <tr>\n",
       "      <th>3</th>\n",
       "      <td>0.0</td>\n",
       "      <td>0.0</td>\n",
       "      <td>0.0</td>\n",
       "      <td>1.0</td>\n",
       "      <td>0.0</td>\n",
       "      <td>0.0</td>\n",
       "      <td>1.0</td>\n",
       "      <td>0.0</td>\n",
       "      <td>0.0</td>\n",
       "      <td>1.0</td>\n",
       "      <td>...</td>\n",
       "      <td>1.0</td>\n",
       "      <td>0.0</td>\n",
       "      <td>1.0</td>\n",
       "      <td>0.0</td>\n",
       "      <td>0.0</td>\n",
       "      <td>56.0</td>\n",
       "      <td>120.0</td>\n",
       "      <td>236.0</td>\n",
       "      <td>178.0</td>\n",
       "      <td>0.8</td>\n",
       "    </tr>\n",
       "    <tr>\n",
       "      <th>4</th>\n",
       "      <td>1.0</td>\n",
       "      <td>0.0</td>\n",
       "      <td>0.0</td>\n",
       "      <td>0.0</td>\n",
       "      <td>0.0</td>\n",
       "      <td>0.0</td>\n",
       "      <td>1.0</td>\n",
       "      <td>0.0</td>\n",
       "      <td>0.0</td>\n",
       "      <td>1.0</td>\n",
       "      <td>...</td>\n",
       "      <td>0.0</td>\n",
       "      <td>0.0</td>\n",
       "      <td>1.0</td>\n",
       "      <td>1.0</td>\n",
       "      <td>0.0</td>\n",
       "      <td>57.0</td>\n",
       "      <td>120.0</td>\n",
       "      <td>354.0</td>\n",
       "      <td>163.0</td>\n",
       "      <td>0.6</td>\n",
       "    </tr>\n",
       "  </tbody>\n",
       "</table>\n",
       "<p>5 rows × 21 columns</p>\n",
       "</div>"
      ],
      "text/plain": [
       "    0    1    2    3    4    5    6    7    8    9   ...   11   12   13   14  \\\n",
       "0  0.0  0.0  1.0  0.0  1.0  0.0  0.0  1.0  0.0  0.0  ...  1.0  1.0  0.0  0.0   \n",
       "1  0.0  1.0  0.0  0.0  1.0  0.0  0.0  0.0  0.0  1.0  ...  1.0  0.0  1.0  0.0   \n",
       "2  0.0  0.0  0.0  1.0  0.0  0.0  1.0  0.0  0.0  1.0  ...  0.0  0.0  0.0  0.0   \n",
       "3  0.0  0.0  0.0  1.0  0.0  0.0  1.0  0.0  0.0  1.0  ...  1.0  0.0  1.0  0.0   \n",
       "4  1.0  0.0  0.0  0.0  0.0  0.0  1.0  0.0  0.0  1.0  ...  0.0  0.0  1.0  1.0   \n",
       "\n",
       "    15    16     17     18     19   20  \n",
       "0  0.0  63.0  145.0  233.0  150.0  2.3  \n",
       "1  0.0  37.0  130.0  250.0  187.0  3.5  \n",
       "2  0.0  41.0  130.0  204.0  172.0  1.4  \n",
       "3  0.0  56.0  120.0  236.0  178.0  0.8  \n",
       "4  0.0  57.0  120.0  354.0  163.0  0.6  \n",
       "\n",
       "[5 rows x 21 columns]"
      ]
     },
     "execution_count": 11,
     "metadata": {},
     "output_type": "execute_result"
    }
   ],
   "source": [
    "from sklearn.compose import ColumnTransformer\n",
    "from sklearn.preprocessing import OneHotEncoder\n",
    "ct = ColumnTransformer(transformers=[('encoder', OneHotEncoder(), [5,6,7])], remainder='passthrough')\n",
    "\n",
    "X = pd.DataFrame(ct.fit_transform(X)) # Encoded variables appear at the beginning of the array\n",
    "\n",
    "X.head()"
   ]
  },
  {
   "cell_type": "code",
   "execution_count": 12,
   "id": "3ad3fa66",
   "metadata": {},
   "outputs": [
    {
     "data": {
      "text/html": [
       "<div>\n",
       "<style scoped>\n",
       "    .dataframe tbody tr th:only-of-type {\n",
       "        vertical-align: middle;\n",
       "    }\n",
       "\n",
       "    .dataframe tbody tr th {\n",
       "        vertical-align: top;\n",
       "    }\n",
       "\n",
       "    .dataframe thead th {\n",
       "        text-align: right;\n",
       "    }\n",
       "</style>\n",
       "<table border=\"1\" class=\"dataframe\">\n",
       "  <thead>\n",
       "    <tr style=\"text-align: right;\">\n",
       "      <th></th>\n",
       "      <th>0</th>\n",
       "      <th>1</th>\n",
       "      <th>2</th>\n",
       "      <th>3</th>\n",
       "      <th>4</th>\n",
       "      <th>5</th>\n",
       "      <th>6</th>\n",
       "      <th>7</th>\n",
       "      <th>8</th>\n",
       "      <th>9</th>\n",
       "      <th>10</th>\n",
       "      <th>cp</th>\n",
       "      <th>slp</th>\n",
       "      <th>thall</th>\n",
       "    </tr>\n",
       "  </thead>\n",
       "  <tbody>\n",
       "    <tr>\n",
       "      <th>0</th>\n",
       "      <td>0.0</td>\n",
       "      <td>0.0</td>\n",
       "      <td>1.0</td>\n",
       "      <td>0.0</td>\n",
       "      <td>1.0</td>\n",
       "      <td>0.0</td>\n",
       "      <td>0.0</td>\n",
       "      <td>1.0</td>\n",
       "      <td>0.0</td>\n",
       "      <td>0.0</td>\n",
       "      <td>0.0</td>\n",
       "      <td>Non-anginal pain</td>\n",
       "      <td>Downsloping</td>\n",
       "      <td>Fixed Defect</td>\n",
       "    </tr>\n",
       "    <tr>\n",
       "      <th>1</th>\n",
       "      <td>0.0</td>\n",
       "      <td>1.0</td>\n",
       "      <td>0.0</td>\n",
       "      <td>0.0</td>\n",
       "      <td>1.0</td>\n",
       "      <td>0.0</td>\n",
       "      <td>0.0</td>\n",
       "      <td>0.0</td>\n",
       "      <td>0.0</td>\n",
       "      <td>1.0</td>\n",
       "      <td>0.0</td>\n",
       "      <td>Atypical angina</td>\n",
       "      <td>Downsloping</td>\n",
       "      <td>Normal Flow</td>\n",
       "    </tr>\n",
       "    <tr>\n",
       "      <th>2</th>\n",
       "      <td>0.0</td>\n",
       "      <td>0.0</td>\n",
       "      <td>0.0</td>\n",
       "      <td>1.0</td>\n",
       "      <td>0.0</td>\n",
       "      <td>0.0</td>\n",
       "      <td>1.0</td>\n",
       "      <td>0.0</td>\n",
       "      <td>0.0</td>\n",
       "      <td>1.0</td>\n",
       "      <td>0.0</td>\n",
       "      <td>Typical angina</td>\n",
       "      <td>Upsloping</td>\n",
       "      <td>Normal Flow</td>\n",
       "    </tr>\n",
       "    <tr>\n",
       "      <th>4</th>\n",
       "      <td>1.0</td>\n",
       "      <td>0.0</td>\n",
       "      <td>0.0</td>\n",
       "      <td>0.0</td>\n",
       "      <td>0.0</td>\n",
       "      <td>0.0</td>\n",
       "      <td>1.0</td>\n",
       "      <td>0.0</td>\n",
       "      <td>0.0</td>\n",
       "      <td>1.0</td>\n",
       "      <td>0.0</td>\n",
       "      <td>Asymptomatic</td>\n",
       "      <td>Upsloping</td>\n",
       "      <td>Normal Flow</td>\n",
       "    </tr>\n",
       "    <tr>\n",
       "      <th>5</th>\n",
       "      <td>1.0</td>\n",
       "      <td>0.0</td>\n",
       "      <td>0.0</td>\n",
       "      <td>0.0</td>\n",
       "      <td>0.0</td>\n",
       "      <td>1.0</td>\n",
       "      <td>0.0</td>\n",
       "      <td>1.0</td>\n",
       "      <td>0.0</td>\n",
       "      <td>0.0</td>\n",
       "      <td>0.0</td>\n",
       "      <td>Asymptomatic</td>\n",
       "      <td>Flat</td>\n",
       "      <td>Fixed Defect</td>\n",
       "    </tr>\n",
       "    <tr>\n",
       "      <th>6</th>\n",
       "      <td>0.0</td>\n",
       "      <td>0.0</td>\n",
       "      <td>0.0</td>\n",
       "      <td>1.0</td>\n",
       "      <td>0.0</td>\n",
       "      <td>1.0</td>\n",
       "      <td>0.0</td>\n",
       "      <td>0.0</td>\n",
       "      <td>0.0</td>\n",
       "      <td>1.0</td>\n",
       "      <td>0.0</td>\n",
       "      <td>Typical angina</td>\n",
       "      <td>Flat</td>\n",
       "      <td>Normal Flow</td>\n",
       "    </tr>\n",
       "    <tr>\n",
       "      <th>7</th>\n",
       "      <td>0.0</td>\n",
       "      <td>0.0</td>\n",
       "      <td>0.0</td>\n",
       "      <td>1.0</td>\n",
       "      <td>0.0</td>\n",
       "      <td>0.0</td>\n",
       "      <td>1.0</td>\n",
       "      <td>0.0</td>\n",
       "      <td>0.0</td>\n",
       "      <td>0.0</td>\n",
       "      <td>1.0</td>\n",
       "      <td>Typical angina</td>\n",
       "      <td>Upsloping</td>\n",
       "      <td>Reversible Defect</td>\n",
       "    </tr>\n",
       "    <tr>\n",
       "      <th>8</th>\n",
       "      <td>0.0</td>\n",
       "      <td>1.0</td>\n",
       "      <td>0.0</td>\n",
       "      <td>0.0</td>\n",
       "      <td>0.0</td>\n",
       "      <td>0.0</td>\n",
       "      <td>1.0</td>\n",
       "      <td>0.0</td>\n",
       "      <td>0.0</td>\n",
       "      <td>0.0</td>\n",
       "      <td>1.0</td>\n",
       "      <td>Atypical angina</td>\n",
       "      <td>Upsloping</td>\n",
       "      <td>Reversible Defect</td>\n",
       "    </tr>\n",
       "    <tr>\n",
       "      <th>9</th>\n",
       "      <td>0.0</td>\n",
       "      <td>1.0</td>\n",
       "      <td>0.0</td>\n",
       "      <td>0.0</td>\n",
       "      <td>0.0</td>\n",
       "      <td>0.0</td>\n",
       "      <td>1.0</td>\n",
       "      <td>0.0</td>\n",
       "      <td>0.0</td>\n",
       "      <td>1.0</td>\n",
       "      <td>0.0</td>\n",
       "      <td>Atypical angina</td>\n",
       "      <td>Upsloping</td>\n",
       "      <td>Normal Flow</td>\n",
       "    </tr>\n",
       "  </tbody>\n",
       "</table>\n",
       "</div>"
      ],
      "text/plain": [
       "     0    1    2    3    4    5    6    7    8    9   10                cp  \\\n",
       "0  0.0  0.0  1.0  0.0  1.0  0.0  0.0  1.0  0.0  0.0  0.0  Non-anginal pain   \n",
       "1  0.0  1.0  0.0  0.0  1.0  0.0  0.0  0.0  0.0  1.0  0.0   Atypical angina   \n",
       "2  0.0  0.0  0.0  1.0  0.0  0.0  1.0  0.0  0.0  1.0  0.0    Typical angina   \n",
       "4  1.0  0.0  0.0  0.0  0.0  0.0  1.0  0.0  0.0  1.0  0.0      Asymptomatic   \n",
       "5  1.0  0.0  0.0  0.0  0.0  1.0  0.0  1.0  0.0  0.0  0.0      Asymptomatic   \n",
       "6  0.0  0.0  0.0  1.0  0.0  1.0  0.0  0.0  0.0  1.0  0.0    Typical angina   \n",
       "7  0.0  0.0  0.0  1.0  0.0  0.0  1.0  0.0  0.0  0.0  1.0    Typical angina   \n",
       "8  0.0  1.0  0.0  0.0  0.0  0.0  1.0  0.0  0.0  0.0  1.0   Atypical angina   \n",
       "9  0.0  1.0  0.0  0.0  0.0  0.0  1.0  0.0  0.0  1.0  0.0   Atypical angina   \n",
       "\n",
       "           slp              thall  \n",
       "0  Downsloping       Fixed Defect  \n",
       "1  Downsloping        Normal Flow  \n",
       "2    Upsloping        Normal Flow  \n",
       "4    Upsloping        Normal Flow  \n",
       "5         Flat       Fixed Defect  \n",
       "6         Flat        Normal Flow  \n",
       "7    Upsloping  Reversible Defect  \n",
       "8    Upsloping  Reversible Defect  \n",
       "9    Upsloping        Normal Flow  "
      ]
     },
     "execution_count": 12,
     "metadata": {},
     "output_type": "execute_result"
    }
   ],
   "source": [
    "ran = pd.merge(X[:11], model_data[['cp', 'slp', 'thall']], left_index=True, right_index=True)\n",
    "ran = ran[[0,1,2,3,4,5,6,7,8,9,10,'cp', 'slp', 'thall']]\n",
    "ran.drop_duplicates()"
   ]
  },
  {
   "cell_type": "markdown",
   "id": "512d3252",
   "metadata": {},
   "source": [
    "For record-keeping, this was the order of dummy variable column values\n",
    "\n",
    "A. cp\n",
    "- Asmptomatic - Col 0\n",
    "- Atypical Angina - Col 1\n",
    "- Non-anginal angina - Col 2\n",
    "- Typical Angina - Col 3 (Dropping this column)\n",
    "\n",
    "B. slp\n",
    "- Downslope - Col 4\n",
    "- Flat - Col 5\n",
    "- Upslope - Col 6 (Dropping this column)\n",
    "\n",
    "C. Thall\n",
    "- Fixed Defect - Col 7\n",
    "- Reversible Defect - Col 8\n",
    "- Normal - Col 9\n",
    "- Reversible defect - Column 10 (Dropping this column)"
   ]
  },
  {
   "cell_type": "code",
   "execution_count": 13,
   "id": "615727ea",
   "metadata": {},
   "outputs": [],
   "source": [
    "# Dropping all the extra dummy variable columns from X to avoid dummy variable trap\n",
    "X.drop(X.columns[[3, 6, 10]],axis = 1, inplace=True)\n",
    "\n",
    "# Converting X back into an array for further processing\n",
    "X=np.array(X)"
   ]
  },
  {
   "cell_type": "markdown",
   "id": "3bac5732",
   "metadata": {},
   "source": [
    "Now let's split the input and output arrays into Training and Testing datasets"
   ]
  },
  {
   "cell_type": "code",
   "execution_count": 14,
   "id": "f4c09268",
   "metadata": {},
   "outputs": [],
   "source": [
    "from sklearn.model_selection import train_test_split\n",
    "X_train, X_test, y_train, y_test = train_test_split(X,y,random_state=0, test_size=0.25)"
   ]
  },
  {
   "cell_type": "code",
   "execution_count": 15,
   "id": "ea68c2b6",
   "metadata": {},
   "outputs": [],
   "source": [
    "X_train_wo_scale, X_test_wo_scale, y_train_wo_scale, y_test_wo_scale = \\\n",
    "    train_test_split(X, y,random_state=0, test_size=0.25)"
   ]
  },
  {
   "cell_type": "markdown",
   "id": "39ee9af4",
   "metadata": {},
   "source": [
    "#### C. Feature scaling\n",
    "Next we will scale the continuous variables. For this project I am using the Standard Scaler library. I will fit the Scaler using X_train and then use it to transform both X_train and X_test."
   ]
  },
  {
   "cell_type": "code",
   "execution_count": 16,
   "id": "0c84ca9a",
   "metadata": {},
   "outputs": [
    {
     "data": {
      "text/plain": [
       "array([[  1. ,   0. ,   0. ,   0. ,   1. ,   0. ,   0. ,   0. ,   1. ,\n",
       "          0. ,   0. ,   1. ,   2. ,  60. , 130. , 206. , 132. ,   2.4],\n",
       "       [  1. ,   0. ,   0. ,   0. ,   1. ,   0. ,   0. ,   0. ,   1. ,\n",
       "          0. ,   1. ,   1. ,   2. ,  53. , 123. , 282. ,  95. ,   2. ],\n",
       "       [  0. ,   1. ,   0. ,   0. ,   0. ,   0. ,   0. ,   0. ,   1. ,\n",
       "          0. ,   0. ,   0. ,   0. ,  54. , 150. , 232. , 165. ,   1.6],\n",
       "       [  0. ,   0. ,   1. ,   1. ,   0. ,   0. ,   0. ,   0. ,   1. ,\n",
       "          0. ,   0. ,   0. ,   0. ,  59. , 178. , 270. , 145. ,   4.2],\n",
       "       [  1. ,   0. ,   0. ,   1. ,   0. ,   0. ,   0. ,   1. ,   0. ,\n",
       "          0. ,   0. ,   0. ,   2. ,  62. , 140. , 268. , 160. ,   3.6],\n",
       "       [  1. ,   0. ,   0. ,   0. ,   1. ,   0. ,   0. ,   1. ,   1. ,\n",
       "          0. ,   0. ,   0. ,   3. ,  70. , 130. , 322. , 109. ,   2.4],\n",
       "       [  1. ,   0. ,   0. ,   0. ,   0. ,   0. ,   0. ,   1. ,   1. ,\n",
       "          0. ,   0. ,   0. ,   1. ,  44. , 112. , 290. , 153. ,   0. ],\n",
       "       [  1. ,   0. ,   0. ,   0. ,   1. ,   0. ,   0. ,   1. ,   1. ,\n",
       "          0. ,   0. ,   1. ,   3. ,  67. , 160. , 286. , 108. ,   1.5],\n",
       "       [  1. ,   0. ,   0. ,   0. ,   1. ,   0. ,   0. ,   0. ,   0. ,\n",
       "          0. ,   0. ,   0. ,   2. ,  60. , 150. , 258. , 157. ,   2.6],\n",
       "       [  0. ,   1. ,   0. ,   0. ,   1. ,   0. ,   0. ,   0. ,   1. ,\n",
       "          0. ,   0. ,   0. ,   3. ,  69. , 140. , 254. , 146. ,   2. ]])"
      ]
     },
     "execution_count": 16,
     "metadata": {},
     "output_type": "execute_result"
    }
   ],
   "source": [
    "X_train[0:10]"
   ]
  },
  {
   "cell_type": "code",
   "execution_count": 17,
   "id": "58075ea7",
   "metadata": {},
   "outputs": [],
   "source": [
    "from sklearn.preprocessing import StandardScaler\n",
    "scaler = StandardScaler()\n",
    "\n",
    "# This way we fit the scaler and transform the Training dataset in one step\n",
    "X_train[:,12:] = scaler.fit_transform(X_train[:,12:])"
   ]
  },
  {
   "cell_type": "code",
   "execution_count": 18,
   "id": "b3ec19ba",
   "metadata": {},
   "outputs": [
    {
     "data": {
      "text/plain": [
       "array([[ 1.        ,  0.        ,  0.        ,  0.        ,  1.        ,\n",
       "         0.        ,  0.        ,  0.        ,  1.        ,  0.        ,\n",
       "         0.        ,  1.        ,  1.25507175,  0.59073308, -0.10800156,\n",
       "        -0.75925455, -0.72293166,  1.07010711],\n",
       "       [ 1.        ,  0.        ,  0.        ,  0.        ,  1.        ,\n",
       "         0.        ,  0.        ,  0.        ,  1.        ,  0.        ,\n",
       "         1.        ,  1.        ,  1.25507175, -0.17970363, -0.5044249 ,\n",
       "         0.66256797, -2.28822285,  0.73801757],\n",
       "       [ 0.        ,  1.        ,  0.        ,  0.        ,  0.        ,\n",
       "         0.        ,  0.        ,  0.        ,  1.        ,  0.        ,\n",
       "         0.        ,  0.        , -0.71469364, -0.06964124,  1.02463656,\n",
       "        -0.27284158,  0.67313885,  0.40592803]])"
      ]
     },
     "execution_count": 18,
     "metadata": {},
     "output_type": "execute_result"
    }
   ],
   "source": [
    "X_train[0:3]"
   ]
  },
  {
   "cell_type": "code",
   "execution_count": 19,
   "id": "eb1e406c",
   "metadata": {},
   "outputs": [],
   "source": [
    "# Now we transform X_test using the Scaler that has learnt from X_train\n",
    "X_test[:,12:] = scaler.transform(X_test[:,12:])"
   ]
  },
  {
   "cell_type": "code",
   "execution_count": 20,
   "id": "03c352ee",
   "metadata": {},
   "outputs": [
    {
     "data": {
      "text/plain": [
       "array([[ 1.        ,  0.        ,  0.        , ..., -0.75925455,\n",
       "        -0.72293166,  1.07010711],\n",
       "       [ 1.        ,  0.        ,  0.        , ...,  0.66256797,\n",
       "        -2.28822285,  0.73801757],\n",
       "       [ 0.        ,  1.        ,  0.        , ..., -0.27284158,\n",
       "         0.67313885,  0.40592803],\n",
       "       ...,\n",
       "       [ 0.        ,  0.        ,  1.        , ..., -1.00246104,\n",
       "         0.54622335,  0.65499518],\n",
       "       [ 0.        ,  1.        ,  0.        , ...,  0.19486319,\n",
       "         0.29239235, -0.92243012],\n",
       "       [ 0.        ,  1.        ,  0.        , ..., -0.42250711,\n",
       "         1.01158019,  1.73428618]])"
      ]
     },
     "execution_count": 20,
     "metadata": {},
     "output_type": "execute_result"
    }
   ],
   "source": [
    "X_train"
   ]
  },
  {
   "cell_type": "markdown",
   "id": "ff919cd0",
   "metadata": {},
   "source": [
    "### 2. Trying out different classification models\n",
    "\n",
    "#### A. Logistic Regression\n",
    "\n",
    "##### Scikit Learn Model"
   ]
  },
  {
   "cell_type": "code",
   "execution_count": 21,
   "id": "5d414bb9",
   "metadata": {},
   "outputs": [
    {
     "data": {
      "text/plain": [
       "LogisticRegression(random_state=0)"
      ]
     },
     "execution_count": 21,
     "metadata": {},
     "output_type": "execute_result"
    }
   ],
   "source": [
    "from sklearn.linear_model import LogisticRegression\n",
    "log_reg = LogisticRegression(random_state=0)\n",
    "log_reg.fit(X_train, y_train)"
   ]
  },
  {
   "cell_type": "markdown",
   "id": "425c2cd0",
   "metadata": {},
   "source": [
    "Resolved above issue through this link: https://stackoverflow.com/questions/62658215/convergencewarning-lbfgs-failed-to-converge-status-1-stop-total-no-of-iter"
   ]
  },
  {
   "cell_type": "code",
   "execution_count": 24,
   "id": "fc94bb5f",
   "metadata": {},
   "outputs": [],
   "source": [
    "from sklearn.linear_model import LogisticRegression\n",
    "log_classifier = LogisticRegression(random_state = 0,solver='lbfgs', max_iter=1000)\n",
    "log_classifier.fit(X_train, y_train)\n",
    "\n",
    "y_pred = log_classifier.predict(X_test)"
   ]
  },
  {
   "cell_type": "code",
   "execution_count": 25,
   "id": "3bc244aa",
   "metadata": {},
   "outputs": [
    {
     "name": "stdout",
     "output_type": "stream",
     "text": [
      "[[25  8]\n",
      " [ 5 38]]\n"
     ]
    },
    {
     "data": {
      "text/plain": [
       "0.8289473684210527"
      ]
     },
     "execution_count": 25,
     "metadata": {},
     "output_type": "execute_result"
    }
   ],
   "source": [
    "from sklearn.metrics import confusion_matrix, accuracy_score\n",
    "cm = confusion_matrix(y_test, y_pred)\n",
    "print(cm)\n",
    "accuracy_score(y_test, y_pred)"
   ]
  },
  {
   "cell_type": "code",
   "execution_count": 26,
   "id": "1b9e324f",
   "metadata": {},
   "outputs": [
    {
     "data": {
      "text/plain": [
       "0.8333333333333334"
      ]
     },
     "execution_count": 26,
     "metadata": {},
     "output_type": "execute_result"
    }
   ],
   "source": [
    "# Recall\n",
    "cm[0][0]/(cm[0][0]+cm[1][0])"
   ]
  },
  {
   "cell_type": "code",
   "execution_count": 27,
   "id": "867d6c5e",
   "metadata": {},
   "outputs": [
    {
     "name": "stdout",
     "output_type": "stream",
     "text": [
      "Cross-Validation Accuracy Scores [0.7826087  0.86956522 0.86956522 0.82608696 0.91304348 0.82608696\n",
      " 0.90909091 0.81818182 0.95454545 0.86363636]\n"
     ]
    }
   ],
   "source": [
    "# Let's look at cross-validation\n",
    "from sklearn.model_selection import cross_val_score\n",
    "\n",
    "scores = cross_val_score(log_classifier, X_train, y_train, cv=10)\n",
    "print('Cross-Validation Accuracy Scores', scores)"
   ]
  },
  {
   "cell_type": "code",
   "execution_count": 28,
   "id": "8a67a71c",
   "metadata": {},
   "outputs": [
    {
     "data": {
      "text/plain": [
       "(0.782608695652174, 0.8632411067193676, 0.9545454545454546)"
      ]
     },
     "execution_count": 28,
     "metadata": {},
     "output_type": "execute_result"
    }
   ],
   "source": [
    "scores = pd.Series(scores)\n",
    "scores.min(), scores.mean(), scores.max()"
   ]
  },
  {
   "cell_type": "code",
   "execution_count": 29,
   "id": "4fb67133",
   "metadata": {},
   "outputs": [
    {
     "data": {
      "text/plain": [
       "array([[-0.96522027,  0.38159199,  0.58355288,  0.0232746 , -0.75040677,\n",
       "         0.64352106, -0.07458798,  1.24715277, -1.51682852, -0.0670187 ,\n",
       "        -0.01427391, -0.39345359, -0.97264019,  0.15461263, -0.26427394,\n",
       "        -0.19660083,  0.45941056, -0.55558466]])"
      ]
     },
     "execution_count": 29,
     "metadata": {},
     "output_type": "execute_result"
    }
   ],
   "source": [
    "parameters = log_classifier.coef_\n",
    "parameters"
   ]
  },
  {
   "cell_type": "code",
   "execution_count": 30,
   "id": "445cd6a8",
   "metadata": {},
   "outputs": [
    {
     "data": {
      "text/plain": [
       "<function ndarray.squeeze>"
      ]
     },
     "execution_count": 30,
     "metadata": {},
     "output_type": "execute_result"
    }
   ],
   "source": [
    "X_test[:,1].squeeze"
   ]
  },
  {
   "cell_type": "code",
   "execution_count": 31,
   "id": "474fa627",
   "metadata": {},
   "outputs": [
    {
     "data": {
      "text/plain": [
       "<AxesSubplot:>"
      ]
     },
     "execution_count": 31,
     "metadata": {},
     "output_type": "execute_result"
    },
    {
     "data": {
      "image/png": "[encoded data removed]",
      "text/plain": [
       "<Figure size 432x288 with 1 Axes>"
      ]
     },
     "metadata": {
      "needs_background": "light"
     },
     "output_type": "display_data"
    }
   ],
   "source": [
    "# Now let's visually try to understand the relationship between Asymptotic chest pain with the prediction\n",
    "x_test_view = X_test[:,0].squeeze()\n",
    "\n",
    "y_prob = log_classifier.predict_proba(X_test)\n",
    "sns.scatterplot(x = x_test_view, y = y_prob[:,1], hue = y_test)"
   ]
  },
  {
   "cell_type": "code",
   "execution_count": 32,
   "id": "45e88059",
   "metadata": {},
   "outputs": [
    {
     "data": {
      "text/plain": [
       "array([[0.44688037, 0.55311963],\n",
       "       [0.73971383, 0.26028617],\n",
       "       [0.86839931, 0.13160069],\n",
       "       [0.95501011, 0.04498989],\n",
       "       [0.95654305, 0.04345695],\n",
       "       [0.92645167, 0.07354833],\n",
       "       [0.86120732, 0.13879268],\n",
       "       [0.97329612, 0.02670388],\n",
       "       [0.96804216, 0.03195784]])"
      ]
     },
     "execution_count": 32,
     "metadata": {},
     "output_type": "execute_result"
    }
   ],
   "source": [
    "log_classifier.predict_proba(X_test[1:10])\n",
    "# Column 0: Probablity of Class 0 (no heart attack)\n",
    "# Column 1: Probablity of Class 1 (heart attack)"
   ]
  },
  {
   "cell_type": "code",
   "execution_count": 33,
   "id": "f17d6af3",
   "metadata": {},
   "outputs": [],
   "source": [
    "log_classifier2 = LogisticRegression(random_state = 0, penalty='l2', solver='lbfgs', max_iter=100, C=1)\n",
    "log_classifier2.fit(X_train, y_train)\n",
    "\n",
    "y_pred2 = log_classifier2.predict(X_test)"
   ]
  },
  {
   "cell_type": "code",
   "execution_count": 34,
   "id": "cae0a977",
   "metadata": {},
   "outputs": [
    {
     "name": "stdout",
     "output_type": "stream",
     "text": [
      "[[25  8]\n",
      " [ 5 38]]\n"
     ]
    },
    {
     "data": {
      "text/plain": [
       "0.8289473684210527"
      ]
     },
     "execution_count": 34,
     "metadata": {},
     "output_type": "execute_result"
    }
   ],
   "source": [
    "print(confusion_matrix(y_test, y_pred2))\n",
    "accuracy_score(y_test, y_pred2)"
   ]
  },
  {
   "cell_type": "code",
   "execution_count": 35,
   "id": "e24f3899",
   "metadata": {},
   "outputs": [
    {
     "name": "stdout",
     "output_type": "stream",
     "text": [
      "Cross-Validation Accuracy Scores [0.7826087  0.86956522 0.86956522 0.82608696 0.91304348 0.82608696\n",
      " 0.90909091 0.81818182 0.95454545 0.86363636]\n"
     ]
    }
   ],
   "source": [
    "# Let's look at cross-validation\n",
    "scores2 = cross_val_score(log_classifier2, X_train, y_train, cv=10)\n",
    "print('Cross-Validation Accuracy Scores', scores2)"
   ]
  },
  {
   "cell_type": "code",
   "execution_count": 38,
   "id": "33f1cdd4",
   "metadata": {},
   "outputs": [
    {
     "name": "stdout",
     "output_type": "stream",
     "text": [
      "\n",
      "Ranking of features is: [ 1  2  1  9  1  1  7  1  1  8 10  1  1  6  4  5  3  1]\n",
      "\n",
      "Selected Indices are: [ True False  True False  True  True False  True  True False False  True\n",
      "  True False False False False  True]\n",
      "\n",
      "Subset of X_train: [[ 1.          0.          1.         ...  1.          1.25507175\n",
      "   1.07010711]\n",
      " [ 1.          0.          1.         ...  1.          1.25507175\n",
      "   0.73801757]\n",
      " [ 0.          0.          0.         ...  0.         -0.71469364\n",
      "   0.40592803]\n",
      " ...\n",
      " [ 0.          1.          1.         ...  0.         -0.71469364\n",
      "   0.65499518]\n",
      " [ 0.          0.          0.         ...  0.         -0.71469364\n",
      "  -0.92243012]\n",
      " [ 0.          0.          0.         ...  0.          1.25507175\n",
      "   1.73428618]]\n"
     ]
    }
   ],
   "source": [
    "# RFE stands for Recursive feature selection \n",
    "from sklearn.feature_selection import RFE\n",
    "selector = RFE(log_classifier, step=1)\n",
    "selector.fit(X_train, y_train)\n",
    "\n",
    "# Ranking of importance of feature. 1 being the most important feature, 2 being the second important feature and so on\n",
    "print(\"\\nRanking of features is: {}\".format(selector.ranking_))\n",
    "\n",
    "selected_features_indices = selector.support_\n",
    "\n",
    "print(\"\\nSelected Indices are: {}\".format(selected_features_indices))\n",
    "\n",
    "X_train_subset = X_train[:,selected_features_indices]\n",
    "print(\"\\nSubset of X_train: {}\".format(X_train_subset))"
   ]
  },
  {
   "cell_type": "code",
   "execution_count": 41,
   "id": "e2189968",
   "metadata": {},
   "outputs": [
    {
     "name": "stdout",
     "output_type": "stream",
     "text": [
      "Confusion Matrix: \n",
      "[[26  7]\n",
      " [ 5 38]]\n",
      "Accuracy score for single trainer: 0.8421052631578947\n",
      "Cross-Validation Accuracy Scores: {} [0.7826087  0.86956522 0.86956522 0.86956522 0.86956522 0.7826087\n",
      " 0.90909091 0.72727273 0.86363636 0.77272727]\n"
     ]
    }
   ],
   "source": [
    "# Let's train the classifier again\n",
    "log_classifier.fit(X_train_subset, y_train)\n",
    "\n",
    "y_pred = log_classifier.predict(X_test[:,selected_features_indices])\n",
    "\n",
    "cm = confusion_matrix(y_test, y_pred)\n",
    "print(\"Confusion Matrix: \\n{}\".format(cm))\n",
    "print(\"Accuracy score for single trainer: {}\".format(accuracy_score(y_test, y_pred)))\n",
    "\n",
    "scores = cross_val_score(log_classifier, X_train_subset, y_train, cv=10)\n",
    "print('Cross-Validation Accuracy Scores: {}', scores)"
   ]
  },
  {
   "cell_type": "markdown",
   "id": "d7c9158c",
   "metadata": {},
   "source": [
    "##### Using statsmodel package\n",
    "\n",
    "\n",
    "Questions:\n",
    "1. Do statsmodels take care of feature scaling?\n",
    "2. "
   ]
  },
  {
   "cell_type": "code",
   "execution_count": 59,
   "id": "127437a3",
   "metadata": {},
   "outputs": [],
   "source": [
    "import statsmodels.api as sm\n",
    "import statsmodels.formula.api as smf\n",
    "from patsy import dmatrices"
   ]
  },
  {
   "cell_type": "code",
   "execution_count": 60,
   "id": "2abc1aee",
   "metadata": {},
   "outputs": [],
   "source": [
    "# Creating copy of model data for using statsmodels package\n",
    "model_data2= model_data.copy(deep=True)\n",
    "model_data2.dropna(inplace=True)"
   ]
  },
  {
   "cell_type": "markdown",
   "id": "242012e2",
   "metadata": {},
   "source": [
    "To fit most of the models covered by statsmodels, you will need to create two design matrices. The first is a matrix of endogenous variable(s) (i.e. dependent, response, regressand, etc.). The second is a matrix of exogenous variable(s) (i.e. independent, predictor, regressor, etc.).\n",
    "\n",
    "The patsy module provides a convenient function to prepare design matrices using R-like formulas. You can find more information here.\n",
    "\n",
    "We use patsy’s dmatrices function to create design matrices:"
   ]
  },
  {
   "cell_type": "code",
   "execution_count": 61,
   "id": "be9a4856",
   "metadata": {},
   "outputs": [],
   "source": [
    "y2, X2 = dmatrices('output ~ sex + fbs + restecg + exng + caa + cp + slp + thall + age + trtbps + chol+ thalachh + oldpeak'\\\n",
    "                 , data=model_data2, return_type='dataframe')\n"
   ]
  },
  {
   "cell_type": "code",
   "execution_count": 62,
   "id": "98489582",
   "metadata": {},
   "outputs": [
    {
     "data": {
      "text/html": [
       "<div>\n",
       "<style scoped>\n",
       "    .dataframe tbody tr th:only-of-type {\n",
       "        vertical-align: middle;\n",
       "    }\n",
       "\n",
       "    .dataframe tbody tr th {\n",
       "        vertical-align: top;\n",
       "    }\n",
       "\n",
       "    .dataframe thead th {\n",
       "        text-align: right;\n",
       "    }\n",
       "</style>\n",
       "<table border=\"1\" class=\"dataframe\">\n",
       "  <thead>\n",
       "    <tr style=\"text-align: right;\">\n",
       "      <th></th>\n",
       "      <th>Intercept</th>\n",
       "      <th>cp[T.Atypical angina]</th>\n",
       "      <th>cp[T.Non-anginal pain]</th>\n",
       "      <th>cp[T.Typical angina]</th>\n",
       "      <th>slp[T.Flat]</th>\n",
       "      <th>slp[T.Upsloping]</th>\n",
       "      <th>thall[T.None]</th>\n",
       "      <th>thall[T.Normal Flow]</th>\n",
       "      <th>thall[T.Reversible Defect]</th>\n",
       "      <th>sex</th>\n",
       "      <th>fbs</th>\n",
       "      <th>restecg</th>\n",
       "      <th>exng</th>\n",
       "      <th>caa</th>\n",
       "      <th>age</th>\n",
       "      <th>trtbps</th>\n",
       "      <th>chol</th>\n",
       "      <th>thalachh</th>\n",
       "      <th>oldpeak</th>\n",
       "    </tr>\n",
       "  </thead>\n",
       "  <tbody>\n",
       "    <tr>\n",
       "      <th>1</th>\n",
       "      <td>1.0</td>\n",
       "      <td>1.0</td>\n",
       "      <td>0.0</td>\n",
       "      <td>0.0</td>\n",
       "      <td>0.0</td>\n",
       "      <td>0.0</td>\n",
       "      <td>0.0</td>\n",
       "      <td>1.0</td>\n",
       "      <td>0.0</td>\n",
       "      <td>1.0</td>\n",
       "      <td>0.0</td>\n",
       "      <td>1.0</td>\n",
       "      <td>0.0</td>\n",
       "      <td>0.0</td>\n",
       "      <td>37.0</td>\n",
       "      <td>130.0</td>\n",
       "      <td>250.0</td>\n",
       "      <td>187.0</td>\n",
       "      <td>3.5</td>\n",
       "    </tr>\n",
       "    <tr>\n",
       "      <th>2</th>\n",
       "      <td>1.0</td>\n",
       "      <td>0.0</td>\n",
       "      <td>0.0</td>\n",
       "      <td>1.0</td>\n",
       "      <td>0.0</td>\n",
       "      <td>1.0</td>\n",
       "      <td>0.0</td>\n",
       "      <td>1.0</td>\n",
       "      <td>0.0</td>\n",
       "      <td>0.0</td>\n",
       "      <td>0.0</td>\n",
       "      <td>0.0</td>\n",
       "      <td>0.0</td>\n",
       "      <td>0.0</td>\n",
       "      <td>41.0</td>\n",
       "      <td>130.0</td>\n",
       "      <td>204.0</td>\n",
       "      <td>172.0</td>\n",
       "      <td>1.4</td>\n",
       "    </tr>\n",
       "  </tbody>\n",
       "</table>\n",
       "</div>"
      ],
      "text/plain": [
       "   Intercept  cp[T.Atypical angina]  cp[T.Non-anginal pain]  \\\n",
       "1        1.0                    1.0                     0.0   \n",
       "2        1.0                    0.0                     0.0   \n",
       "\n",
       "   cp[T.Typical angina]  slp[T.Flat]  slp[T.Upsloping]  thall[T.None]  \\\n",
       "1                   0.0          0.0               0.0            0.0   \n",
       "2                   1.0          0.0               1.0            0.0   \n",
       "\n",
       "   thall[T.Normal Flow]  thall[T.Reversible Defect]  sex  fbs  restecg  exng  \\\n",
       "1                   1.0                         0.0  1.0  0.0      1.0   0.0   \n",
       "2                   1.0                         0.0  0.0  0.0      0.0   0.0   \n",
       "\n",
       "   caa   age  trtbps   chol  thalachh  oldpeak  \n",
       "1  0.0  37.0   130.0  250.0     187.0      3.5  \n",
       "2  0.0  41.0   130.0  204.0     172.0      1.4  "
      ]
     },
     "execution_count": 62,
     "metadata": {},
     "output_type": "execute_result"
    }
   ],
   "source": [
    "X2[1:3]"
   ]
  },
  {
   "cell_type": "code",
   "execution_count": 63,
   "id": "7dc2cd01",
   "metadata": {},
   "outputs": [
    {
     "data": {
      "text/html": [
       "<div>\n",
       "<style scoped>\n",
       "    .dataframe tbody tr th:only-of-type {\n",
       "        vertical-align: middle;\n",
       "    }\n",
       "\n",
       "    .dataframe tbody tr th {\n",
       "        vertical-align: top;\n",
       "    }\n",
       "\n",
       "    .dataframe thead th {\n",
       "        text-align: right;\n",
       "    }\n",
       "</style>\n",
       "<table border=\"1\" class=\"dataframe\">\n",
       "  <thead>\n",
       "    <tr style=\"text-align: right;\">\n",
       "      <th></th>\n",
       "      <th>output</th>\n",
       "    </tr>\n",
       "  </thead>\n",
       "  <tbody>\n",
       "    <tr>\n",
       "      <th>0</th>\n",
       "      <td>1.0</td>\n",
       "    </tr>\n",
       "    <tr>\n",
       "      <th>1</th>\n",
       "      <td>1.0</td>\n",
       "    </tr>\n",
       "    <tr>\n",
       "      <th>2</th>\n",
       "      <td>1.0</td>\n",
       "    </tr>\n",
       "    <tr>\n",
       "      <th>3</th>\n",
       "      <td>1.0</td>\n",
       "    </tr>\n",
       "    <tr>\n",
       "      <th>4</th>\n",
       "      <td>1.0</td>\n",
       "    </tr>\n",
       "    <tr>\n",
       "      <th>...</th>\n",
       "      <td>...</td>\n",
       "    </tr>\n",
       "    <tr>\n",
       "      <th>298</th>\n",
       "      <td>0.0</td>\n",
       "    </tr>\n",
       "    <tr>\n",
       "      <th>299</th>\n",
       "      <td>0.0</td>\n",
       "    </tr>\n",
       "    <tr>\n",
       "      <th>300</th>\n",
       "      <td>0.0</td>\n",
       "    </tr>\n",
       "    <tr>\n",
       "      <th>301</th>\n",
       "      <td>0.0</td>\n",
       "    </tr>\n",
       "    <tr>\n",
       "      <th>302</th>\n",
       "      <td>0.0</td>\n",
       "    </tr>\n",
       "  </tbody>\n",
       "</table>\n",
       "<p>302 rows × 1 columns</p>\n",
       "</div>"
      ],
      "text/plain": [
       "     output\n",
       "0       1.0\n",
       "1       1.0\n",
       "2       1.0\n",
       "3       1.0\n",
       "4       1.0\n",
       "..      ...\n",
       "298     0.0\n",
       "299     0.0\n",
       "300     0.0\n",
       "301     0.0\n",
       "302     0.0\n",
       "\n",
       "[302 rows x 1 columns]"
      ]
     },
     "execution_count": 63,
     "metadata": {},
     "output_type": "execute_result"
    }
   ],
   "source": [
    "y2"
   ]
  },
  {
   "cell_type": "code",
   "execution_count": 64,
   "id": "4d38d3ee",
   "metadata": {},
   "outputs": [
    {
     "name": "stdout",
     "output_type": "stream",
     "text": [
      "Optimization terminated successfully.\n",
      "         Current function value: 0.333039\n",
      "         Iterations 7\n"
     ]
    }
   ],
   "source": [
    "# log_statsm = smf.logit(formula='output ~ sex + fbs + restecg + exng + caa + cp + slp + thall + age + trtbps + chol+ thalachh + oldpeak', data=model_data).fit()\n",
    "log_statsm = sm.Logit(endog=y2, exog=X2).fit()\n",
    "    "
   ]
  },
  {
   "cell_type": "code",
   "execution_count": 65,
   "id": "7e1c7292",
   "metadata": {},
   "outputs": [
    {
     "data": {
      "text/html": [
       "<table class=\"simpletable\">\n",
       "<caption>Logit Regression Results</caption>\n",
       "<tr>\n",
       "  <th>Dep. Variable:</th>        <td>output</td>      <th>  No. Observations:  </th>  <td>   302</td>  \n",
       "</tr>\n",
       "<tr>\n",
       "  <th>Model:</th>                 <td>Logit</td>      <th>  Df Residuals:      </th>  <td>   283</td>  \n",
       "</tr>\n",
       "<tr>\n",
       "  <th>Method:</th>                 <td>MLE</td>       <th>  Df Model:          </th>  <td>    18</td>  \n",
       "</tr>\n",
       "<tr>\n",
       "  <th>Date:</th>            <td>Sat, 08 Apr 2023</td> <th>  Pseudo R-squ.:     </th>  <td>0.5169</td>  \n",
       "</tr>\n",
       "<tr>\n",
       "  <th>Time:</th>                <td>20:45:17</td>     <th>  Log-Likelihood:    </th> <td> -100.58</td> \n",
       "</tr>\n",
       "<tr>\n",
       "  <th>converged:</th>             <td>True</td>       <th>  LL-Null:           </th> <td> -208.21</td> \n",
       "</tr>\n",
       "<tr>\n",
       "  <th>Covariance Type:</th>     <td>nonrobust</td>    <th>  LLR p-value:       </th> <td>8.693e-36</td>\n",
       "</tr>\n",
       "</table>\n",
       "<table class=\"simpletable\">\n",
       "<tr>\n",
       "               <td></td>                 <th>coef</th>     <th>std err</th>      <th>z</th>      <th>P>|z|</th>  <th>[0.025</th>    <th>0.975]</th>  \n",
       "</tr>\n",
       "<tr>\n",
       "  <th>Intercept</th>                  <td>    2.8782</td> <td>    2.744</td> <td>    1.049</td> <td> 0.294</td> <td>   -2.500</td> <td>    8.256</td>\n",
       "</tr>\n",
       "<tr>\n",
       "  <th>cp[T.Atypical angina]</th>      <td>    1.9107</td> <td>    0.479</td> <td>    3.990</td> <td> 0.000</td> <td>    0.972</td> <td>    2.849</td>\n",
       "</tr>\n",
       "<tr>\n",
       "  <th>cp[T.Non-anginal pain]</th>     <td>    2.0187</td> <td>    0.650</td> <td>    3.106</td> <td> 0.002</td> <td>    0.745</td> <td>    3.293</td>\n",
       "</tr>\n",
       "<tr>\n",
       "  <th>cp[T.Typical angina]</th>       <td>    0.9850</td> <td>    0.565</td> <td>    1.744</td> <td> 0.081</td> <td>   -0.122</td> <td>    2.092</td>\n",
       "</tr>\n",
       "<tr>\n",
       "  <th>slp[T.Flat]</th>                <td>   -0.7198</td> <td>    0.857</td> <td>   -0.840</td> <td> 0.401</td> <td>   -2.400</td> <td>    0.960</td>\n",
       "</tr>\n",
       "<tr>\n",
       "  <th>slp[T.Upsloping]</th>           <td>    0.2194</td> <td>    0.932</td> <td>    0.235</td> <td> 0.814</td> <td>   -1.607</td> <td>    2.046</td>\n",
       "</tr>\n",
       "<tr>\n",
       "  <th>thall[T.None]</th>              <td>   -1.8226</td> <td>    2.374</td> <td>   -0.768</td> <td> 0.443</td> <td>   -6.476</td> <td>    2.831</td>\n",
       "</tr>\n",
       "<tr>\n",
       "  <th>thall[T.Normal Flow]</th>       <td>    0.0153</td> <td>    0.769</td> <td>    0.020</td> <td> 0.984</td> <td>   -1.492</td> <td>    1.523</td>\n",
       "</tr>\n",
       "<tr>\n",
       "  <th>thall[T.Reversible Defect]</th> <td>   -1.3400</td> <td>    0.758</td> <td>   -1.769</td> <td> 0.077</td> <td>   -2.825</td> <td>    0.145</td>\n",
       "</tr>\n",
       "<tr>\n",
       "  <th>sex</th>                        <td>   -1.4923</td> <td>    0.516</td> <td>   -2.890</td> <td> 0.004</td> <td>   -2.505</td> <td>   -0.480</td>\n",
       "</tr>\n",
       "<tr>\n",
       "  <th>fbs</th>                        <td>    0.2217</td> <td>    0.570</td> <td>    0.389</td> <td> 0.697</td> <td>   -0.896</td> <td>    1.339</td>\n",
       "</tr>\n",
       "<tr>\n",
       "  <th>restecg</th>                    <td>    0.4926</td> <td>    0.360</td> <td>    1.367</td> <td> 0.171</td> <td>   -0.213</td> <td>    1.199</td>\n",
       "</tr>\n",
       "<tr>\n",
       "  <th>exng</th>                       <td>   -0.7717</td> <td>    0.426</td> <td>   -1.810</td> <td> 0.070</td> <td>   -1.607</td> <td>    0.064</td>\n",
       "</tr>\n",
       "<tr>\n",
       "  <th>caa</th>                        <td>   -0.8823</td> <td>    0.214</td> <td>   -4.118</td> <td> 0.000</td> <td>   -1.302</td> <td>   -0.462</td>\n",
       "</tr>\n",
       "<tr>\n",
       "  <th>age</th>                        <td>    0.0024</td> <td>    0.024</td> <td>    0.102</td> <td> 0.919</td> <td>   -0.044</td> <td>    0.049</td>\n",
       "</tr>\n",
       "<tr>\n",
       "  <th>trtbps</th>                     <td>   -0.0184</td> <td>    0.011</td> <td>   -1.739</td> <td> 0.082</td> <td>   -0.039</td> <td>    0.002</td>\n",
       "</tr>\n",
       "<tr>\n",
       "  <th>chol</th>                       <td>   -0.0043</td> <td>    0.004</td> <td>   -1.098</td> <td> 0.272</td> <td>   -0.012</td> <td>    0.003</td>\n",
       "</tr>\n",
       "<tr>\n",
       "  <th>thalachh</th>                   <td>    0.0176</td> <td>    0.011</td> <td>    1.642</td> <td> 0.101</td> <td>   -0.003</td> <td>    0.039</td>\n",
       "</tr>\n",
       "<tr>\n",
       "  <th>oldpeak</th>                    <td>   -0.4901</td> <td>    0.224</td> <td>   -2.187</td> <td> 0.029</td> <td>   -0.929</td> <td>   -0.051</td>\n",
       "</tr>\n",
       "</table>"
      ],
      "text/plain": [
       "<class 'statsmodels.iolib.summary.Summary'>\n",
       "\"\"\"\n",
       "                           Logit Regression Results                           \n",
       "==============================================================================\n",
       "Dep. Variable:                 output   No. Observations:                  302\n",
       "Model:                          Logit   Df Residuals:                      283\n",
       "Method:                           MLE   Df Model:                           18\n",
       "Date:                Sat, 08 Apr 2023   Pseudo R-squ.:                  0.5169\n",
       "Time:                        20:45:17   Log-Likelihood:                -100.58\n",
       "converged:                       True   LL-Null:                       -208.21\n",
       "Covariance Type:            nonrobust   LLR p-value:                 8.693e-36\n",
       "==============================================================================================\n",
       "                                 coef    std err          z      P>|z|      [0.025      0.975]\n",
       "----------------------------------------------------------------------------------------------\n",
       "Intercept                      2.8782      2.744      1.049      0.294      -2.500       8.256\n",
       "cp[T.Atypical angina]          1.9107      0.479      3.990      0.000       0.972       2.849\n",
       "cp[T.Non-anginal pain]         2.0187      0.650      3.106      0.002       0.745       3.293\n",
       "cp[T.Typical angina]           0.9850      0.565      1.744      0.081      -0.122       2.092\n",
       "slp[T.Flat]                   -0.7198      0.857     -0.840      0.401      -2.400       0.960\n",
       "slp[T.Upsloping]               0.2194      0.932      0.235      0.814      -1.607       2.046\n",
       "thall[T.None]                 -1.8226      2.374     -0.768      0.443      -6.476       2.831\n",
       "thall[T.Normal Flow]           0.0153      0.769      0.020      0.984      -1.492       1.523\n",
       "thall[T.Reversible Defect]    -1.3400      0.758     -1.769      0.077      -2.825       0.145\n",
       "sex                           -1.4923      0.516     -2.890      0.004      -2.505      -0.480\n",
       "fbs                            0.2217      0.570      0.389      0.697      -0.896       1.339\n",
       "restecg                        0.4926      0.360      1.367      0.171      -0.213       1.199\n",
       "exng                          -0.7717      0.426     -1.810      0.070      -1.607       0.064\n",
       "caa                           -0.8823      0.214     -4.118      0.000      -1.302      -0.462\n",
       "age                            0.0024      0.024      0.102      0.919      -0.044       0.049\n",
       "trtbps                        -0.0184      0.011     -1.739      0.082      -0.039       0.002\n",
       "chol                          -0.0043      0.004     -1.098      0.272      -0.012       0.003\n",
       "thalachh                       0.0176      0.011      1.642      0.101      -0.003       0.039\n",
       "oldpeak                       -0.4901      0.224     -2.187      0.029      -0.929      -0.051\n",
       "==============================================================================================\n",
       "\"\"\""
      ]
     },
     "execution_count": 65,
     "metadata": {},
     "output_type": "execute_result"
    }
   ],
   "source": [
    "log_statsm.summary()"
   ]
  },
  {
   "cell_type": "markdown",
   "id": "141ea112",
   "metadata": {},
   "source": [
    "Let's choose the attributes with p<0.05 because only those have a statistically significant effect on the log odds of heart attack. Those variables are- Atypical angina cp, Non-Anginal pain cp, sex, caa, oldpeak\n",
    "\n",
    "Interpretation of some variables:\n",
    "\n",
    "1. Chest Pain: Having Atypical Angina instead of having asymptomatic chest pain, increases the log-odds of having heart attack (v/s no heart attack) by 1.9\n",
    "2. Chest Pain: Having Non-Anginal pain instead of having asymptomatic chest pain, increases the log-odds of having heart attack (v/s no heart attack) by 2.02\n",
    "3. Sex: Being a male reduces the log odds of getting a heart attack by 1.5\n",
    "4. caa - One unit increase in caa decreases the log odds of a heart attack by 0.88\n",
    "\n",
    "\n",
    "\n",
    "**Q. The intercept seems to be statistically insignificant in the summary, what does that mean and should it be removed?**\n",
    "\n",
    "For any model (OLS, Logistic Regression, Linear or Nonlinear), a model with no response assumes that if all predictors are zero then the output of the model is zero.\n",
    "\n",
    "Here are the use cases where intercept can be removed if it is insignificant in a Linear model:\n",
    "1. If the nature of the model is to assume that when all predictors are zero, the output should be zero then it is okay to remove an insignificant intercept\n",
    "2. If the values of predictors are very far from the origin and the model is extrapolated to find intercept.\n",
    "\n",
    "Here are the use cases where intercept should be used even if insignificant:\n",
    "1. When the assumption isn't to predict zero for predictors are zero or close to zero.\n",
    "2. Intercept is used to reduce noise in the model so it might be good to have it as a cushion to help with model's predictions\n",
    "3. The model might have too many regressors and have collinearity and/or other problems. Sometimes it helps to drop attributes and look at the new intercept.\n",
    "\n",
    "Source: http://support.sas.com/kb/23/136.html#:~:text=So%2C%20a%20highly%20significant%20intercept,the%20predictors%20are%20all%20zero.\n",
    "https://www.researchgate.net/post/In_multiple_regression_if_the_constant_is_not_significant_but_the_other_variables_are_in_the_coefficient_table_what_does_this_mean2\n",
    "https://stats.stackexchange.com/questions/160628/linear-regression-intercept-isnt-significant\n",
    "\n",
    "Decision on Intercept-: \n",
    "I want to keep the intercept term because:\n",
    "1. I don't want my model to predict no heart attack if all predictors are zero as for me False Positives are less risky than getting False Negatives \n",
    "2. I want to make my model smaller using only statistically significant attributes."
   ]
  },
  {
   "cell_type": "code",
   "execution_count": 66,
   "id": "f705342c",
   "metadata": {},
   "outputs": [
    {
     "name": "stdout",
     "output_type": "stream",
     "text": [
      "Optimization terminated successfully.\n",
      "         Current function value: 0.409257\n",
      "         Iterations 7\n"
     ]
    },
    {
     "data": {
      "text/html": [
       "<table class=\"simpletable\">\n",
       "<caption>Logit Regression Results</caption>\n",
       "<tr>\n",
       "  <th>Dep. Variable:</th>        <td>output</td>      <th>  No. Observations:  </th>  <td>   302</td>  \n",
       "</tr>\n",
       "<tr>\n",
       "  <th>Model:</th>                 <td>Logit</td>      <th>  Df Residuals:      </th>  <td>   295</td>  \n",
       "</tr>\n",
       "<tr>\n",
       "  <th>Method:</th>                 <td>MLE</td>       <th>  Df Model:          </th>  <td>     6</td>  \n",
       "</tr>\n",
       "<tr>\n",
       "  <th>Date:</th>            <td>Sat, 08 Apr 2023</td> <th>  Pseudo R-squ.:     </th>  <td>0.4064</td>  \n",
       "</tr>\n",
       "<tr>\n",
       "  <th>Time:</th>                <td>20:45:18</td>     <th>  Log-Likelihood:    </th> <td> -123.60</td> \n",
       "</tr>\n",
       "<tr>\n",
       "  <th>converged:</th>             <td>True</td>       <th>  LL-Null:           </th> <td> -208.21</td> \n",
       "</tr>\n",
       "<tr>\n",
       "  <th>Covariance Type:</th>     <td>nonrobust</td>    <th>  LLR p-value:       </th> <td>6.555e-34</td>\n",
       "</tr>\n",
       "</table>\n",
       "<table class=\"simpletable\">\n",
       "<tr>\n",
       "             <td></td>               <th>coef</th>     <th>std err</th>      <th>z</th>      <th>P>|z|</th>  <th>[0.025</th>    <th>0.975]</th>  \n",
       "</tr>\n",
       "<tr>\n",
       "  <th>Intercept</th>              <td>    1.4553</td> <td>    0.389</td> <td>    3.738</td> <td> 0.000</td> <td>    0.692</td> <td>    2.218</td>\n",
       "</tr>\n",
       "<tr>\n",
       "  <th>cp[T.Atypical angina]</th>  <td>    2.3629</td> <td>    0.407</td> <td>    5.801</td> <td> 0.000</td> <td>    1.565</td> <td>    3.161</td>\n",
       "</tr>\n",
       "<tr>\n",
       "  <th>cp[T.Non-anginal pain]</th> <td>    2.3105</td> <td>    0.584</td> <td>    3.955</td> <td> 0.000</td> <td>    1.166</td> <td>    3.455</td>\n",
       "</tr>\n",
       "<tr>\n",
       "  <th>cp[T.Typical angina]</th>   <td>    1.7590</td> <td>    0.467</td> <td>    3.766</td> <td> 0.000</td> <td>    0.844</td> <td>    2.674</td>\n",
       "</tr>\n",
       "<tr>\n",
       "  <th>sex</th>                    <td>   -1.4027</td> <td>    0.377</td> <td>   -3.719</td> <td> 0.000</td> <td>   -2.142</td> <td>   -0.663</td>\n",
       "</tr>\n",
       "<tr>\n",
       "  <th>caa</th>                    <td>   -0.7916</td> <td>    0.172</td> <td>   -4.592</td> <td> 0.000</td> <td>   -1.129</td> <td>   -0.454</td>\n",
       "</tr>\n",
       "<tr>\n",
       "  <th>oldpeak</th>                <td>   -0.8483</td> <td>    0.176</td> <td>   -4.831</td> <td> 0.000</td> <td>   -1.192</td> <td>   -0.504</td>\n",
       "</tr>\n",
       "</table>"
      ],
      "text/plain": [
       "<class 'statsmodels.iolib.summary.Summary'>\n",
       "\"\"\"\n",
       "                           Logit Regression Results                           \n",
       "==============================================================================\n",
       "Dep. Variable:                 output   No. Observations:                  302\n",
       "Model:                          Logit   Df Residuals:                      295\n",
       "Method:                           MLE   Df Model:                            6\n",
       "Date:                Sat, 08 Apr 2023   Pseudo R-squ.:                  0.4064\n",
       "Time:                        20:45:18   Log-Likelihood:                -123.60\n",
       "converged:                       True   LL-Null:                       -208.21\n",
       "Covariance Type:            nonrobust   LLR p-value:                 6.555e-34\n",
       "==========================================================================================\n",
       "                             coef    std err          z      P>|z|      [0.025      0.975]\n",
       "------------------------------------------------------------------------------------------\n",
       "Intercept                  1.4553      0.389      3.738      0.000       0.692       2.218\n",
       "cp[T.Atypical angina]      2.3629      0.407      5.801      0.000       1.565       3.161\n",
       "cp[T.Non-anginal pain]     2.3105      0.584      3.955      0.000       1.166       3.455\n",
       "cp[T.Typical angina]       1.7590      0.467      3.766      0.000       0.844       2.674\n",
       "sex                       -1.4027      0.377     -3.719      0.000      -2.142      -0.663\n",
       "caa                       -0.7916      0.172     -4.592      0.000      -1.129      -0.454\n",
       "oldpeak                   -0.8483      0.176     -4.831      0.000      -1.192      -0.504\n",
       "==========================================================================================\n",
       "\"\"\""
      ]
     },
     "execution_count": 66,
     "metadata": {},
     "output_type": "execute_result"
    }
   ],
   "source": [
    "log_statsm2 = smf.logit(formula='output ~ sex + caa + cp + oldpeak', data=model_data).fit()\n",
    "log_statsm2.summary()"
   ]
  },
  {
   "cell_type": "markdown",
   "id": "e035eff6",
   "metadata": {},
   "source": [
    "How to interpret p > |z|\n",
    "\n",
    "\n",
    "The value of 0.000 in the P>|z| column for the attributes shows that the effect of each attribute on Outcome is statistically significant at conventional levels of significance. Thus, we can have confidence that the relationship between each of these independent attributes and heart attack observed in this dataset is unlikely to be solely attributable to sampling error. The values in the `[0.025 and 0.975]` columns provide the 95% confidence interval for the regression weight for each independent attribute. The fact that the 95% confidence interval for the attributes does not cross the value of 0 also tells us that their effect on heart attack in this model is statistically significant, at the 5% level of significance."
   ]
  },
  {
   "cell_type": "code",
   "execution_count": 67,
   "id": "20f12072",
   "metadata": {},
   "outputs": [
    {
     "data": {
      "text/plain": [
       "0      0.835834\n",
       "1      0.881751\n",
       "2      0.963506\n",
       "3      0.940373\n",
       "4      0.861616\n",
       "         ...   \n",
       "298    0.297058\n",
       "299    0.629643\n",
       "300    0.014491\n",
       "301    0.038611\n",
       "302    0.888577\n",
       "Length: 302, dtype: float64"
      ]
     },
     "execution_count": 67,
     "metadata": {},
     "output_type": "execute_result"
    }
   ],
   "source": [
    "y_pred_statsm = log_statsm.predict(X2)\n",
    "\n",
    "y_pred_statsm"
   ]
  },
  {
   "cell_type": "markdown",
   "id": "bc718cc8",
   "metadata": {},
   "source": [
    "**C. Decision Tree Classification**\n",
    "\n",
    "I want to try Decision Tress with and without feature scaling. And also apply post pruning to help prevent over-fitting"
   ]
  },
  {
   "cell_type": "code",
   "execution_count": 43,
   "id": "88cb2683",
   "metadata": {},
   "outputs": [
    {
     "data": {
      "text/plain": [
       "array([[  1. ,   0. ,   0. , ..., 206. , 132. ,   2.4],\n",
       "       [  1. ,   0. ,   0. , ..., 282. ,  95. ,   2. ],\n",
       "       [  0. ,   1. ,   0. , ..., 232. , 165. ,   1.6],\n",
       "       ...,\n",
       "       [  0. ,   0. ,   1. , ..., 193. , 162. ,   1.9],\n",
       "       [  0. ,   1. ,   0. , ..., 257. , 156. ,   0. ],\n",
       "       [  0. ,   1. ,   0. , ..., 224. , 173. ,   3.2]])"
      ]
     },
     "execution_count": 43,
     "metadata": {},
     "output_type": "execute_result"
    }
   ],
   "source": [
    "X_train_wo_scale"
   ]
  },
  {
   "cell_type": "code",
   "execution_count": 44,
   "id": "54ed08fa",
   "metadata": {},
   "outputs": [
    {
     "name": "stdout",
     "output_type": "stream",
     "text": [
      "Confusion Matric:\n",
      "[[26  7]\n",
      " [ 9 34]]\n",
      "Accuracy: 0.7894736842105263\n"
     ]
    }
   ],
   "source": [
    "from sklearn.tree import DecisionTreeClassifier\n",
    "from sklearn.metrics import confusion_matrix, accuracy_score\n",
    "\n",
    "tree_classifier_wo_scaling = DecisionTreeClassifier(criterion = 'gini', random_state = 0)\n",
    "tree_classifier_wo_scaling.fit(X_train_wo_scale, y_train_wo_scale)\n",
    "\n",
    "y_pred_tree_wo_scale = tree_classifier_wo_scaling.predict(X_test_wo_scale)\n",
    "\n",
    "print(\"Confusion Matrix:\\n{}\".format(confusion_matrix(y_test_wo_scale, y_pred_tree_wo_scale)))\n",
    "\n",
    "print(\"Accuracy: {}\".format(accuracy_score(y_test_wo_scale, y_pred_tree_wo_scale)))"
   ]
  },
  {
   "cell_type": "markdown",
   "id": "08cb2f8f",
   "metadata": {},
   "source": [
    "Using Gini impurity as cost function did a better job than entropy here"
   ]
  },
  {
   "cell_type": "code",
   "execution_count": 45,
   "id": "897e84eb",
   "metadata": {},
   "outputs": [
    {
     "data": {
      "text/plain": [
       "array([0.69565217, 0.69565217, 0.7826087 , 0.73913043, 0.73913043,\n",
       "       0.73913043, 0.72727273, 0.86363636, 0.72727273, 0.86363636])"
      ]
     },
     "execution_count": 45,
     "metadata": {},
     "output_type": "execute_result"
    }
   ],
   "source": [
    "from sklearn.model_selection import cross_val_score\n",
    "cross_val_score(tree_classifier_wo_scaling, X_train_wo_scale, y_train_wo_scale, cv= 10)"
   ]
  },
  {
   "cell_type": "code",
   "execution_count": 46,
   "id": "83009aa3",
   "metadata": {},
   "outputs": [
    {
     "name": "stdout",
     "output_type": "stream",
     "text": [
      "Confusion Matrix: \n",
      "[[26  7]\n",
      " [ 9 34]]\n",
      "Accuracy of the model: 0.7894736842105263\n"
     ]
    }
   ],
   "source": [
    "from sklearn.tree import DecisionTreeClassifier\n",
    "tree_classifier = DecisionTreeClassifier(criterion = 'gini', random_state = 0)\n",
    "tree_classifier.fit(X_train, y_train)\n",
    "\n",
    "y_pred_tree = tree_classifier.predict(X_test)\n",
    "\n",
    "# Confusion Matrix\n",
    "cm = confusion_matrix(y_test, y_pred_tree)\n",
    "print(\"Confusion Matrix: \\n{}\".format(cm))\n",
    "\n",
    "# Accuracy score\n",
    "print(\"Accuracy of the model: {}\".format(accuracy_score(y_test, y_pred_tree)))"
   ]
  },
  {
   "cell_type": "markdown",
   "id": "006fa3f8",
   "metadata": {},
   "source": [
    "Feature scaling doesn't really make any difference in this use so I would rather use the model without it. Now let's look into visualising the descision tree"
   ]
  },
  {
   "cell_type": "code",
   "execution_count": 47,
   "id": "59e46e4d",
   "metadata": {},
   "outputs": [
    {
     "name": "stdout",
     "output_type": "stream",
     "text": [
      "|--- feature_7 <= 0.50\n",
      "|   |--- feature_12 <= 0.50\n",
      "|   |   |--- feature_13 <= 51.50\n",
      "|   |   |   |--- feature_15 <= 215.00\n",
      "|   |   |   |   |--- feature_16 <= 150.00\n",
      "|   |   |   |   |   |--- class: 0\n",
      "|   |   |   |   |--- feature_16 >  150.00\n",
      "|   |   |   |   |   |--- class: 1\n",
      "|   |   |   |--- feature_15 >  215.00\n",
      "|   |   |   |   |--- class: 0\n",
      "|   |   |--- feature_13 >  51.50\n",
      "|   |   |   |--- feature_11 <= 0.50\n",
      "|   |   |   |   |--- feature_13 <= 66.50\n",
      "|   |   |   |   |   |--- feature_16 <= 143.00\n",
      "|   |   |   |   |   |   |--- feature_16 <= 140.50\n",
      "|   |   |   |   |   |   |   |--- class: 1\n",
      "|   |   |   |   |   |   |--- feature_16 >  140.50\n",
      "|   |   |   |   |   |   |   |--- class: 0\n",
      "|   |   |   |   |   |--- feature_16 >  143.00\n",
      "|   |   |   |   |   |   |--- class: 1\n",
      "|   |   |   |   |--- feature_13 >  66.50\n",
      "|   |   |   |   |   |--- feature_8 <= 0.50\n",
      "|   |   |   |   |   |   |--- class: 1\n",
      "|   |   |   |   |   |--- feature_8 >  0.50\n",
      "|   |   |   |   |   |   |--- class: 0\n",
      "|   |   |   |--- feature_11 >  0.50\n",
      "|   |   |   |   |--- feature_17 <= 1.55\n",
      "|   |   |   |   |   |--- feature_6 <= 0.50\n",
      "|   |   |   |   |   |   |--- feature_8 <= 0.50\n",
      "|   |   |   |   |   |   |   |--- class: 0\n",
      "|   |   |   |   |   |   |--- feature_8 >  0.50\n",
      "|   |   |   |   |   |   |   |--- class: 1\n",
      "|   |   |   |   |   |--- feature_6 >  0.50\n",
      "|   |   |   |   |   |   |--- class: 0\n",
      "|   |   |   |   |--- feature_17 >  1.55\n",
      "|   |   |   |   |   |--- class: 0\n",
      "|   |--- feature_12 >  0.50\n",
      "|   |   |--- feature_14 <= 97.00\n",
      "|   |   |   |--- class: 1\n",
      "|   |   |--- feature_14 >  97.00\n",
      "|   |   |   |--- feature_12 <= 3.50\n",
      "|   |   |   |   |--- feature_13 <= 63.50\n",
      "|   |   |   |   |   |--- class: 0\n",
      "|   |   |   |   |--- feature_13 >  63.50\n",
      "|   |   |   |   |   |--- feature_12 <= 1.50\n",
      "|   |   |   |   |   |   |--- feature_14 <= 144.00\n",
      "|   |   |   |   |   |   |   |--- class: 1\n",
      "|   |   |   |   |   |   |--- feature_14 >  144.00\n",
      "|   |   |   |   |   |   |   |--- class: 0\n",
      "|   |   |   |   |   |--- feature_12 >  1.50\n",
      "|   |   |   |   |   |   |--- class: 0\n",
      "|   |   |   |--- feature_12 >  3.50\n",
      "|   |   |   |   |--- feature_17 <= 0.25\n",
      "|   |   |   |   |   |--- class: 0\n",
      "|   |   |   |   |--- feature_17 >  0.25\n",
      "|   |   |   |   |   |--- class: 1\n",
      "|--- feature_7 >  0.50\n",
      "|   |--- feature_12 <= 0.50\n",
      "|   |   |--- feature_17 <= 2.80\n",
      "|   |   |   |--- feature_16 <= 83.50\n",
      "|   |   |   |   |--- class: 0\n",
      "|   |   |   |--- feature_16 >  83.50\n",
      "|   |   |   |   |--- feature_16 <= 160.50\n",
      "|   |   |   |   |   |--- feature_8 <= 0.50\n",
      "|   |   |   |   |   |   |--- feature_14 <= 146.00\n",
      "|   |   |   |   |   |   |   |--- class: 1\n",
      "|   |   |   |   |   |   |--- feature_14 >  146.00\n",
      "|   |   |   |   |   |   |   |--- feature_13 <= 63.00\n",
      "|   |   |   |   |   |   |   |   |--- class: 0\n",
      "|   |   |   |   |   |   |   |--- feature_13 >  63.00\n",
      "|   |   |   |   |   |   |   |   |--- class: 1\n",
      "|   |   |   |   |   |--- feature_8 >  0.50\n",
      "|   |   |   |   |   |   |--- feature_15 <= 267.50\n",
      "|   |   |   |   |   |   |   |--- feature_14 <= 109.00\n",
      "|   |   |   |   |   |   |   |   |--- class: 0\n",
      "|   |   |   |   |   |   |   |--- feature_14 >  109.00\n",
      "|   |   |   |   |   |   |   |   |--- class: 1\n",
      "|   |   |   |   |   |   |--- feature_15 >  267.50\n",
      "|   |   |   |   |   |   |   |--- feature_13 <= 65.00\n",
      "|   |   |   |   |   |   |   |   |--- class: 0\n",
      "|   |   |   |   |   |   |   |--- feature_13 >  65.00\n",
      "|   |   |   |   |   |   |   |   |--- class: 1\n",
      "|   |   |   |   |--- feature_16 >  160.50\n",
      "|   |   |   |   |   |--- class: 1\n",
      "|   |   |--- feature_17 >  2.80\n",
      "|   |   |   |--- feature_14 <= 135.00\n",
      "|   |   |   |   |--- class: 1\n",
      "|   |   |   |--- feature_14 >  135.00\n",
      "|   |   |   |   |--- class: 0\n",
      "|   |--- feature_12 >  0.50\n",
      "|   |   |--- feature_0 <= 0.50\n",
      "|   |   |   |--- feature_15 <= 162.00\n",
      "|   |   |   |   |--- class: 0\n",
      "|   |   |   |--- feature_15 >  162.00\n",
      "|   |   |   |   |--- feature_1 <= 0.50\n",
      "|   |   |   |   |   |--- feature_14 <= 139.00\n",
      "|   |   |   |   |   |   |--- feature_13 <= 56.00\n",
      "|   |   |   |   |   |   |   |--- class: 1\n",
      "|   |   |   |   |   |   |--- feature_13 >  56.00\n",
      "|   |   |   |   |   |   |   |--- class: 0\n",
      "|   |   |   |   |   |--- feature_14 >  139.00\n",
      "|   |   |   |   |   |   |--- class: 1\n",
      "|   |   |   |   |--- feature_1 >  0.50\n",
      "|   |   |   |   |   |--- class: 1\n",
      "|   |   |--- feature_0 >  0.50\n",
      "|   |   |   |--- feature_10 <= 0.50\n",
      "|   |   |   |   |--- class: 0\n",
      "|   |   |   |--- feature_10 >  0.50\n",
      "|   |   |   |   |--- feature_13 <= 63.50\n",
      "|   |   |   |   |   |--- class: 0\n",
      "|   |   |   |   |--- feature_13 >  63.50\n",
      "|   |   |   |   |   |--- class: 1\n",
      "\n"
     ]
    }
   ],
   "source": [
    "from sklearn import tree\n",
    "text_representation = tree.export_text(tree_classifier_wo_scaling)\n",
    "print(text_representation)"
   ]
  },
  {
   "cell_type": "code",
   "execution_count": 48,
   "id": "dde7c925",
   "metadata": {},
   "outputs": [],
   "source": [
    "X_feature_names = ['Asmptomatic', 'AtypicalAngina', 'Non-anginal', 'Downslope', 'Flat', \\\n",
    "                  'FixedDefect', 'ReversibleDefect', 'Normal', 'sex', 'fbs', 'restecg', 'exng', 'caa',\\\n",
    "                   'age', 'trtbps', 'chol', 'thalachh', 'oldpeak']"
   ]
  },
  {
   "cell_type": "code",
   "execution_count": 49,
   "id": "44b6a0a4",
   "metadata": {},
   "outputs": [
    {
     "data": {
      "image/png": "[encoded data removed]",
      "text/plain": [
       "<Figure size 1800x1440 with 1 Axes>"
      ]
     },
     "metadata": {
      "needs_background": "light"
     },
     "output_type": "display_data"
    }
   ],
   "source": [
    "import matplotlib.pyplot as plt\n",
    "from sklearn.tree import plot_tree\n",
    "\n",
    "fig = plt.figure(figsize=(25,20))\n",
    "plot_tree(tree_classifier_wo_scaling, feature_names=X_feature_names, class_names = ['safe', 'unsafe'], \\\n",
    "           filled=True)\n",
    "plt.show()"
   ]
  },
  {
   "cell_type": "markdown",
   "id": "26846150",
   "metadata": {},
   "source": [
    "Now I want to look into post pruning of Decision trees to overcome overfitting.  \n",
    "\n",
    "DecisionTreeClassifier.cost_complexity_pruning_path in sklearn returns the effective alphas and the corresponding total leaf impurities at each step of the pruning process. As alpha increases, more of the tree is pruned, which increases the total impurity of its leaves."
   ]
  },
  {
   "cell_type": "code",
   "execution_count": 50,
   "id": "16a3d36d",
   "metadata": {},
   "outputs": [
    {
     "data": {
      "text/plain": [
       "Text(0.5, 1.0, 'Total Impurity vs effective alpha for training set')"
      ]
     },
     "execution_count": 50,
     "metadata": {},
     "output_type": "execute_result"
    },
    {
     "data": {
      "image/png": "[encoded data removed]",
      "text/plain": [
       "<Figure size 432x288 with 1 Axes>"
      ]
     },
     "metadata": {
      "needs_background": "light"
     },
     "output_type": "display_data"
    }
   ],
   "source": [
    "clf = DecisionTreeClassifier()\n",
    "path = clf.cost_complexity_pruning_path(X_train_wo_scale, y_train_wo_scale)\n",
    "ccp_alphas, impurities = path.ccp_alphas, path.impurities\n",
    "\n",
    "\n",
    "fig, ax = plt.subplots()\n",
    "ax.plot(ccp_alphas[:-1], impurities[:-1], marker=\"o\", drawstyle=\"steps-post\")\n",
    "ax.set_xlabel(\"effective alpha\")\n",
    "ax.set_ylabel(\"total impurity of leaves\")\n",
    "ax.set_title(\"Total Impurity vs effective alpha for training set\")"
   ]
  },
  {
   "cell_type": "code",
   "execution_count": 51,
   "id": "ada805b1",
   "metadata": {},
   "outputs": [
    {
     "data": {
      "text/plain": [
       "(array([0.        , 0.00282694, 0.00387168, 0.00442478, 0.00517541,\n",
       "        0.00589971, 0.00660029, 0.00716393, 0.00768191, 0.00778772,\n",
       "        0.00780843, 0.00943953, 0.01061947, 0.01117839, 0.01152729,\n",
       "        0.01228727, 0.02774533, 0.03498452, 0.03812601, 0.13864465]),\n",
       " array([0.        , 0.00848083, 0.02396755, 0.02839233, 0.04909397,\n",
       "        0.06089338, 0.09389486, 0.12255057, 0.13023248, 0.1380202 ,\n",
       "        0.15363706, 0.16307659, 0.17369606, 0.19605284, 0.20758013,\n",
       "        0.2198674 , 0.24761273, 0.28259725, 0.35884928, 0.49749393]))"
      ]
     },
     "execution_count": 51,
     "metadata": {},
     "output_type": "execute_result"
    }
   ],
   "source": [
    "ccp_alphas, impurities"
   ]
  },
  {
   "cell_type": "markdown",
   "id": "4ed884c1",
   "metadata": {},
   "source": [
    "Next, we train a decision tree using the effective alphas. The last value in ccp_alphas is the alpha value that prunes the whole tree, leaving the tree, clfs[-1], with one node."
   ]
  },
  {
   "cell_type": "code",
   "execution_count": 52,
   "id": "86ef1904",
   "metadata": {},
   "outputs": [
    {
     "name": "stdout",
     "output_type": "stream",
     "text": [
      "Number of nodes in the last tree is: 1 with ccp_alpha: 0.13864465296323447\n"
     ]
    }
   ],
   "source": [
    "\n",
    "clfs = []\n",
    "for ccp_alpha in ccp_alphas:\n",
    "    clf = DecisionTreeClassifier(random_state=0, ccp_alpha=ccp_alpha)\n",
    "    clf.fit(X_train_wo_scale, y_train_wo_scale)\n",
    "    clfs.append(clf)\n",
    "print(\n",
    "    \"Number of nodes in the last tree is: {} with ccp_alpha: {}\".format(\n",
    "        clfs[-1].tree_.node_count, ccp_alphas[-1]\n",
    "    )\n",
    ")"
   ]
  },
  {
   "cell_type": "markdown",
   "id": "7a940d87",
   "metadata": {},
   "source": [
    "For the remainder of this example, we remove the last element in clfs and ccp_alphas, because it is the trivial tree with only one node. Here we show that the number of nodes and tree depth decreases as alpha increases."
   ]
  },
  {
   "cell_type": "code",
   "execution_count": 53,
   "id": "a08f42a1",
   "metadata": {},
   "outputs": [
    {
     "data": {
      "image/png": "[encoded data removed]",
      "text/plain": [
       "<Figure size 432x288 with 2 Axes>"
      ]
     },
     "metadata": {
      "needs_background": "light"
     },
     "output_type": "display_data"
    }
   ],
   "source": [
    "clfs = clfs[:-1]\n",
    "ccp_alphas = ccp_alphas[:-1]\n",
    "\n",
    "node_counts = [clf.tree_.node_count for clf in clfs]\n",
    "depth = [clf.tree_.max_depth for clf in clfs]\n",
    "fig, ax = plt.subplots(2, 1)\n",
    "ax[0].plot(ccp_alphas, node_counts, marker=\"o\", drawstyle=\"steps-post\")\n",
    "ax[0].set_xlabel(\"alpha\")\n",
    "ax[0].set_ylabel(\"number of nodes\")\n",
    "ax[0].set_title(\"Number of nodes vs alpha\")\n",
    "ax[1].plot(ccp_alphas, depth, marker=\"o\", drawstyle=\"steps-post\")\n",
    "ax[1].set_xlabel(\"alpha\")\n",
    "ax[1].set_ylabel(\"depth of tree\")\n",
    "ax[1].set_title(\"Depth vs alpha\")\n",
    "fig.tight_layout()\n"
   ]
  },
  {
   "cell_type": "markdown",
   "id": "8bab5eb4",
   "metadata": {},
   "source": [
    "When ccp_alpha is set to zero and keeping the other default parameters of DecisionTreeClassifier, the tree overfits, leading to a 100% training accuracy and 79% testing accuracy. As alpha increases, more of the tree is pruned, thus creating a decision tree that generalizes better. In this example, setting ccp_alpha=0.012 maximizes the testing accuracy."
   ]
  },
  {
   "cell_type": "code",
   "execution_count": 54,
   "id": "f34dfc2d",
   "metadata": {},
   "outputs": [
    {
     "data": {
      "image/png": "[encoded data removed]",
      "text/plain": [
       "<Figure size 432x288 with 1 Axes>"
      ]
     },
     "metadata": {
      "needs_background": "light"
     },
     "output_type": "display_data"
    }
   ],
   "source": [
    "train_scores = [clf.score(X_train_wo_scale, y_train_wo_scale) for clf in clfs]\n",
    "test_scores = [clf.score(X_test_wo_scale, y_test_wo_scale) for clf in clfs]\n",
    "\n",
    "fig, ax = plt.subplots()\n",
    "ax.set_xlabel(\"alpha\")\n",
    "ax.set_ylabel(\"accuracy\")\n",
    "ax.set_title(\"Accuracy vs alpha for training and testing sets\")\n",
    "ax.plot(ccp_alphas, train_scores, marker=\"o\", label=\"train\", drawstyle=\"steps-post\")\n",
    "ax.plot(ccp_alphas, test_scores, marker=\"o\", label=\"test\", drawstyle=\"steps-post\")\n",
    "ax.legend()\n",
    "plt.show()"
   ]
  },
  {
   "cell_type": "markdown",
   "id": "44e05b8d",
   "metadata": {},
   "source": [
    "Looking at the graph below we observe the relationship between alpha and accuracy. The sweet spot is somewhere around 0.011 alpha"
   ]
  },
  {
   "cell_type": "code",
   "execution_count": 55,
   "id": "2d73bb51",
   "metadata": {},
   "outputs": [
    {
     "data": {
      "text/plain": [
       "Text(0, 0.5, 'Accuracy scores')"
      ]
     },
     "execution_count": 55,
     "metadata": {},
     "output_type": "execute_result"
    },
    {
     "data": {
      "image/png": "[encoded data removed]",
      "text/plain": [
       "<Figure size 720x432 with 1 Axes>"
      ]
     },
     "metadata": {
      "needs_background": "light"
     },
     "output_type": "display_data"
    }
   ],
   "source": [
    "from sklearn.metrics import accuracy_score\n",
    "\n",
    "acc_scores = [accuracy_score(y_test_wo_scale, clf.predict(X_test_wo_scale)) for clf in clfs]\n",
    "\n",
    "tree_depths = [clf.tree_.max_depth for clf in clfs]\n",
    "plt.figure(figsize=(10,  6))\n",
    "plt.grid()\n",
    "plt.plot(ccp_alphas[:-1], acc_scores[:-1])\n",
    "plt.xlabel(\"effective alpha\")\n",
    "plt.ylabel(\"Accuracy scores\")"
   ]
  },
  {
   "cell_type": "code",
   "execution_count": 56,
   "id": "576acf5a",
   "metadata": {},
   "outputs": [
    {
     "data": {
      "text/plain": [
       "(array([0.        , 0.00282694, 0.00387168, 0.00442478, 0.00517541,\n",
       "        0.00589971, 0.00660029, 0.00716393, 0.00768191, 0.00778772,\n",
       "        0.00780843, 0.00943953, 0.01061947, 0.01117839, 0.01152729,\n",
       "        0.01228727, 0.02774533, 0.03498452, 0.03812601]),\n",
       " [0.7894736842105263,\n",
       "  0.7894736842105263,\n",
       "  0.7894736842105263,\n",
       "  0.7763157894736842,\n",
       "  0.7894736842105263,\n",
       "  0.7763157894736842,\n",
       "  0.7894736842105263,\n",
       "  0.7763157894736842,\n",
       "  0.7763157894736842,\n",
       "  0.7763157894736842,\n",
       "  0.7763157894736842,\n",
       "  0.8026315789473685,\n",
       "  0.8026315789473685,\n",
       "  0.8157894736842105,\n",
       "  0.8157894736842105,\n",
       "  0.75,\n",
       "  0.7763157894736842,\n",
       "  0.7763157894736842,\n",
       "  0.7631578947368421])"
      ]
     },
     "execution_count": 56,
     "metadata": {},
     "output_type": "execute_result"
    }
   ],
   "source": [
    "ccp_alphas, acc_scores"
   ]
  },
  {
   "cell_type": "code",
   "execution_count": 57,
   "id": "7ed946c7",
   "metadata": {},
   "outputs": [
    {
     "name": "stdout",
     "output_type": "stream",
     "text": [
      "Confusion Matric:\n",
      "[[26  7]\n",
      " [ 7 36]]\n",
      "Accuracy: 0.8157894736842105\n"
     ]
    }
   ],
   "source": [
    "from sklearn.tree import DecisionTreeClassifier\n",
    "from sklearn.metrics import confusion_matrix, accuracy_score\n",
    "\n",
    "tree_classifier_wo_scaling = DecisionTreeClassifier(criterion = 'gini', random_state = 0, ccp_alpha=0.0112)\n",
    "tree_classifier_wo_scaling.fit(X_train_wo_scale, y_train_wo_scale)\n",
    "\n",
    "y_pred_tree_wo_scale = tree_classifier_wo_scaling.predict(X_test_wo_scale)\n",
    "\n",
    "print(\"Confusion Matric:\\n{}\".format(confusion_matrix(y_test_wo_scale, y_pred_tree_wo_scale)))\n",
    "\n",
    "print(\"Accuracy: {}\".format(accuracy_score(y_test_wo_scale, y_pred_tree_wo_scale)))"
   ]
  },
  {
   "cell_type": "code",
   "execution_count": 58,
   "id": "95f13eee",
   "metadata": {},
   "outputs": [
    {
     "data": {
      "image/png": "[encoded data removed]",
      "text/plain": [
       "<Figure size 1800x1440 with 1 Axes>"
      ]
     },
     "metadata": {
      "needs_background": "light"
     },
     "output_type": "display_data"
    }
   ],
   "source": [
    "import matplotlib.pyplot as plt\n",
    "from sklearn.tree import plot_tree\n",
    "\n",
    "fig = plt.figure(figsize=(25,20))\n",
    "plot_tree(tree_classifier_wo_scaling, feature_names=X_feature_names, class_names = ['safe', 'unsafe'], \\\n",
    "           filled=True)\n",
    "plt.show()"
   ]
  },
  {
   "cell_type": "code",
   "execution_count": 59,
   "id": "0ced00f5",
   "metadata": {},
   "outputs": [
    {
     "ename": "ImportError",
     "evalue": "cannot import name 'dtreeviz' from 'dtreeviz.trees' (/Users/shipsinh/opt/anaconda3/lib/python3.9/site-packages/dtreeviz/trees.py)",
     "output_type": "error",
     "traceback": [
      "\u001b[0;31m---------------------------------------------------------------------------\u001b[0m",
      "\u001b[0;31mImportError\u001b[0m                               Traceback (most recent call last)",
      "Input \u001b[0;32mIn [59]\u001b[0m, in \u001b[0;36m<cell line: 1>\u001b[0;34m()\u001b[0m\n\u001b[0;32m----> 1\u001b[0m \u001b[38;5;28;01mfrom\u001b[39;00m \u001b[38;5;21;01mdtreeviz\u001b[39;00m\u001b[38;5;21;01m.\u001b[39;00m\u001b[38;5;21;01mtrees\u001b[39;00m \u001b[38;5;28;01mimport\u001b[39;00m dtreeviz \u001b[38;5;66;03m# remember to load the package\u001b[39;00m\n\u001b[1;32m      3\u001b[0m viz \u001b[38;5;241m=\u001b[39m dtreeviz(tree_classifier_wo_scaling, X_train_wo_scale, y_train_wo_scale,\n\u001b[1;32m      4\u001b[0m                 target_name\u001b[38;5;241m=\u001b[39m\u001b[38;5;124m\"\u001b[39m\u001b[38;5;124mtarget\u001b[39m\u001b[38;5;124m\"\u001b[39m,\n\u001b[1;32m      5\u001b[0m                 feature_names\u001b[38;5;241m=\u001b[39mX_feature_names,\n\u001b[1;32m      6\u001b[0m                 class_names\u001b[38;5;241m=\u001b[39m\u001b[38;5;28mlist\u001b[39m(y_train_wo_scale))\n\u001b[1;32m      8\u001b[0m viz\n",
      "\u001b[0;31mImportError\u001b[0m: cannot import name 'dtreeviz' from 'dtreeviz.trees' (/Users/shipsinh/opt/anaconda3/lib/python3.9/site-packages/dtreeviz/trees.py)"
     ]
    }
   ],
   "source": [
    "from dtreeviz.trees import dtreeviz # remember to load the package\n",
    "\n",
    "viz = dtreeviz(tree_classifier_wo_scaling, X_train_wo_scale, y_train_wo_scale,\n",
    "                target_name=\"target\",\n",
    "                feature_names=X_feature_names,\n",
    "                class_names=list(y_train_wo_scale))\n",
    "\n",
    "viz"
   ]
  },
  {
   "cell_type": "code",
   "execution_count": 61,
   "id": "0ff3ef76",
   "metadata": {},
   "outputs": [
    {
     "name": "stdout",
     "output_type": "stream",
     "text": [
      "Ranking of features: [ 1  8  7  6  5  4  3  1 10  9  2  1  1  1  1  1  1  1]\n",
      "Boolean value for selected features: [ True False False False False False False  True False False False  True\n",
      "  True  True  True  True  True  True]\n",
      "Confusion Matric:\n",
      "[[26  7]\n",
      " [ 7 36]]\n",
      "Accuracy: 0.8157894736842105\n"
     ]
    }
   ],
   "source": [
    "from sklearn.feature_selection import RFE\n",
    "selector = RFE(tree_classifier_wo_scaling, step=1)\n",
    "selector.fit(X_train_wo_scale, y_train_wo_scale)\n",
    "\n",
    "print(\"Ranking of features: {}\".format(selector.ranking_))\n",
    "\n",
    "X_Selected_features = X_train_wo_scale[:,selector.support_]\n",
    "print(\"Boolean value for selected features: {}\".format(selector.support_))\n",
    "\n",
    "#Re-training the model to see effect\n",
    "tree_classifier_wo_scaling.fit(X_Selected_features, y_train_wo_scale)\n",
    "\n",
    "y_pred_tree_wo_scale = tree_classifier_wo_scaling.predict(X_test_wo_scale[:,selector.support_])\n",
    "\n",
    "print(\"Confusion Matrix:\\n{}\".format(confusion_matrix(y_test_wo_scale, y_pred_tree_wo_scale)))\n",
    "\n",
    "print(\"Accuracy: {}\".format(accuracy_score(y_test_wo_scale, y_pred_tree_wo_scale)))"
   ]
  },
  {
   "cell_type": "code",
   "execution_count": 60,
   "id": "c31bc3bd",
   "metadata": {},
   "outputs": [
    {
     "data": {
      "text/plain": [
       "array([[  1. ,   0. ,   0. , ..., 206. , 132. ,   2.4],\n",
       "       [  1. ,   0. ,   0. , ..., 282. ,  95. ,   2. ],\n",
       "       [  0. ,   1. ,   0. , ..., 232. , 165. ,   1.6],\n",
       "       ...,\n",
       "       [  0. ,   0. ,   1. , ..., 193. , 162. ,   1.9],\n",
       "       [  0. ,   1. ,   0. , ..., 257. , 156. ,   0. ],\n",
       "       [  0. ,   1. ,   0. , ..., 224. , 173. ,   3.2]])"
      ]
     },
     "execution_count": 60,
     "metadata": {},
     "output_type": "execute_result"
    }
   ],
   "source": [
    "X_train_wo_scale"
   ]
  },
  {
   "cell_type": "markdown",
   "id": "4484dd38",
   "metadata": {},
   "source": [
    "**E. Random Forest**"
   ]
  },
  {
   "cell_type": "code",
   "execution_count": 62,
   "id": "8855db71",
   "metadata": {},
   "outputs": [
    {
     "name": "stdout",
     "output_type": "stream",
     "text": [
      "[[26  7]\n",
      " [ 4 39]]\n"
     ]
    },
    {
     "data": {
      "text/plain": [
       "0.8552631578947368"
      ]
     },
     "execution_count": 62,
     "metadata": {},
     "output_type": "execute_result"
    }
   ],
   "source": [
    "from sklearn.ensemble import RandomForestClassifier\n",
    "classifier_rf = RandomForestClassifier(n_estimators = 100, criterion = 'entropy', random_state = 0)\n",
    "classifier_rf.fit(X_train, y_train)\n",
    "\n",
    "y_pred_rf = classifier_rf.predict(X_test)\n",
    "\n",
    "cm = confusion_matrix(y_test, y_pred_rf)\n",
    "print(cm)\n",
    "accuracy_score(y_true=y_test,y_pred=y_pred_rf)"
   ]
  },
  {
   "cell_type": "code",
   "execution_count": 64,
   "id": "bc5ac6de",
   "metadata": {},
   "outputs": [
    {
     "name": "stdout",
     "output_type": "stream",
     "text": [
      "[[26  7]\n",
      " [ 4 39]]\n"
     ]
    },
    {
     "data": {
      "text/plain": [
       "0.8552631578947368"
      ]
     },
     "execution_count": 64,
     "metadata": {},
     "output_type": "execute_result"
    }
   ],
   "source": [
    "# Using gini as cost function\n",
    "classifier_rf = RandomForestClassifier(n_estimators = 100, criterion = 'gini', random_state = 0)\n",
    "classifier_rf.fit(X_train, y_train)\n",
    "\n",
    "y_pred_rf = classifier_rf.predict(X_test)\n",
    "\n",
    "cm = confusion_matrix(y_test, y_pred_rf)\n",
    "print(cm)\n",
    "accuracy_score(y_true=y_test,y_pred=y_pred_rf)"
   ]
  },
  {
   "cell_type": "markdown",
   "id": "6efe6195",
   "metadata": {},
   "source": [
    "I want to find the most optimised Random Forest model. RandomSearchCV and GridSearchCV provide this option. Random Search CV will pick random parameter values from the user provided range and values. Grid Search CV will test all combinations of provided parameter options.\n",
    "\n",
    "I opted for Grid Search Cross Validation for testing out Random Forest model parameters and finding the best performing parameters (**Note: Please don't run the below code again unless needed because it takes time to run**)"
   ]
  },
  {
   "cell_type": "code",
   "execution_count": 72,
   "id": "8107dda6",
   "metadata": {},
   "outputs": [
    {
     "name": "stdout",
     "output_type": "stream",
     "text": [
      "Best parameters: {'max_depth': 8, 'max_features': 'sqrt', 'min_samples_leaf': 3, 'min_samples_split': 2, 'n_estimators': 250}\n"
     ]
    }
   ],
   "source": [
    "# Let's try hyper-parameter tuning\n",
    "from sklearn.model_selection import GridSearchCV\n",
    "\n",
    "parameter_grid = {\n",
    "    'n_estimators': [100, 200, 250],\n",
    "    'max_depth': [5, 8, 10],\n",
    "    'min_samples_split': [2, 5, 10, 15],\n",
    "    'min_samples_leaf': [3, 5, 10, 15],\n",
    "    'max_features': ['sqrt', 'log2']\n",
    "}\n",
    "\n",
    "\n",
    "# Performing Grid search with cross validation\n",
    "grid = GridSearchCV(classifier_rf, parameter_grid, cv =10)\n",
    "grid.fit(X_train, y_train)\n",
    "\n",
    "# grid.verbose()\n",
    "\n",
    "print(\"Best parameters: {}\".format(grid.best_params_))"
   ]
  },
  {
   "cell_type": "code",
   "execution_count": 74,
   "id": "9ec78fe2",
   "metadata": {},
   "outputs": [
    {
     "name": "stdout",
     "output_type": "stream",
     "text": [
      "0.8552631578947368\n"
     ]
    }
   ],
   "source": [
    "best_model = grid.best_estimator_\n",
    "accuracy = best_model.score(X_test, y_test)\n",
    "print(accuracy)"
   ]
  },
  {
   "cell_type": "markdown",
   "id": "c886b311",
   "metadata": {},
   "source": [
    "**B. KNN**"
   ]
  },
  {
   "cell_type": "code",
   "execution_count": 43,
   "id": "42e82ce5",
   "metadata": {},
   "outputs": [
    {
     "data": {
      "image/png": "[encoded data removed]",
      "text/plain": [
       "<Figure size 432x288 with 1 Axes>"
      ]
     },
     "metadata": {
      "needs_background": "light"
     },
     "output_type": "display_data"
    }
   ],
   "source": [
    "# Plot recall vs k\n",
    "train_recall = []\n",
    "test_recall = []\n",
    "\n",
    "k_values = range(1, 11)\n",
    "\n",
    "for k in k_values:\n",
    "    knn = KNeighborsClassifier(n_neighbors=k)\n",
    "    knn.fit(X_train, y_train)\n",
    "    train_recall.append(recall_score(y_train, knn.predict(X_train)))\n",
    "    test_recall.append(recall_score(y_test, knn.predict(X_test)))\n",
    "\n",
    "plt.plot(k_values, train_recall, label='Training Recall')\n",
    "plt.plot(k_values, test_recall, label='Testing Recall')\n",
    "plt.xlabel('K')\n",
    "plt.ylabel('Recall')\n",
    "plt.legend()\n",
    "plt.show()"
   ]
  },
  {
   "cell_type": "code",
   "execution_count": 40,
   "id": "57fdeada",
   "metadata": {},
   "outputs": [
    {
     "name": "stdout",
     "output_type": "stream",
     "text": [
      "Best parameters: {'n_neighbors': 7, 'p': 1, 'weights': 'uniform'}\n",
      "Best score: 0.8925619834710742\n"
     ]
    }
   ],
   "source": [
    "from sklearn.neighbors import KNeighborsClassifier\n",
    "from sklearn.metrics import confusion_matrix, accuracy_score, recall_score\n",
    "from sklearn.model_selection import GridSearchCV\n",
    "\n",
    "params = {'n_neighbors': [3, 5, 7, 9], 'weights': ['uniform', 'distance'], 'p': [1, 2]}\n",
    "scoring_metric = 'recall' # Scoring metric for grid search. By default it takes average of scores \n",
    "                            # across accuracy, precision, recall, F1-score\n",
    "KNN = KNeighborsClassifier()\n",
    "\n",
    "# Perform grid search\n",
    "grid_search = GridSearchCV(KNN, params, cv=11, scoring=scoring_metric)\n",
    "grid_search.fit(X_train, y_train)\n",
    "\n",
    "# Print best parameters and best score\n",
    "print('Best parameters:', grid_search.best_params_)\n",
    "print('Best score:', grid_search.best_score_)"
   ]
  },
  {
   "cell_type": "code",
   "execution_count": 42,
   "id": "bbae774d",
   "metadata": {},
   "outputs": [
    {
     "name": "stdout",
     "output_type": "stream",
     "text": [
      "Accuracy: 0.8421052631578947\n",
      "Recall: 0.9069767441860465\n"
     ]
    }
   ],
   "source": [
    "# Train KNN model with optimal hyperparameters\n",
    "KNN = KNeighborsClassifier(n_neighbors=grid_search.best_params_['n_neighbors'], \n",
    "                           weights=grid_search.best_params_['weights'], \n",
    "                           p=grid_search.best_params_['p'])\n",
    "KNN.fit(X_train, y_train)\n",
    "\n",
    "# Make predictions on test set\n",
    "y_pred = KNN.predict(X_test)\n",
    "print('Accuracy:', accuracy_score(y_test, y_pred))\n",
    "\n",
    "\n",
    "recall = recall_score(y_test, y_pred)\n",
    "print('Recall:', recall)"
   ]
  },
  {
   "cell_type": "markdown",
   "id": "7ab1dece",
   "metadata": {},
   "source": [
    "**D. SVM**"
   ]
  },
  {
   "cell_type": "code",
   "execution_count": 44,
   "id": "54d60d8b",
   "metadata": {},
   "outputs": [
    {
     "name": "stdout",
     "output_type": "stream",
     "text": [
      "[[25  8]\n",
      " [ 6 37]]\n"
     ]
    },
    {
     "data": {
      "text/plain": [
       "0.8157894736842105"
      ]
     },
     "execution_count": 44,
     "metadata": {},
     "output_type": "execute_result"
    }
   ],
   "source": [
    "from sklearn.svm import SVC\n",
    "classifier_svc = SVC(kernel = 'rbf', random_state = 0)\n",
    "classifier_svc.fit(X_train, y_train)\n",
    "\n",
    "y_pred_svm = classifier_svc.predict(X_test)\n",
    "\n",
    "# Confusion Matrix\n",
    "cm = confusion_matrix(y_test, y_pred_svm)\n",
    "print(cm)\n",
    "\n",
    "# Accuracy score\n",
    "accuracy_score(y_true=y_test, y_pred=y_pred_svm)"
   ]
  },
  {
   "cell_type": "code",
   "execution_count": null,
   "id": "0d72fa95",
   "metadata": {},
   "outputs": [],
   "source": []
  }
 ],
 "metadata": {
  "kernelspec": {
   "display_name": "Python 3",
   "language": "python",
   "name": "python3"
  },
  "language_info": {
   "codemirror_mode": {
    "name": "ipython",
    "version": 3
   },
   "file_extension": ".py",
   "mimetype": "text/x-python",
   "name": "python",
   "nbconvert_exporter": "python",
   "pygments_lexer": "ipython3",
   "version": "3.9.12"
  }
 },
 "nbformat": 4,
 "nbformat_minor": 5
}
